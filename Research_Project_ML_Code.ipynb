{
  "nbformat": 4,
  "nbformat_minor": 0,
  "metadata": {
    "colab": {
      "name": "Research Project ML Code.ipynb",
      "provenance": [],
      "collapsed_sections": [],
      "toc_visible": true,
      "include_colab_link": true
    },
    "kernelspec": {
      "name": "python3",
      "display_name": "Python 3"
    }
  },
  "cells": [
    {
      "cell_type": "markdown",
      "metadata": {
        "id": "view-in-github",
        "colab_type": "text"
      },
      "source": [
        "<a href=\"https://colab.research.google.com/github/SaguPandya96/Research-Project-Fall-2020/blob/master/Research_Project_ML_Code.ipynb\" target=\"_parent\"><img src=\"https://colab.research.google.com/assets/colab-badge.svg\" alt=\"Open In Colab\"/></a>"
      ]
    },
    {
      "cell_type": "markdown",
      "metadata": {
        "id": "kigwiiZevz40"
      },
      "source": [
        "# **Research Project**\n"
      ]
    },
    {
      "cell_type": "markdown",
      "metadata": {
        "id": "tl2X-Lh0vSYV"
      },
      "source": [
        "**1. Import the libraries And Data**\n",
        "\n",
        "\n",
        "\n"
      ]
    },
    {
      "cell_type": "code",
      "metadata": {
        "id": "kf4FeK6fBw4M",
        "outputId": "85804c97-24f0-4d04-b3c0-a9c1233b9471",
        "colab": {
          "base_uri": "https://localhost:8080/",
          "height": 35
        }
      },
      "source": [
        "!git clone https://github.com/facebookresearch/fastText.git"
      ],
      "execution_count": 2,
      "outputs": [
        {
          "output_type": "stream",
          "text": [
            "fatal: destination path 'fastText' already exists and is not an empty directory.\n"
          ],
          "name": "stdout"
        }
      ]
    },
    {
      "cell_type": "code",
      "metadata": {
        "id": "ndwUTvMpByb7",
        "outputId": "7b2f7da4-3083-4d9e-d3ff-ad7ee4da4aa6",
        "colab": {
          "base_uri": "https://localhost:8080/",
          "height": 301
        }
      },
      "source": [
        "%cd fastText\n",
        "!pip install ."
      ],
      "execution_count": 3,
      "outputs": [
        {
          "output_type": "stream",
          "text": [
            "/content/fastText\n",
            "Processing /content/fastText\n",
            "Requirement already satisfied: pybind11>=2.2 in /usr/local/lib/python3.6/dist-packages (from fasttext==0.9.2) (2.5.0)\n",
            "Requirement already satisfied: setuptools>=0.7.0 in /usr/local/lib/python3.6/dist-packages (from fasttext==0.9.2) (50.3.0)\n",
            "Requirement already satisfied: numpy in /usr/local/lib/python3.6/dist-packages (from fasttext==0.9.2) (1.18.5)\n",
            "Building wheels for collected packages: fasttext\n",
            "  Building wheel for fasttext (setup.py) ... \u001b[?25l\u001b[?25hdone\n",
            "  Created wheel for fasttext: filename=fasttext-0.9.2-cp36-cp36m-linux_x86_64.whl size=3010555 sha256=0b32db36f3bfad996f34bf53637871d39b20e7034377078bad45ae260626f979\n",
            "  Stored in directory: /tmp/pip-ephem-wheel-cache-auheclgr/wheels/a1/9f/52/696ce6c5c46325e840c76614ee5051458c0df10306987e7443\n",
            "Successfully built fasttext\n",
            "Installing collected packages: fasttext\n",
            "  Found existing installation: fasttext 0.9.2\n",
            "    Uninstalling fasttext-0.9.2:\n",
            "      Successfully uninstalled fasttext-0.9.2\n",
            "Successfully installed fasttext-0.9.2\n"
          ],
          "name": "stdout"
        }
      ]
    },
    {
      "cell_type": "code",
      "metadata": {
        "id": "to5H5OFAw_sy",
        "outputId": "37af8704-e878-4c57-fe03-84bc5ef153ae",
        "colab": {
          "base_uri": "https://localhost:8080/",
          "height": 87
        }
      },
      "source": [
        "import pandas as pd\n",
        "import string\n",
        "\n",
        "from textblob.classifiers import NaiveBayesClassifier as NBC\n",
        "from textblob.classifiers import DecisionTreeClassifier\n",
        "from sklearn.metrics import f1_score\n",
        "import nltk\n",
        "nltk.download('punkt')\n",
        "nltk.download('stopwords')\n",
        "\n",
        "import itertools\n",
        "from sklearn.feature_extraction.text import TfidfVectorizer\n",
        "from sklearn.neural_network import MLPClassifier\n",
        "from sklearn.metrics import classification_report\n",
        "from sklearn import svm\n",
        "from sklearn.utils import shuffle\n",
        "import numpy as np\n",
        "\n",
        "'''\n",
        "FastText requires specific training file format - see\n",
        "https://github.com/facebookresearch/fastText for details.\n",
        "'''\n",
        "from nltk.stem.porter import PorterStemmer\n",
        "from nltk.stem.lancaster import LancasterStemmer\n",
        "from nltk.stem import SnowballStemmer\n",
        "from nltk.corpus import stopwords\n",
        "import fasttext\n",
        "from sklearn.utils import shuffle\n",
        "from sklearn.metrics import f1_score\n"
      ],
      "execution_count": 5,
      "outputs": [
        {
          "output_type": "stream",
          "text": [
            "[nltk_data] Downloading package punkt to /root/nltk_data...\n",
            "[nltk_data]   Package punkt is already up-to-date!\n",
            "[nltk_data] Downloading package stopwords to /root/nltk_data...\n",
            "[nltk_data]   Package stopwords is already up-to-date!\n"
          ],
          "name": "stdout"
        }
      ]
    },
    {
      "cell_type": "code",
      "metadata": {
        "id": "FN6j-5QwfN89",
        "outputId": "7425acad-9a14-4165-bfe6-8a919dcdfdfb",
        "colab": {
          "base_uri": "https://localhost:8080/",
          "height": 35
        }
      },
      "source": [
        "from google.colab import drive\n",
        "drive.mount('/content/drive')"
      ],
      "execution_count": 6,
      "outputs": [
        {
          "output_type": "stream",
          "text": [
            "Drive already mounted at /content/drive; to attempt to forcibly remount, call drive.mount(\"/content/drive\", force_remount=True).\n"
          ],
          "name": "stdout"
        }
      ]
    },
    {
      "cell_type": "markdown",
      "metadata": {
        "id": "D2TU9VquwGaa"
      },
      "source": [
        "**2. Import the Chromium Data**"
      ]
    },
    {
      "cell_type": "code",
      "metadata": {
        "id": "ycQgrK-pAjBv",
        "outputId": "e664342f-7237-4c89-d1a2-ad29494eb738",
        "colab": {
          "base_uri": "https://localhost:8080/",
          "height": 220
        }
      },
      "source": [
        "#load data\n",
        "DATA_PATH1 = '/content/drive/My Drive/Research Project/chromium.csv'\n",
        "data1 = pd.read_csv(DATA_PATH1, sep='\\t')\n",
        "data_top1 = data1.head()\n",
        "print(\"Chromium Data\")\n",
        "data_top1"
      ],
      "execution_count": 7,
      "outputs": [
        {
          "output_type": "stream",
          "text": [
            "Chromium Data\n"
          ],
          "name": "stdout"
        },
        {
          "output_type": "execute_result",
          "data": {
            "text/html": [
              "<div>\n",
              "<style scoped>\n",
              "    .dataframe tbody tr th:only-of-type {\n",
              "        vertical-align: middle;\n",
              "    }\n",
              "\n",
              "    .dataframe tbody tr th {\n",
              "        vertical-align: top;\n",
              "    }\n",
              "\n",
              "    .dataframe thead th {\n",
              "        text-align: right;\n",
              "    }\n",
              "</style>\n",
              "<table border=\"1\" class=\"dataframe\">\n",
              "  <thead>\n",
              "    <tr style=\"text-align: right;\">\n",
              "      <th></th>\n",
              "      <th>title</th>\n",
              "      <th>description</th>\n",
              "      <th>type</th>\n",
              "    </tr>\n",
              "  </thead>\n",
              "  <tbody>\n",
              "    <tr>\n",
              "      <th>0</th>\n",
              "      <td>Define a way to enforce performance constraint...</td>\n",
              "      <td>\\nThere are cases where tests should fail if a...</td>\n",
              "      <td>Bug</td>\n",
              "    </tr>\n",
              "    <tr>\n",
              "      <th>1</th>\n",
              "      <td>Websites that don't work with Chrome Browser</td>\n",
              "      <td>\\nChrome Version       : 3.0.195.10\\r\\nURLs (i...</td>\n",
              "      <td>Compat</td>\n",
              "    </tr>\n",
              "    <tr>\n",
              "      <th>2</th>\n",
              "      <td>Redraw issue/truncation with confirmation item...</td>\n",
              "      <td>\\nChromium 0.3.155.0 (Developer Build 3546)\\r\\...</td>\n",
              "      <td>Bug</td>\n",
              "    </tr>\n",
              "    <tr>\n",
              "      <th>3</th>\n",
              "      <td>Implement CanvasRenderingContext2D for access ...</td>\n",
              "      <td>\\nApplications that do background image proces...</td>\n",
              "      <td>Feature</td>\n",
              "    </tr>\n",
              "    <tr>\n",
              "      <th>4</th>\n",
              "      <td>ath9k: panic in ath_tx_last_beacon + 0x29a</td>\n",
              "      <td>\\nToT (3.0 kernel) panic'd on resume.  Was ass...</td>\n",
              "      <td>Bug</td>\n",
              "    </tr>\n",
              "  </tbody>\n",
              "</table>\n",
              "</div>"
            ],
            "text/plain": [
              "                                               title  ...     type\n",
              "0  Define a way to enforce performance constraint...  ...      Bug\n",
              "1       Websites that don't work with Chrome Browser  ...   Compat\n",
              "2  Redraw issue/truncation with confirmation item...  ...      Bug\n",
              "3  Implement CanvasRenderingContext2D for access ...  ...  Feature\n",
              "4         ath9k: panic in ath_tx_last_beacon + 0x29a  ...      Bug\n",
              "\n",
              "[5 rows x 3 columns]"
            ]
          },
          "metadata": {
            "tags": []
          },
          "execution_count": 7
        }
      ]
    },
    {
      "cell_type": "markdown",
      "metadata": {
        "id": "A0eUQjL9wVyM"
      },
      "source": [
        "**3. Import the Linux Bugs Data**"
      ]
    },
    {
      "cell_type": "code",
      "metadata": {
        "id": "CtUix8uvznPl",
        "outputId": "bc7fc562-b646-485c-abf4-00d890b32454",
        "colab": {
          "base_uri": "https://localhost:8080/",
          "height": 220
        }
      },
      "source": [
        "DATA_PATH2 = '/content/drive/My Drive/Research Project/linux_bugs_usage_ready.csv'\n",
        "data2 = pd.read_csv(DATA_PATH2, sep='\\t')\n",
        "data_top2 = data2.head()\n",
        "print(\"Linux Data\")\n",
        "data_top2"
      ],
      "execution_count": 8,
      "outputs": [
        {
          "output_type": "stream",
          "text": [
            "Linux Data\n"
          ],
          "name": "stdout"
        },
        {
          "output_type": "execute_result",
          "data": {
            "text/html": [
              "<div>\n",
              "<style scoped>\n",
              "    .dataframe tbody tr th:only-of-type {\n",
              "        vertical-align: middle;\n",
              "    }\n",
              "\n",
              "    .dataframe tbody tr th {\n",
              "        vertical-align: top;\n",
              "    }\n",
              "\n",
              "    .dataframe thead th {\n",
              "        text-align: right;\n",
              "    }\n",
              "</style>\n",
              "<table border=\"1\" class=\"dataframe\">\n",
              "  <thead>\n",
              "    <tr style=\"text-align: right;\">\n",
              "      <th></th>\n",
              "      <th>title</th>\n",
              "      <th>message</th>\n",
              "      <th>importance</th>\n",
              "      <th>product</th>\n",
              "      <th>component</th>\n",
              "    </tr>\n",
              "  </thead>\n",
              "  <tbody>\n",
              "    <tr>\n",
              "      <th>0</th>\n",
              "      <td>oops when using ide-cd with 2.5.45 and cdrecord</td>\n",
              "      <td>Please enter Exact Kernel version:2.5.45 Distr...</td>\n",
              "      <td>P2 normal</td>\n",
              "      <td>IO/Storage</td>\n",
              "      <td>IDE</td>\n",
              "    </tr>\n",
              "    <tr>\n",
              "      <th>1</th>\n",
              "      <td>NUMA-Q hangs during TSC initialization on boot.</td>\n",
              "      <td>Exact Kernel version: 2.5.46 Distribution: deb...</td>\n",
              "      <td>P2 normal</td>\n",
              "      <td>Platform Specific/Hardware</td>\n",
              "      <td>i386</td>\n",
              "    </tr>\n",
              "    <tr>\n",
              "      <th>2</th>\n",
              "      <td>Enabling shared pagetables causes KDE to wierd...</td>\n",
              "      <td>Exact Kernel version: 2.5.46-mm1 Distribution:...</td>\n",
              "      <td>P2 normal</td>\n",
              "      <td>Memory Management</td>\n",
              "      <td>Other</td>\n",
              "    </tr>\n",
              "    <tr>\n",
              "      <th>3</th>\n",
              "      <td>Dcache spirals out of control on 2.5.43-mm2</td>\n",
              "      <td>Exact Kernel version: 2.5.43-mm2 Distribution:...</td>\n",
              "      <td>P2 blocking</td>\n",
              "      <td>IO/Storage</td>\n",
              "      <td>Other</td>\n",
              "    </tr>\n",
              "    <tr>\n",
              "      <th>4</th>\n",
              "      <td>64GB highmem BUG()</td>\n",
              "      <td>Exact Kernel version: 2.5.40 Hardware Environm...</td>\n",
              "      <td>P2 normal</td>\n",
              "      <td>Memory Management</td>\n",
              "      <td>Other</td>\n",
              "    </tr>\n",
              "  </tbody>\n",
              "</table>\n",
              "</div>"
            ],
            "text/plain": [
              "                                               title  ... component\n",
              "0    oops when using ide-cd with 2.5.45 and cdrecord  ...       IDE\n",
              "1    NUMA-Q hangs during TSC initialization on boot.  ...      i386\n",
              "2  Enabling shared pagetables causes KDE to wierd...  ...     Other\n",
              "3        Dcache spirals out of control on 2.5.43-mm2  ...     Other\n",
              "4                                 64GB highmem BUG()  ...     Other\n",
              "\n",
              "[5 rows x 5 columns]"
            ]
          },
          "metadata": {
            "tags": []
          },
          "execution_count": 8
        }
      ]
    },
    {
      "cell_type": "markdown",
      "metadata": {
        "id": "njbSrdHNwlMO"
      },
      "source": [
        "**3. Merge title and message for chromium dataset**"
      ]
    },
    {
      "cell_type": "code",
      "metadata": {
        "id": "JOMKgPhXy8NI",
        "outputId": "a0ecf75e-6fd7-4e24-a326-8b8bab84ad24",
        "colab": {
          "base_uri": "https://localhost:8080/",
          "height": 220
        }
      },
      "source": [
        "\n",
        "def merge_title_and_message(data, message_col_name='message'):\n",
        "  data['text'] = data['title'] + ' ' + data[message_col_name]\n",
        "  data = data.drop(['title'], axis=1)\n",
        "  data = data.drop([message_col_name], axis=1)\n",
        "  return data\n",
        "data1 = merge_title_and_message(data1, message_col_name='description')\n",
        "data_top1 = data1.head()\n",
        "print(\"Chromium Merge Title and Message Data\")\n",
        "data_top1"
      ],
      "execution_count": 9,
      "outputs": [
        {
          "output_type": "stream",
          "text": [
            "Chromium Merge Title and Message Data\n"
          ],
          "name": "stdout"
        },
        {
          "output_type": "execute_result",
          "data": {
            "text/html": [
              "<div>\n",
              "<style scoped>\n",
              "    .dataframe tbody tr th:only-of-type {\n",
              "        vertical-align: middle;\n",
              "    }\n",
              "\n",
              "    .dataframe tbody tr th {\n",
              "        vertical-align: top;\n",
              "    }\n",
              "\n",
              "    .dataframe thead th {\n",
              "        text-align: right;\n",
              "    }\n",
              "</style>\n",
              "<table border=\"1\" class=\"dataframe\">\n",
              "  <thead>\n",
              "    <tr style=\"text-align: right;\">\n",
              "      <th></th>\n",
              "      <th>type</th>\n",
              "      <th>text</th>\n",
              "    </tr>\n",
              "  </thead>\n",
              "  <tbody>\n",
              "    <tr>\n",
              "      <th>0</th>\n",
              "      <td>Bug</td>\n",
              "      <td>Define a way to enforce performance constraint...</td>\n",
              "    </tr>\n",
              "    <tr>\n",
              "      <th>1</th>\n",
              "      <td>Compat</td>\n",
              "      <td>Websites that don't work with Chrome Browser \\...</td>\n",
              "    </tr>\n",
              "    <tr>\n",
              "      <th>2</th>\n",
              "      <td>Bug</td>\n",
              "      <td>Redraw issue/truncation with confirmation item...</td>\n",
              "    </tr>\n",
              "    <tr>\n",
              "      <th>3</th>\n",
              "      <td>Feature</td>\n",
              "      <td>Implement CanvasRenderingContext2D for access ...</td>\n",
              "    </tr>\n",
              "    <tr>\n",
              "      <th>4</th>\n",
              "      <td>Bug</td>\n",
              "      <td>ath9k: panic in ath_tx_last_beacon + 0x29a \\nT...</td>\n",
              "    </tr>\n",
              "  </tbody>\n",
              "</table>\n",
              "</div>"
            ],
            "text/plain": [
              "      type                                               text\n",
              "0      Bug  Define a way to enforce performance constraint...\n",
              "1   Compat  Websites that don't work with Chrome Browser \\...\n",
              "2      Bug  Redraw issue/truncation with confirmation item...\n",
              "3  Feature  Implement CanvasRenderingContext2D for access ...\n",
              "4      Bug  ath9k: panic in ath_tx_last_beacon + 0x29a \\nT..."
            ]
          },
          "metadata": {
            "tags": []
          },
          "execution_count": 9
        }
      ]
    },
    {
      "cell_type": "markdown",
      "metadata": {
        "id": "PPaCoL9kwxiK"
      },
      "source": [
        "**4. Merge title and message for Linux Bugs dataset**"
      ]
    },
    {
      "cell_type": "code",
      "metadata": {
        "id": "GbcMekOw0Hkj",
        "outputId": "822e7949-cfe1-482f-b087-75c35ac29850",
        "colab": {
          "base_uri": "https://localhost:8080/",
          "height": 220
        }
      },
      "source": [
        "data2 = merge_title_and_message(data2)\n",
        "data_top2 = data2.head()\n",
        "print(\"Linux Merge Title and Message Data\")\n",
        "data_top2"
      ],
      "execution_count": 10,
      "outputs": [
        {
          "output_type": "stream",
          "text": [
            "Linux Merge Title and Message Data\n"
          ],
          "name": "stdout"
        },
        {
          "output_type": "execute_result",
          "data": {
            "text/html": [
              "<div>\n",
              "<style scoped>\n",
              "    .dataframe tbody tr th:only-of-type {\n",
              "        vertical-align: middle;\n",
              "    }\n",
              "\n",
              "    .dataframe tbody tr th {\n",
              "        vertical-align: top;\n",
              "    }\n",
              "\n",
              "    .dataframe thead th {\n",
              "        text-align: right;\n",
              "    }\n",
              "</style>\n",
              "<table border=\"1\" class=\"dataframe\">\n",
              "  <thead>\n",
              "    <tr style=\"text-align: right;\">\n",
              "      <th></th>\n",
              "      <th>importance</th>\n",
              "      <th>product</th>\n",
              "      <th>component</th>\n",
              "      <th>text</th>\n",
              "    </tr>\n",
              "  </thead>\n",
              "  <tbody>\n",
              "    <tr>\n",
              "      <th>0</th>\n",
              "      <td>P2 normal</td>\n",
              "      <td>IO/Storage</td>\n",
              "      <td>IDE</td>\n",
              "      <td>oops when using ide-cd with 2.5.45 and cdrecor...</td>\n",
              "    </tr>\n",
              "    <tr>\n",
              "      <th>1</th>\n",
              "      <td>P2 normal</td>\n",
              "      <td>Platform Specific/Hardware</td>\n",
              "      <td>i386</td>\n",
              "      <td>NUMA-Q hangs during TSC initialization on boot...</td>\n",
              "    </tr>\n",
              "    <tr>\n",
              "      <th>2</th>\n",
              "      <td>P2 normal</td>\n",
              "      <td>Memory Management</td>\n",
              "      <td>Other</td>\n",
              "      <td>Enabling shared pagetables causes KDE to wierd...</td>\n",
              "    </tr>\n",
              "    <tr>\n",
              "      <th>3</th>\n",
              "      <td>P2 blocking</td>\n",
              "      <td>IO/Storage</td>\n",
              "      <td>Other</td>\n",
              "      <td>Dcache spirals out of control on 2.5.43-mm2 Ex...</td>\n",
              "    </tr>\n",
              "    <tr>\n",
              "      <th>4</th>\n",
              "      <td>P2 normal</td>\n",
              "      <td>Memory Management</td>\n",
              "      <td>Other</td>\n",
              "      <td>64GB highmem BUG() Exact Kernel version: 2.5.4...</td>\n",
              "    </tr>\n",
              "  </tbody>\n",
              "</table>\n",
              "</div>"
            ],
            "text/plain": [
              "    importance  ...                                               text\n",
              "0    P2 normal  ...  oops when using ide-cd with 2.5.45 and cdrecor...\n",
              "1    P2 normal  ...  NUMA-Q hangs during TSC initialization on boot...\n",
              "2    P2 normal  ...  Enabling shared pagetables causes KDE to wierd...\n",
              "3  P2 blocking  ...  Dcache spirals out of control on 2.5.43-mm2 Ex...\n",
              "4    P2 normal  ...  64GB highmem BUG() Exact Kernel version: 2.5.4...\n",
              "\n",
              "[5 rows x 4 columns]"
            ]
          },
          "metadata": {
            "tags": []
          },
          "execution_count": 10
        }
      ]
    },
    {
      "cell_type": "markdown",
      "metadata": {
        "id": "0Mm863UWw9Bx"
      },
      "source": [
        "**5. Remove the Strip Punctuation For Both the Data**"
      ]
    },
    {
      "cell_type": "code",
      "metadata": {
        "id": "knalSpfb0y_O"
      },
      "source": [
        "def strip_punctuations(data, column_name='text'):\n",
        "  '''\n",
        "  Strips punctuations from the end of each token.\n",
        "  This uses suggestion from https://stackoverflow.com/questions/34293875/how-to-remove-punctuation-marks-from-a-string-in-python-3-x-using-translate\n",
        "  to accomplish this really fast.\n",
        "  '''\n",
        "  translator = str.maketrans('', '', string.punctuation)\n",
        "  data['text'] = data['text'].map(lambda s : str(s).translate(translator))\n",
        "  return data"
      ],
      "execution_count": 11,
      "outputs": []
    },
    {
      "cell_type": "code",
      "metadata": {
        "id": "78oErrxr0I-U",
        "outputId": "fd5774d1-1d2f-4c02-dd49-4113e6c367cf",
        "colab": {
          "base_uri": "https://localhost:8080/",
          "height": 220
        }
      },
      "source": [
        "data1 = strip_punctuations(data1)\n",
        "data_top1 = data1.head()\n",
        "print(\"Chromium strip punctuations\")\n",
        "data_top1"
      ],
      "execution_count": 12,
      "outputs": [
        {
          "output_type": "stream",
          "text": [
            "Chromium strip punctuations\n"
          ],
          "name": "stdout"
        },
        {
          "output_type": "execute_result",
          "data": {
            "text/html": [
              "<div>\n",
              "<style scoped>\n",
              "    .dataframe tbody tr th:only-of-type {\n",
              "        vertical-align: middle;\n",
              "    }\n",
              "\n",
              "    .dataframe tbody tr th {\n",
              "        vertical-align: top;\n",
              "    }\n",
              "\n",
              "    .dataframe thead th {\n",
              "        text-align: right;\n",
              "    }\n",
              "</style>\n",
              "<table border=\"1\" class=\"dataframe\">\n",
              "  <thead>\n",
              "    <tr style=\"text-align: right;\">\n",
              "      <th></th>\n",
              "      <th>type</th>\n",
              "      <th>text</th>\n",
              "    </tr>\n",
              "  </thead>\n",
              "  <tbody>\n",
              "    <tr>\n",
              "      <th>0</th>\n",
              "      <td>Bug</td>\n",
              "      <td>Define a way to enforce performance constraint...</td>\n",
              "    </tr>\n",
              "    <tr>\n",
              "      <th>1</th>\n",
              "      <td>Compat</td>\n",
              "      <td>Websites that dont work with Chrome Browser nC...</td>\n",
              "    </tr>\n",
              "    <tr>\n",
              "      <th>2</th>\n",
              "      <td>Bug</td>\n",
              "      <td>Redraw issuetruncation with confirmation item ...</td>\n",
              "    </tr>\n",
              "    <tr>\n",
              "      <th>3</th>\n",
              "      <td>Feature</td>\n",
              "      <td>Implement CanvasRenderingContext2D for access ...</td>\n",
              "    </tr>\n",
              "    <tr>\n",
              "      <th>4</th>\n",
              "      <td>Bug</td>\n",
              "      <td>ath9k panic in athtxlastbeacon  0x29a nToT 30 ...</td>\n",
              "    </tr>\n",
              "  </tbody>\n",
              "</table>\n",
              "</div>"
            ],
            "text/plain": [
              "      type                                               text\n",
              "0      Bug  Define a way to enforce performance constraint...\n",
              "1   Compat  Websites that dont work with Chrome Browser nC...\n",
              "2      Bug  Redraw issuetruncation with confirmation item ...\n",
              "3  Feature  Implement CanvasRenderingContext2D for access ...\n",
              "4      Bug  ath9k panic in athtxlastbeacon  0x29a nToT 30 ..."
            ]
          },
          "metadata": {
            "tags": []
          },
          "execution_count": 12
        }
      ]
    },
    {
      "cell_type": "code",
      "metadata": {
        "id": "SYN3rEq91og3",
        "outputId": "7537c0c4-d5c7-4446-a66c-ef92db118928",
        "colab": {
          "base_uri": "https://localhost:8080/",
          "height": 220
        }
      },
      "source": [
        "data2 = strip_punctuations(data2)\n",
        "data_top2 = data2.head()\n",
        "print(\"Linux strip punctuations\")\n",
        "data_top2"
      ],
      "execution_count": 13,
      "outputs": [
        {
          "output_type": "stream",
          "text": [
            "Linux strip punctuations\n"
          ],
          "name": "stdout"
        },
        {
          "output_type": "execute_result",
          "data": {
            "text/html": [
              "<div>\n",
              "<style scoped>\n",
              "    .dataframe tbody tr th:only-of-type {\n",
              "        vertical-align: middle;\n",
              "    }\n",
              "\n",
              "    .dataframe tbody tr th {\n",
              "        vertical-align: top;\n",
              "    }\n",
              "\n",
              "    .dataframe thead th {\n",
              "        text-align: right;\n",
              "    }\n",
              "</style>\n",
              "<table border=\"1\" class=\"dataframe\">\n",
              "  <thead>\n",
              "    <tr style=\"text-align: right;\">\n",
              "      <th></th>\n",
              "      <th>importance</th>\n",
              "      <th>product</th>\n",
              "      <th>component</th>\n",
              "      <th>text</th>\n",
              "    </tr>\n",
              "  </thead>\n",
              "  <tbody>\n",
              "    <tr>\n",
              "      <th>0</th>\n",
              "      <td>P2 normal</td>\n",
              "      <td>IO/Storage</td>\n",
              "      <td>IDE</td>\n",
              "      <td>oops when using idecd with 2545 and cdrecord P...</td>\n",
              "    </tr>\n",
              "    <tr>\n",
              "      <th>1</th>\n",
              "      <td>P2 normal</td>\n",
              "      <td>Platform Specific/Hardware</td>\n",
              "      <td>i386</td>\n",
              "      <td>NUMAQ hangs during TSC initialization on boot ...</td>\n",
              "    </tr>\n",
              "    <tr>\n",
              "      <th>2</th>\n",
              "      <td>P2 normal</td>\n",
              "      <td>Memory Management</td>\n",
              "      <td>Other</td>\n",
              "      <td>Enabling shared pagetables causes KDE to wierd...</td>\n",
              "    </tr>\n",
              "    <tr>\n",
              "      <th>3</th>\n",
              "      <td>P2 blocking</td>\n",
              "      <td>IO/Storage</td>\n",
              "      <td>Other</td>\n",
              "      <td>Dcache spirals out of control on 2543mm2 Exact...</td>\n",
              "    </tr>\n",
              "    <tr>\n",
              "      <th>4</th>\n",
              "      <td>P2 normal</td>\n",
              "      <td>Memory Management</td>\n",
              "      <td>Other</td>\n",
              "      <td>64GB highmem BUG Exact Kernel version 2540 Har...</td>\n",
              "    </tr>\n",
              "  </tbody>\n",
              "</table>\n",
              "</div>"
            ],
            "text/plain": [
              "    importance  ...                                               text\n",
              "0    P2 normal  ...  oops when using idecd with 2545 and cdrecord P...\n",
              "1    P2 normal  ...  NUMAQ hangs during TSC initialization on boot ...\n",
              "2    P2 normal  ...  Enabling shared pagetables causes KDE to wierd...\n",
              "3  P2 blocking  ...  Dcache spirals out of control on 2543mm2 Exact...\n",
              "4    P2 normal  ...  64GB highmem BUG Exact Kernel version 2540 Har...\n",
              "\n",
              "[5 rows x 4 columns]"
            ]
          },
          "metadata": {
            "tags": []
          },
          "execution_count": 13
        }
      ]
    },
    {
      "cell_type": "markdown",
      "metadata": {
        "id": "iYna-0oqxRRU"
      },
      "source": [
        "**6. Remove the linux garbage in Linux Bugs data**"
      ]
    },
    {
      "cell_type": "code",
      "metadata": {
        "id": "1Sm1_0af1wwD",
        "outputId": "63b8a647-e280-425d-ef57-acd9afa36ad1",
        "colab": {
          "base_uri": "https://localhost:8080/",
          "height": 220
        }
      },
      "source": [
        "def remove_linux_garbage(data):\n",
        "  '''\n",
        "  Linux data contains lots of garbage, e.g. memory addresses - 0000f800\n",
        "  '''\n",
        "  def is_garbage(w):\n",
        "    return len(w) >= 7 and sum(c.isdigit() for c in w) >= 2\n",
        "\n",
        "  data['text'] = data['text'].map(lambda s : ' '.join(map(lambda w: w if not is_garbage(w) else ' ', s.split())))\n",
        "  return data\n",
        "data = remove_linux_garbage(data2)\n",
        "data_top2 = data2.head()\n",
        "print(\"Remove linux garbage\")\n",
        "data_top2"
      ],
      "execution_count": 14,
      "outputs": [
        {
          "output_type": "stream",
          "text": [
            "Remove linux garbage\n"
          ],
          "name": "stdout"
        },
        {
          "output_type": "execute_result",
          "data": {
            "text/html": [
              "<div>\n",
              "<style scoped>\n",
              "    .dataframe tbody tr th:only-of-type {\n",
              "        vertical-align: middle;\n",
              "    }\n",
              "\n",
              "    .dataframe tbody tr th {\n",
              "        vertical-align: top;\n",
              "    }\n",
              "\n",
              "    .dataframe thead th {\n",
              "        text-align: right;\n",
              "    }\n",
              "</style>\n",
              "<table border=\"1\" class=\"dataframe\">\n",
              "  <thead>\n",
              "    <tr style=\"text-align: right;\">\n",
              "      <th></th>\n",
              "      <th>importance</th>\n",
              "      <th>product</th>\n",
              "      <th>component</th>\n",
              "      <th>text</th>\n",
              "    </tr>\n",
              "  </thead>\n",
              "  <tbody>\n",
              "    <tr>\n",
              "      <th>0</th>\n",
              "      <td>P2 normal</td>\n",
              "      <td>IO/Storage</td>\n",
              "      <td>IDE</td>\n",
              "      <td>oops when using idecd with 2545 and cdrecord P...</td>\n",
              "    </tr>\n",
              "    <tr>\n",
              "      <th>1</th>\n",
              "      <td>P2 normal</td>\n",
              "      <td>Platform Specific/Hardware</td>\n",
              "      <td>i386</td>\n",
              "      <td>NUMAQ hangs during TSC initialization on boot ...</td>\n",
              "    </tr>\n",
              "    <tr>\n",
              "      <th>2</th>\n",
              "      <td>P2 normal</td>\n",
              "      <td>Memory Management</td>\n",
              "      <td>Other</td>\n",
              "      <td>Enabling shared pagetables causes KDE to wierd...</td>\n",
              "    </tr>\n",
              "    <tr>\n",
              "      <th>3</th>\n",
              "      <td>P2 blocking</td>\n",
              "      <td>IO/Storage</td>\n",
              "      <td>Other</td>\n",
              "      <td>Dcache spirals out of control on   Exact Kerne...</td>\n",
              "    </tr>\n",
              "    <tr>\n",
              "      <th>4</th>\n",
              "      <td>P2 normal</td>\n",
              "      <td>Memory Management</td>\n",
              "      <td>Other</td>\n",
              "      <td>64GB highmem BUG Exact Kernel version 2540 Har...</td>\n",
              "    </tr>\n",
              "  </tbody>\n",
              "</table>\n",
              "</div>"
            ],
            "text/plain": [
              "    importance  ...                                               text\n",
              "0    P2 normal  ...  oops when using idecd with 2545 and cdrecord P...\n",
              "1    P2 normal  ...  NUMAQ hangs during TSC initialization on boot ...\n",
              "2    P2 normal  ...  Enabling shared pagetables causes KDE to wierd...\n",
              "3  P2 blocking  ...  Dcache spirals out of control on   Exact Kerne...\n",
              "4    P2 normal  ...  64GB highmem BUG Exact Kernel version 2540 Har...\n",
              "\n",
              "[5 rows x 4 columns]"
            ]
          },
          "metadata": {
            "tags": []
          },
          "execution_count": 14
        }
      ]
    },
    {
      "cell_type": "markdown",
      "metadata": {
        "id": "_jnfqP9BxcGy"
      },
      "source": [
        "**7. Naive Bayes with Chromium bugs data**"
      ]
    },
    {
      "cell_type": "code",
      "metadata": {
        "id": "ZKnoNh8W2KVP",
        "outputId": "90b49570-cb1c-4560-a40b-cfbf8720c53f",
        "colab": {
          "base_uri": "https://localhost:8080/",
          "height": 319
        }
      },
      "source": [
        "print('Chromium Classifying with NaiveBayes!')\n",
        "def naive_bayes_classify(data):\n",
        "  class_to_predict = 'type' # product importance\n",
        "  all_data = [tuple(x) for x in data[['text', class_to_predict]].to_records(index=False)]\n",
        "\n",
        "  text_counts = {}\n",
        "  for item in all_data:\n",
        "    for word in set(item[0].split()):\n",
        "      if word in text_counts:\n",
        "        text_counts[word] += 1\n",
        "      else:\n",
        "        text_counts[word] = 1\n",
        "\n",
        "  for i in range(len(all_data)):\n",
        "    new_text = ''\n",
        "    for word in all_data[i][0].split():\n",
        "      if text_counts[word] >= 5:\n",
        "        new_text += ' ' + word\n",
        "    all_data[i] = (new_text, all_data[i][1])\n",
        "\n",
        "  test_corpus = all_data[3000:3600]\n",
        "  print(\"Training Data\")\n",
        "  for i in test_corpus[1:6]:\n",
        "    print(i)\n",
        "  training_corpus = all_data[:3400]\n",
        "  print(\"Testing Data\")\n",
        "  for i in training_corpus[1:6]:\n",
        "    print(i)\n",
        "\n",
        "  model = NBC(training_corpus, verbose=True)\n",
        "  print('Done training!')\n",
        "  print('Accuracy: ' + str(model.accuracy(test_corpus)))\n",
        "\n",
        "  y_pred = []\n",
        "  y_true = []\n",
        "  for test_item in test_corpus:\n",
        "    y_pred.append(model.prob_classify(test_item[0]).max())\n",
        "    y_true.append(test_item[1])\n",
        "  \n",
        "  print('F1 score: ' + str(f1_score(y_true, y_pred, average='weighted')))\n",
        "\n",
        "naive_bayes_classify(data1)"
      ],
      "execution_count": 15,
      "outputs": [
        {
          "output_type": "stream",
          "text": [
            "Chromium Classifying with NaiveBayes!\n",
            "Training Data\n",
            "(' Dont apply delete on shutdown rules when chrome nIf the user has selected delete on shutdown for site data appcache etc dont delete it Also dont delete the site data for origins localStorage etcrnn', 'Feature')\n",
            "(' When installing extensions failure with error could not create directory for unzipping nChrome Version if applicable nOther browsers testednrnWhat steps will reproduce the problemn1When install extensions failure with error could not create directory for unzipping the singleprocess can fixed the Use the singleprocess all extensions cant use click any extensions button didnt have any', 'Bug')\n",
            "(' Make an admin page for migrating or removing points with particular IDs for particular tests have been a few cases in the past when weve wanted to move all timestamp ID points to use a different version number or possible delete certain points Users of the dashboard may want to do this again in the we made an admin page that could kick off a bunch of tasks on the task queue to Row entities for some set of Tests using a new ID based on another version annotation that the Row has then it might make changes like this more convenient in the futuren', 'Feature')\n",
            "(' Create Application Shortcut Form visibility bug nProduct Version 0214927 1583rnURLs if applicable browsers testednAdd OK or FAIL after other browsers where you have tested this issuenSafari 3nFirefox 3nIE 7nrnWhat steps will reproduce the problemn1 Try to create an application is the expected resultnA prompt window asking where to create the shortcut with happens insteadnthe checkboxes are invisiblernrnPlease provide any additional information below Attach a screenshot if rnpossiblern n', 'Bug')\n",
            "(' Default dropdown value is not appearing nChrome Version 604373 Official Build if applicable browsers testednAdd OK or FAIL after other browsers where you have tested this issuenSafari 4n Firefox 3x OKrnIE 7n IE 8 OKrnrnWhat steps will reproduce the problemn1 go to check the category dropdownrnrnWhat is the expected result What happens instead rnAfter loading the page the default dropdown value of the category disappearsrnrnPlease provide any additional information below Attach a screenshot ifnpossiblenIt works fine in', 'Compat')\n",
            "Testing Data\n",
            "(' Websites that dont work with Chrome Browser nChrome Version if applicable and browsers testednAdd OK or FAIL after other browsers where you have tested this issuen Safari 4 NArn Firefox 3x OKrn IE 7 OKrn IE 8 OKrnrnWhat steps will reproduce the problemn1 Go to look at accounts and click on itrn2 Go to enter userid and password and answer challenge is the expected resultn1 You should get to your account You should get to your accountrnrnrnWhat happens insteadn1 You get an error message saying your action cannot be You get the login screen againrnrnThis has something to do with the way the websites are transferring control rnto another website to display the informationrnrnPlease provide any additional information below Attach a screenshot ifnpossiblenn', 'Compat')\n",
            "(' with confirmation item on Download Bar nChromium 031550 Developer Build steps will reproduce the Download an exe file in a tab can use the above URLrn2 Resize the Chrome window making it narrower until the current item Switch to another tab then resize the window it to Switch back to the tab with the downloadsrnrnWhat is the expected output rnrnThe download confirmation item should be properly redrawn on the Download BarrnrnWhat do you see insteadrnrnThe download confirmation item is truncated When the is resized it triggers a redraw and the item is again', 'Bug')\n",
            "(' Implement CanvasRenderingContext2D for access in Workers nApplications that do background image processing currently suffer from being unable to shift this work to a web example an animated image carousel that downloads large images from the web and then processes them for display If the image processing takes longer than a single frame and happens in the main thread its going to cause framerate Doing the processing in a worker would let the main thread maintain smooth framerate with the minimum amount of developer work alternative is to roll your own multitasking scheduler and thats a the ability to create canvas elements and rendering contexts and share their results with the main thread pass back a shared texture IDs or something would help a lot in the above casernn', 'Feature')\n",
            "(' ath9k panic in nToT 30 kernel on resume Was associated in w', 'Bug')\n",
            "(' Chrome crashes after typing in in any address bar nProduct Version 0214927rnURLs if applicable See belowrnOther browsers testednAdd OK or FAIL after other browsers where you have tested this issuen Safari 3 not testedrn Firefox 3 OKrn IE 7 OKrnrnWhat steps will reproduce the problemn1 Type into any address bar in any tabrn2 Watch Chrome die all is the expected resultnNot crashingrnrnWhat happens provide any additional information below Attach a screenshot', 'Bug')\n",
            "Done training!\n",
            "Accuracy: 0.74\n",
            "F1 score: 0.736676676547138\n"
          ],
          "name": "stdout"
        }
      ]
    },
    {
      "cell_type": "markdown",
      "metadata": {
        "id": "TEKvYhMxxmsw"
      },
      "source": [
        "**8. Naive Bayes with Linux data**"
      ]
    },
    {
      "cell_type": "code",
      "metadata": {
        "id": "017smXmD59G1",
        "outputId": "db74a620-9f6c-4760-f4e6-6129292f7bda",
        "colab": {
          "base_uri": "https://localhost:8080/",
          "height": 319
        }
      },
      "source": [
        "print('Linux Classifying with NaiveBayes!')\n",
        "def naive_bayes_classify(data):\n",
        "  class_to_predict = 'importance' # product importance\n",
        "  all_data = [tuple(x) for x in data[['text', class_to_predict]].to_records(index=False)]\n",
        "\n",
        "  text_counts = {}\n",
        "  for item in all_data:\n",
        "    for word in set(item[0].split()):\n",
        "      if word in text_counts:\n",
        "        text_counts[word] += 1\n",
        "      else:\n",
        "        text_counts[word] = 1\n",
        "\n",
        "  for i in range(len(all_data)):\n",
        "    new_text = ''\n",
        "    for word in all_data[i][0].split():\n",
        "      if text_counts[word] >= 5:\n",
        "        new_text += ' ' + word\n",
        "    all_data[i] = (new_text, all_data[i][1])\n",
        "\n",
        "  test_corpus = all_data[3000:3600]\n",
        "  print(\"Training Data\")\n",
        "  for i in test_corpus[1:6]:\n",
        "    print(i)\n",
        "  training_corpus = all_data[:3400]\n",
        "  print(\"Testing Data\")\n",
        "  for i in training_corpus[1:6]:\n",
        "    print(i)\n",
        "\n",
        "  model = NBC(training_corpus, verbose=True)\n",
        "  print('Done training!')\n",
        "  print('Accuracy: ' + str(model.accuracy(test_corpus)))\n",
        "\n",
        "  y_pred = []\n",
        "  y_true = []\n",
        "  for test_item in test_corpus:\n",
        "    y_pred.append(model.prob_classify(test_item[0]).max())\n",
        "    y_true.append(test_item[1])\n",
        "  \n",
        "  print('F1 score: ' + str(f1_score(y_true, y_pred, average='weighted')))\n",
        "naive_bayes_classify(data2)"
      ],
      "execution_count": 16,
      "outputs": [
        {
          "output_type": "stream",
          "text": [
            "Linux Classifying with NaiveBayes!\n",
            "Training Data\n",
            "(' mouse wheel stops working after using kvm switch Distribution Gentoo Hardware Environment x86 AMD Athlon XP Logitech optical mouse Problem Description I have set up the mouse wheel in X as per usual ZAxisMapping Everything works fine until I use my switch to switch to a different PC When I switch back everythings there except the mouse wheel I loaded evdev and the input device Everytime I move the mouse a lot of garbage appears as expected for clicking However when using the wheel after switching back and forth on the KVM it remains silent for the wheel This problem does not appear under 24 in an otherwise identical environment', 'P2 low')\n",
            "(' AEAMLNORETURNVALUE Asus M6N Distribution Fedora Core 2 Hardware Environment Asus M6N Software Environment Bios Problem Description ACPI complains about missing return value in the method when running cat procacpibatteryBAT0state and errors out without returning battery state information Looking in the DSDT the method actually takes Local0 as an arg and fills it in rather than returning it so it seems that it does not need to have a return value I made a really patch that ignores the errors and the method executes fine providing the necessary battery state info however I cannot seem to track down the source of the problem on my own I see that the methods opcode flags includes and this seems to be the root of the problem but I cant seem to locate where that is being set Steps to reproduce cat procacpibatteryBAT0state', 'P2 normal')\n",
            "(' kernel rpm install suggestions when making a kernel rpm with make rpm and installing it the initrd is not automatically created and there is no new entry in grubconf for this kernel eg fedora kernel rpms can do this so it would be great to improve this for the kernelorg kernels too thanks', 'P2 low')\n",
            "(' USB 20 IDE harddisk scsi emulation system hangs on shutdown Distribution Gentoo 1416 Hardware Environment Acer Laptop 803 Centrino 16 GHz 512MB RAM USB Intel Corp USB External IDE Harddisk 200GB USB 20 HD Western Digital Enclosure Model No I could not find any company so maybe Western digital too Software Environment devfs used together with devfsd Kernel Config Automatically generated make config dont edit CONFIGMMUy CONFIGGENERICISADMAy Code maturity level options CONFIGEXPERIMENTALy CONFIGCLEANCOMPILEy CONFIGSTANDALONEy CONFIGBROKENONSMPy General setup CONFIGSWAPy CONFIGSYSVIPCy CONFIGPOSIXMQUEUEy CONFIGBSDPROCESSACCTy CONFIGSYSCTLy CONFIGAUDIT is not set CONFIGHOTPLUGy CONFIGIKCONFIG is not set CONFIGEMBEDDED is not set CONFIGKALLSYMSy CONFIGFUTEXy CONFIGEPOLLy CONFIGIOSCHEDNOOPy CONFIGIOSCHEDASy CONFIGIOSCHEDDEADLINEy CONFIGIOSCHEDCFQy CONFIGCCOPTIMIZEFORSIZE is not set Loadable module support CONFIGMODULESy CONFIGMODULEUNLOADy CONFIGMODULEFORCEUNLOAD is not set CONFIGOBSOLETEMODPARMy CONFIGMODVERSIONS is not set CONFIGKMODy Processor type and features is not set is not set is not set is not set is not set is not set is not set is not set is not set is not set is not set is not set is not set is not set CONFIGMPENTIUMII is not set CONFIGMPENTIUMIII is not set CONFIGMPENTIUMMy CONFIGMPENTIUM4 is not set CONFIGMK6 is not set CONFIGMK7 is not set CONFIGMK8 is not set CONFIGMCRUSOE is not set CONFIGMWINCHIPC6 is not set CONFIGMWINCHIP2 is not set CONFIGMWINCHIP3D is not set CONFIGMCYRIXIII is not set is not set is not set CONFIGRWSEMXCHGADDALGORITHMy CONFIGHPETTIMER is not set CONFIGHPETEMULATERTC is not set CONFIGSMP is not set CONFIGPREEMPTy CONFIGTOSHIBA is not set CONFIGI8K is not set CONFIGMICROCODEm Firmware Drivers CONFIGEDDm CONFIGNOHIGHMEMy CONFIGHIGHMEM4G is not set is not set CONFIGMATHEMULATION is not set CONFIGMTRRy CONFIGEFI is not set CONFIGHAVEDECLOCKy CONFIGREGPARM is not set Power management options ACPI APM CONFIGPMy CONFIGSOFTWARESUSPENDy CONFIGPMDISKy ACPI Advanced Configuration and Power Interface Support CONFIGACPIy CONFIGACPIBOOTy CONFIGACPIINTERPRETERy CONFIGACPISLEEPy CONFIGACPISLEEPPROCFSy CONFIGACPIACy CONFIGACPIBATTERYy CONFIGACPIBUTTONy CONFIGACPIFANy CONFIGACPIPROCESSORy CONFIGACPITHERMALy CONFIGACPIASUS is not set CONFIGACPITOSHIBA is not set CONFIGACPIDEBUG is not set CONFIGACPIBUSy CONFIGACPIECy CONFIGACPIPOWERy CONFIGACPIPCIy CONFIGACPISYSTEMy is not set APM Advanced Power Management BIOS Support CONFIGAPMm CONFIGAPMIGNOREUSERSUSPEND is not set CONFIGAPMDOENABLE is not set CONFIGAPMCPUIDLEy CONFIGAPMDISPLAYBLANK is not set CONFIGAPMRTCISGMTy CONFIGAPMALLOWINTS is not set CONFIGAPMREALMODEPOWEROFF is not set CPU Frequency scaling CONFIGCPUFREQy CONFIGCPUFREQPROCINTF is not set CONFIGCPUFREQDEFAULTGOVPERFORMANCE is not set CONFIGCPUFREQDEFAULTGOVUSERSPACEy CONFIGCPUFREQGOVPERFORMANCE is not set CONFIGCPUFREQGOVPOWERSAVE is not set CONFIGCPUFREQGOVUSERSPACEy CONFIGCPUFREQTABLEy CPUFreq processor drivers is not set is not set is not set is not set is not set is not set is not set is not set is not set is not set Bus options PCI PCMCIA EISA MCA ISA CONFIGPCIy CONFIGPCIGOBIOS is not set CONFIGPCIGOMMCONFIG is not set CONFIGPCIGODIRECT is not set CONFIGPCIGOANYy CONFIGPCIBIOSy CONFIGPCIDIRECTy CONFIGPCIMMCONFIGy CONFIGPCIUSEVECTOR is not set CONFIGPCILEGACYPROC is not set CONFIGPCINAMESy CONFIGISAy CONFIGEISA is not set CONFIGMCA is not set is not set PCMCIACardBus support CONFIGPCMCIAm CONFIGPCMCIADEBUG is not set CONFIGYENTAm CONFIGCARDBUSy is not set CONFIGTCIC is not set CONFIGPCMCIAPROBEy PCI Hotplug Support CONFIGHOTPLUGPCI is not set Executable file formats CONFIGBINFMTELFy CONFIGBINFMTAOUTm CONFIGBINFMTMISCy Device Drivers Generic Driver Options CONFIGFWLOADERm Memory Technology Devices MTD CONFIGMTD is not set Parallel port support CONFIGPARPORTm CONFIGPARPORTPCm CONFIGPARPORTPCCML1m CONFIGPARPORTSERIALm CONFIGPARPORTPCFIFO is not set CONFIGPARPORTPCSUPERIO is not set CONFIGPARPORTPCPCMCIA is not set CONFIGPARPORTOTHER is not set is not set Plug and Play support CONFIGPNPy CONFIGPNPDEBUG is not set Protocols CONFIGISAPNP is not set CONFIGPNPBIOSy CONFIGPNPBIOSPROCFS is not set Block devices CONFIGBLKDEVFD is not set CONFIGBLKDEVXD is not set CONFIGPARIDE is not set CONFIGBLKCPQDA is not set CONFIGBLKCPQCISSDA is not set is not set CONFIGBLKDEVUMEM is not set CONFIGBLKDEVLOOPm CONFIGBLKDEVCRYPTOLOOPm CONFIGBLKDEVNBD is not set CONFIGBLKDEVCARMEL is not set CONFIGBLKDEVRAM is not set CONFIGLBD is not set ATAATAPIMFMRLL support CONFIGIDEy CONFIGBLKDEVIDEy Please see Documentationidetxt for helpinfo on IDE drives CONFIGBLKDEVHDIDE is not set CONFIGBLKDEVIDEDISKy CONFIGIDEDISKMULTIMODE is not set CONFIGIDEDISKSTROKE is not set CONFIGBLKDEVIDECSm CONFIGBLKDEVIDECDy CONFIGBLKDEVIDETAPE is not set CONFIGBLKDEVIDEFLOPPYm CONFIGBLKDEVIDESCSI is not set CONFIGIDETASKIOCTL is not set CONFIGIDETASKFILEIOy IDE chipset supportbugfixes CONFIGIDEGENERICy is not set CONFIGBLKDEVIDEPNP is not set CONFIGBLKDEVIDEPCIy CONFIGIDEPCISHAREIRQy CONFIGBLKDEVOFFBOARD is not set CONFIGBLKDEVGENERICy is not set CONFIGBLKDEVIDEDMAPCIy CONFIGBLKDEVIDEDMAFORCED is not set CONFIGIDEDMAPCIAUTOy CONFIGIDEDMAONLYDISK is not set CONFIGBLKDEVADMAy is not set is not set is not set CONFIGBLKDEVATIIXP is not set is not set CONFIGBLKDEVTRIFLEX is not set is not set is not set is not set is not set is not set is not set CONFIGBLKDEVPIIXy is not set is not set is not set CONFIGBLKDEVSVWKS is not set CONFIGBLKDEVSIIMAGE is not set is not set is not set is not set is not set CONFIGIDECHIPSETS is not set CONFIGBLKDEVIDEDMAy CONFIGIDEDMAIVB is not set CONFIGIDEDMAAUTOy CONFIGBLKDEVHD is not set SCSI device support CONFIGSCSIm CONFIGSCSIPROCFSy SCSI support type disk tape CDROM CONFIGBLKDEVSDm CONFIGCHRDEVST is not set CONFIGCHRDEVOSST is not set CONFIGBLKDEVSRm CONFIGBLKDEVSRVENDORy CONFIGCHRDEVSGm Some SCSI devices eg CD jukebox support multiple LUNs CONFIGSCSIMULTILUNy CONFIGSCSIREPORTLUNSy CONFIGSCSICONSTANTS is not set CONFIGSCSILOGGING is not set SCSI Transport Attributes CONFIGSCSISPIATTRS is not set CONFIGSCSIFCATTRS is not set SCSI lowlevel drivers CONFIGBLKDEV3WXXXXRAID is not set is not set CONFIGSCSIACARD is not set is not set is not set CONFIGSCSIAACRAID is not set CONFIGSCSIAIC7XXX is not set CONFIGSCSIAIC7XXXOLD is not set is not set CONFIGSCSIADVANSYS is not set is not set CONFIGSCSIMEGARAID is not set CONFIGSCSISATA is not set CONFIGSCSIBUSLOGIC is not set CONFIGSCSICPQFCTS is not set is not set is not set CONFIGSCSIEATA is not set CONFIGSCSIEATAPIO is not set CONFIGSCSIFUTUREDOMAIN is not set CONFIGSCSIGDTH is not set is not set is not set CONFIGSCSIIPS is not set is not set CONFIGSCSIPPA is not set CONFIGSCSIIMM is not set is not set is not set is not set is not set CONFIGSCSIQLOGICFAS is not set CONFIGSCSIQLOGICISP is not set CONFIGSCSIQLOGICFC is not set is not set CONFIGSCSIQLA2XXXm is not set is not set is not set is not set is not set is not set is not set is not set is not set is not set is not set CONFIGSCSIULTRASTOR is not set is not set CONFIGSCSIDEBUG is not set PCMCIA SCSI adapter support CONFIGPCMCIAFDOMAINm CONFIGPCMCIANINJASCSIm CONFIGPCMCIAQLOGICm Old CDROM drivers not SCSI not IDE CONFIGCDNOIDESCSI is not set Multidevice support RAID and LVM CONFIGMDy CONFIGBLKDEVMD is not set CONFIGBLKDEVDMy CONFIGDMCRYPT is not set Fusion MPT device support CONFIGFUSION is not set IEEE 1394 FireWire support Subsystem Options Device Drivers Protocol Drivers I2O device support CONFIGI2O is not set Networking support CONFIGNETy Networking options CONFIGPACKETy CONFIGPACKETMMAPy CONFIGNETLINKDEVy CONFIGUNIXy CONFIGNETKEYy CONFIGINETy CONFIGIPMULTICASTy CONFIGIPADVANCEDROUTERy is not set CONFIGIPROUTEMULTIPATHy CONFIGIPROUTETOSy CONFIGIPROUTEVERBOSE is not set CONFIGIPPNP is not set CONFIGNETIPIPm CONFIGNETIPGREm CONFIGNETIPGREBROADCASTy CONFIGIPMROUTE is not set CONFIGARPD is not set CONFIGSYNCOOKIESy CONFIGINETAH is not set CONFIGINETESP is not set CONFIGINETIPCOMP is not set IP Virtual Server Configuration CONFIGIPVS is not set CONFIGIPV6m CONFIGIPV6PRIVACYy CONFIGINET6AHm CONFIGINET6ESPm CONFIGINET6IPCOMPm CONFIGIPV6TUNNELm CONFIGNETFILTERy CONFIGNETFILTERDEBUG is not set CONFIGBRIDGENETFILTERy IP Netfilter Configuration CONFIGIPNFCONNTRACKm CONFIGIPNFFTPm CONFIGIPNFIRCm CONFIGIPNFTFTPm CONFIGIPNFAMANDAm CONFIGIPNFQUEUEm CONFIGIPNFIPTABLESm CONFIGIPNFMATCHLIMITm CONFIGIPNFMATCHIPRANGEm CONFIGIPNFMATCHMACm CONFIGIPNFMATCHPKTTYPEm CONFIGIPNFMATCHMARKm CONFIGIPNFMATCHMULTIPORTm CONFIGIPNFMATCHTOSm CONFIGIPNFMATCHRECENTm CONFIGIPNFMATCHECNm CONFIGIPNFMATCHDSCPm CONFIGIPNFMATCHAHESPm CONFIGIPNFMATCHLENGTHm CONFIGIPNFMATCHTTLm CONFIGIPNFMATCHTCPMSSm CONFIGIPNFMATCHHELPERm CONFIGIPNFMATCHSTATEm CONFIGIPNFMATCHCONNTRACKm CONFIGIPNFMATCHOWNERm CONFIGIPNFMATCHPHYSDEVm CONFIGIPNFFILTERm CONFIGIPNFTARGETREJECTm CONFIGIPNFNATm CONFIGIPNFNATNEEDEDy CONFIGIPNFTARGETMASQUERADEm CONFIGIPNFTARGETREDIRECTm CONFIGIPNFTARGETNETMAPm CONFIGIPNFTARGETSAMEm CONFIGIPNFNATLOCALy CONFIGIPNFNATSNMPBASIC is not set CONFIGIPNFNATIRCm CONFIGIPNFNATFTPm CONFIGIPNFNATTFTPm CONFIGIPNFNATAMANDAm CONFIGIPNFMANGLE is not set CONFIGIPNFTARGETLOG is not set CONFIGIPNFTARGETULOG is not set CONFIGIPNFTARGETTCPMSS is not set CONFIGIPNFARPTABLES is not set CONFIGIPNFCOMPATIPCHAINS is not set CONFIGIPNFCOMPATIPFWADM is not set CONFIGIPNFTARGETNOTRACKm CONFIGIPNFRAWm IPv6 Netfilter Configuration CONFIGIP6NFQUEUE is not set CONFIGIP6NFIPTABLES is not set Bridge Netfilter Configuration CONFIGBRIDGENFEBTABLESm CONFIGBRIDGEEBTBROUTEm CONFIGBRIDGEEBTTFILTERm CONFIGBRIDGEEBTTNATm CONFIGBRIDGEEBTAMONGm CONFIGBRIDGEEBTARPm CONFIGBRIDGEEBTIPm CONFIGBRIDGEEBTLIMITm CONFIGBRIDGEEBTMARKm CONFIGBRIDGEEBTPKTTYPEm CONFIGBRIDGEEBTSTPm CONFIGBRIDGEEBTVLANm CONFIGBRIDGEEBTARPREPLYm CONFIGBRIDGEEBTDNATm CONFIGBRIDGEEBTMARKTm CONFIGBRIDGEEBTREDIRECTm CONFIGBRIDGEEBTSNATm CONFIGBRIDGEEBTLOGm CONFIGXFRMy CONFIGXFRMUSERy SCTP Configuration EXPERIMENTAL CONFIGIPSCTP is not set CONFIGATM is not set CONFIGBRIDGEm is not set CONFIGDECNET is not set CONFIGLLCm CONFIGLLC2m CONFIGIPXm CONFIGIPXINTERNy CONFIGATALKm CONFIGDEVAPPLETALKy is not set is not set is not set is not set CONFIGLAPB is not set CONFIGNETDIVERT is not set CONFIGECONET is not set CONFIGWANROUTER is not set CONFIGNETFASTROUTE is not set CONFIGNETHWFLOWCONTROL is not set QoS andor fair queueing CONFIGNETSCHED is not set Network testing CONFIGNETPKTGEN is not set CONFIGNETPOLL is not set CONFIGNETPOLLCONTROLLER is not set CONFIGHAMRADIO is not set CONFIGIRDAm IrDA protocols CONFIGIRLANm CONFIGIRNETm CONFIGIRCOMMm CONFIGIRDAULTRAy IrDA options CONFIGIRDACACHELASTLSAPy CONFIGIRDAFASTRRy CONFIGIRDADEBUG is not set Infraredport device drivers SIR device drivers CONFIGIRTTYSIRm Dongle support CONFIGDONGLEy CONFIGESIDONGLEm CONFIGACTISYSDONGLEm CONFIGTEKRAMDONGLEm CONFIGLITELINKDONGLEm CONFIGGIRBILDONGLEm CONFIGOLDBELKINDONGLEm Old SIR device drivers CONFIGIRPORTSIRm Old Serial dongle support FIR device drivers CONFIGUSBIRDAm CONFIGSIGMATELFIRm CONFIGNSCFIRm CONFIGWINBONDFIRm CONFIGTOSHIBAFIRm CONFIGSMCIRCCFIRm CONFIGALIFIRm CONFIGVLSIFIRm CONFIGVIAFIRm CONFIGBTm CONFIGBTL2CAPm CONFIGBTSCOm CONFIGBTRFCOMMm CONFIGBTRFCOMMTTYy CONFIGBTBNEPm CONFIGBTBNEPMCFILTERy CONFIGBTBNEPPROTOFILTERy Bluetooth device drivers CONFIGBTHCIUSBm CONFIGBTHCIUSBSCO is not set CONFIGBTHCIUARTm CONFIGBTHCIUARTH4y CONFIGBTHCIUARTBCSPy is not set is not set CONFIGBTHCIDTL1m CONFIGBTHCIBT3Cm CONFIGBTHCIBLUECARDm CONFIGBTHCIBTUARTm CONFIGBTHCIVHCIm CONFIGNETDEVICESy CONFIGDUMMYm CONFIGBONDING is not set CONFIGEQUALIZER is not set CONFIGTUN is not set CONFIGETHERTAPm is not set ARCnet devices CONFIGARCNET is not set Ethernet 10 or CONFIGNETETHERNETy CONFIGMIIy CONFIGHAPPYMEAL is not set CONFIGSUNGEM is not set CONFIGNETVENDOR3COM is not set CONFIGLANCE is not set CONFIGNETVENDORSMC is not set CONFIGNETVENDORRACAL is not set Tulip family network device support CONFIGNETTULIP is not set is not set CONFIGDEPCA is not set is not set CONFIGNETISA is not set CONFIGNETPCIy is not set is not set CONFIGADAPTECSTARFIRE is not set is not set CONFIGAPRICOT is not set CONFIGFORCEDETH is not set is not set CONFIGDGRS is not set is not set is not set CONFIGFEALNX is not set CONFIGNATSEMI is not set CONFIGNE2KPCI is not set is not set is not set is not set is not set CONFIGSUNDANCE is not set CONFIGTLAN is not set CONFIGVIARHINE is not set CONFIGNETPOCKET is not set Ethernet 1000 Mbit CONFIGACENIC is not set CONFIGDL2K is not set is not set is not set CONFIGHAMACHI is not set CONFIGYELLOWFIN is not set is not set is not set CONFIGTIGON3 is not set Ethernet 10000 Mbit CONFIGIXGB is not set CONFIGS2IO is not set Token Ring devices CONFIGTR is not set Wireless LAN nonhamradio CONFIGNETRADIOy Obsolete Wireless cards support CONFIGSTRIPm CONFIGARLANm CONFIGWAVELANm CONFIGPCMCIAWAVELANm CONFIGPCMCIANETWAVEm Wireless 80211 Frequency Hopping cards support CONFIGPCMCIARAYCSm Wireless 80211b ISAPCI cards support CONFIGAIROm CONFIGHERMESm CONFIGPLXHERMESm CONFIGTMDHERMESm CONFIGPCIHERMESm CONFIGATMEL is not set Wireless 80211b PcmciaCardbus cards support CONFIGPCMCIAHERMESm CONFIGAIROCSm Prism GTDuette PCICardbus support CONFIGNETWIRELESSy PCMCIA network device support CONFIGNETPCMCIAy CONFIGPCMCIAPCNETm CONFIGPCMCIANMCLANm CONFIGPCMCIAXIRC2PSm CONFIGPCMCIAAXNETm Wan interfaces CONFIGWAN is not set CONFIGFDDI is not set CONFIGHIPPI is not set CONFIGPLIP is not set CONFIGPPPm CONFIGPPPMULTILINK is not set CONFIGPPPFILTERy CONFIGPPPASYNCm CONFIGPPPSYNCTTYm CONFIGPPPDEFLATEm CONFIGPPPBSDCOMPm CONFIGPPPOEm CONFIGSLIPm CONFIGSLIPCOMPRESSEDy CONFIGSLIPSMARTy CONFIGSLIPMODESLIP6y CONFIGNETFC is not set CONFIGRCPCI is not set CONFIGSHAPER is not set CONFIGNETCONSOLE is not set ISDN subsystem CONFIGISDN is not set Telephony Support CONFIGPHONE is not set Input device support CONFIGINPUTy Userland interfaces CONFIGINPUTMOUSEDEVy CONFIGINPUTMOUSEDEVPSAUXy CONFIGINPUTJOYDEV is not set CONFIGINPUTTSDEV is not set CONFIGINPUTEVDEVy CONFIGINPUTEVBUG is not set Input IO drivers CONFIGGAMEPORT is not set CONFIGSOUNDGAMEPORTy CONFIGSERIOy CONFIGSERIOSERPORT is not set is not set CONFIGSERIOPARKBD is not set CONFIGSERIOPCIPS2m Input Device Drivers CONFIGINPUTKEYBOARDy CONFIGKEYBOARDATKBDy CONFIGKEYBOARDSUNKBD is not set CONFIGKEYBOARDLKKBD is not set CONFIGKEYBOARDXTKBD is not set CONFIGKEYBOARDNEWTON is not set CONFIGINPUTMOUSEy CONFIGMOUSEPS2y CONFIGMOUSESERIAL is not set CONFIGMOUSEINPORT is not set CONFIGMOUSELOGIBM is not set is not set CONFIGMOUSEVSXXXAA is not set CONFIGINPUTJOYSTICK is not set CONFIGINPUTTOUCHSCREEN is not set CONFIGINPUTMISC is not set Character devices CONFIGVTy CONFIGVTCONSOLEy CONFIGHWCONSOLEy CONFIGSERIALNONSTANDARD is not set Serial drivers is not set is not set is not set is not set serial port support CONFIGSERIALCOREy CONFIGLEGACYPTYSy CONFIGPRINTERm CONFIGLPCONSOLE is not set CONFIGPPDEV is not set CONFIGTIPAR is not set is not set IPMI CONFIGIPMIHANDLER is not set Watchdog Cards CONFIGWATCHDOG is not set CONFIGHWRANDOM is not set CONFIGNVRAM is not set CONFIGRTC is not set CONFIGGENRTC is not set CONFIGDTLK is not set is not set CONFIGAPPLICOM is not set CONFIGSONYPI is not set Ftape the floppy tape device driver CONFIGFTAPE is not set CONFIGAGPm CONFIGAGPALI is not set CONFIGAGPATI is not set CONFIGAGPAMD is not set is not set CONFIGAGPINTELm CONFIGAGPINTELMCH is not set CONFIGAGPNVIDIA is not set CONFIGAGPSIS is not set CONFIGAGPSWORKS is not set CONFIGAGPVIA is not set CONFIGAGPEFFICEON is not set CONFIGDRM is not set PCMCIA character devices CONFIGSYNCLINKCS is not set CONFIGMWAVEm CONFIGRAWDRIVERm CONFIGHANGCHECKTIMER is not set I2C support CONFIGI2Cm CONFIGI2CCHARDEVm I2C Algorithms CONFIGI2CALGOBITm CONFIGI2CALGOPCFm I2C Hardware Bus support is not set is not set is not set is not set is not set CONFIGI2CELEKTOR is not set is not set CONFIGI2CISAm is not set CONFIGI2CPARPORT is not set CONFIGI2CPARPORTLIGHT is not set is not set CONFIGI2CPROSAVAGE is not set is not set is not set is not set is not set is not set CONFIGI2CVIA is not set CONFIGI2CVIAPRO is not set is not set Hardware Sensors Chip support CONFIGI2CSENSORm is not set is not set is not set CONFIGSENSORSFSCHER is not set is not set is not set is not set is not set is not set is not set is not set is not set is not set is not set is not set is not set Other I2C Chip support CONFIGSENSORSEEPROMm is not set is not set CONFIGI2CDEBUGCORE is not set CONFIGI2CDEBUGALGO is not set CONFIGI2CDEBUGBUS is not set CONFIGI2CDEBUGCHIP is not set Misc devices CONFIGIBMASM is not set Multimedia devices CONFIGVIDEODEV is not set Digital Video Broadcasting Devices CONFIGDVB is not set Graphics support CONFIGFBy CONFIGFBPM2 is not set is not set CONFIGFBIMSTT is not set is not set CONFIGFBVESAy CONFIGVIDEOSELECTy CONFIGFBHGA is not set CONFIGFBRIVA is not set is not set CONFIGFBMATROX is not set CONFIGFBRADEONOLD is not set CONFIGFBRADEONm CONFIGFBRADEONI2Cy CONFIGFBRADEONDEBUG is not set is not set CONFIGFBATY is not set CONFIGFBSIS is not set CONFIGFBNEOMAGIC is not set CONFIGFBKYRO is not set CONFIGFB3DFX is not set CONFIGFBVOODOO1 is not set CONFIGFBTRIDENT is not set CONFIGFBVIRTUAL is not set Console display driver support CONFIGVGACONSOLEy CONFIGMDACONSOLE is not set CONFIGDUMMYCONSOLEy CONFIGFRAMEBUFFERCONSOLEy CONFIGPCICONSOLEy CONFIGFONTS is not set Logo configuration CONFIGLOGOy CONFIGLOGOLINUXMONO is not set is not set Sound CONFIGSOUNDy Advanced Linux Sound Architecture CONFIGSNDy CONFIGSNDTIMERy CONFIGSNDPCMy CONFIGSNDHWDEPm CONFIGSNDRAWMIDIy CONFIGSNDSEQUENCERy CONFIGSNDSEQDUMMY is not set CONFIGSNDOSSEMULy CONFIGSNDMIXEROSSy CONFIGSNDPCMOSSy CONFIGSNDSEQUENCEROSSy CONFIGSNDVERBOSEPRINTK is not set CONFIGSNDDEBUG is not set Generic devices CONFIGSNDVXLIBm CONFIGSNDDUMMY is not set CONFIGSNDVIRMIDI is not set CONFIGSNDMTPAV is not set is not set is not set ISA devices is not set is not set is not set is not set is not set is not set CONFIGSNDGUSCLASSIC is not set CONFIGSNDGUSEXTREME is not set CONFIGSNDGUSMAX is not set CONFIGSNDINTERWAVE is not set CONFIGSNDINTERWAVESTB is not set is not set is not set is not set CONFIGSNDSB8 is not set is not set CONFIGSNDSBAWE is not set CONFIGSNDWAVEFRONT is not set is not set is not set CONFIGSNDSGALAXY is not set CONFIGSNDSSCAPE is not set PCI devices is not set CONFIGSNDATIIXP is not set is not set is not set is not set is not set is not set is not set is not set is not set is not set CONFIGSNDMIXART is not set is not set is not set is not set is not set CONFIGSNDHDSP is not set CONFIGSNDTRIDENT is not set CONFIGSNDYMFPCI is not set is not set CONFIGSNDCMIPCI is not set is not set is not set is not set is not set CONFIGSNDMAESTRO3 is not set is not set is not set is not set is not set CONFIGSNDSONICVIBES is not set is not set is not set ALSA USB devices CONFIGSNDUSBAUDIOm PCMCIA devices CONFIGSNDPDAUDIOCF is not set Open Sound System CONFIGSOUNDPRIME is not set USB support CONFIGUSBm CONFIGUSBDEBUG is not set Miscellaneous USB options CONFIGUSBDEVICEFSy CONFIGUSBBANDWIDTHy CONFIGUSBDYNAMICMINORSy USB Host Controller Drivers CONFIGUSBEHCIHCDm CONFIGUSBEHCISPLITISO is not set CONFIGUSBEHCIROOTHUBTT is not set CONFIGUSBOHCIHCD is not set CONFIGUSBUHCIHCDm USB Device Class drivers CONFIGUSBAUDIOm USB Bluetooth TTY can only be used with disabled Bluetooth subsystem CONFIGUSBMIDIm CONFIGUSBACMm CONFIGUSBPRINTERm CONFIGUSBSTORAGEm CONFIGUSBSTORAGEDEBUG is not set CONFIGUSBSTORAGEDATAFABy CONFIGUSBSTORAGEFREECOMy CONFIGUSBSTORAGEDPCMy CONFIGUSBSTORAGEJUMPSHOTy USB Human Interface Devices HID CONFIGUSBHIDm CONFIGUSBHIDINPUTy CONFIGHIDFF is not set CONFIGUSBHIDDEVy USB HID Boot Protocol drivers CONFIGUSBKBD is not set CONFIGUSBMOUSE is not set CONFIGUSBAIPTEKm CONFIGUSBWACOMm CONFIGUSBKBTABm CONFIGUSBPOWERMATEm CONFIGUSBMTOUCH is not set CONFIGUSBXPADm CONFIGUSBATIREMOTE is not set USB Imaging devices CONFIGUSBMICROTEKm CONFIGUSBHPUSBSCSIm USB Multimedia devices CONFIGUSBDABUSBm Video4Linux support is needed for USB Multimedia device support USB Network adaptors CONFIGUSBCATCm CONFIGUSBKAWETHm CONFIGUSBPEGASUSm CONFIGUSBUSBNETm USB HosttoHost Cables CONFIGUSBBELKINy CONFIGUSBGENESYSy Intelligent USB DevicesGadgets CONFIGUSBARMLINUXy CONFIGUSBZAURUSy CONFIGUSBCDCETHERy USB Network Adapters USB port drivers USB Serial Converter support CONFIGUSBSERIALm CONFIGUSBSERIALGENERICy CONFIGUSBSERIALBELKINm CONFIGUSBSERIALWHITEHEATm CONFIGUSBSERIALDIGIACCELEPORTm CONFIGUSBSERIALEMPEGm CONFIGUSBSERIALFTDISIOm CONFIGUSBSERIALVISORm CONFIGUSBSERIALIPAQm CONFIGUSBSERIALIRm CONFIGUSBSERIALEDGEPORTm CONFIGUSBSERIALEDGEPORTTIm CONFIGUSBSERIALKEYSPANPDAm CONFIGUSBSERIALKEYSPANm CONFIGUSBSERIALKEYSPANMPRy CONFIGUSBSERIALKLSIm CONFIGUSBSERIALKOBILSCTm CONFIGUSBSERIALSAFEm CONFIGUSBSERIALSAFEPADDEDy CONFIGUSBSERIALCYBERJACKm CONFIGUSBSERIALXIRCOMm CONFIGUSBSERIALOMNINETm CONFIGUSBEZUSBy USB Miscellaneous drivers is not set CONFIGUSBTIGLm CONFIGUSBAUERSWALDm CONFIGUSBLEGOTOWERm CONFIGUSBLCD is not set CONFIGUSBLED is not set CONFIGUSBCYTHERMm CONFIGUSBTEST is not set USB Gadget Support CONFIGUSBGADGET is not set File systems CONFIGEXT2FSm CONFIGEXT2FSXATTR is not set CONFIGEXT3FSm CONFIGEXT3FSXATTRy CONFIGEXT3FSPOSIXACL is not set CONFIGEXT3FSSECURITY is not set CONFIGJBDm CONFIGJBDDEBUG is not set CONFIGFSMBCACHEm CONFIGREISERFSFSy CONFIGREISERFSCHECK is not set CONFIGREISERFSPROCINFO is not set CONFIGJFSFSm CONFIGJFSPOSIXACL is not set CONFIGJFSDEBUG is not set CONFIGJFSSTATISTICS is not set CONFIGXFSFSm CONFIGXFSRT is not set CONFIGXFSQUOTA is not set CONFIGXFSSECURITY is not set CONFIGXFSPOSIXACL is not set CONFIGMINIXFS is not set CONFIGROMFSFS is not set CONFIGQUOTA is not set CONFIGAUTOFSFS is not set CONFIGAUTOFS4FSy CDROMDVD Filesystems CONFIGJOLIETy CONFIGZISOFSy CONFIGZISOFSFSm CONFIGUDFFSy DOSFATNT Filesystems CONFIGFATFSm CONFIGMSDOSFSm CONFIGVFATFSm CONFIGNTFSFSm CONFIGNTFSDEBUG is not set CONFIGNTFSRW is not set Pseudo filesystems CONFIGPROCFSy CONFIGPROCKCOREy CONFIGSYSFSy CONFIGDEVFSFSy CONFIGDEVFSMOUNTy CONFIGDEVFSDEBUG is not set CONFIGDEVPTSFSXATTRy CONFIGDEVPTSFSSECURITYy CONFIGTMPFSy CONFIGHUGETLBFS is not set CONFIGHUGETLBPAGE is not set CONFIGRAMFSy Miscellaneous filesystems CONFIGADFSFSm CONFIGADFSFSRW is not set CONFIGAFFSFSm CONFIGHFSFSm CONFIGHFSPLUSFS is not set CONFIGBEFSFSm CONFIGBEFSDEBUG is not set CONFIGBFSFSm CONFIGEFSFSm CONFIGCRAMFSm CONFIGVXFSFSm CONFIGHPFSFSm CONFIGQNX4FSFSm CONFIGQNX4FSRW is not set CONFIGSYSVFSm CONFIGUFSFSm CONFIGUFSFSWRITE is not set Network File Systems CONFIGNFSFSm CONFIGNFSV3y CONFIGNFSV4 is not set CONFIGNFSDIRECTIO is not set CONFIGNFSDm CONFIGNFSDV3y CONFIGNFSDV4 is not set CONFIGNFSDTCPy CONFIGLOCKDm CONFIGLOCKDV4y CONFIGEXPORTFSm CONFIGSUNRPCm CONFIGRPCSECGSSKRB5 is not set CONFIGSMBFSm CONFIGSMBNLSDEFAULTy CONFIGCIFSm CONFIGNCPFSm CONFIGNCPFSPACKETSIGNINGy CONFIGNCPFSIOCTLLOCKINGy CONFIGNCPFSSTRONGy CONFIGNCPFSNFSNSy CONFIGNCPFSOS2NSy CONFIGNCPFSSMALLDOSy CONFIGNCPFSNLSy CONFIGNCPFSEXTRASy CONFIGCODAFSm CONFIGINTERMEZZOFSm CONFIGAFSFS is not set Partition Types CONFIGPARTITIONADVANCED is not set CONFIGMSDOSPARTITIONy Native Language Support CONFIGNLSy CONFIGNLSKOI8Rm CONFIGNLSKOI8Um CONFIGNLSUTF8m Profiling support CONFIGPROFILING is not set Kernel hacking CONFIGDEBUGKERNEL is not set CONFIGEARLYPRINTKy CONFIGDEBUGSPINLOCKSLEEP is not set CONFIGFRAMEPOINTER is not set CONFIG4KSTACKSy Security options CONFIGSECURITY is not set Cryptographic options CONFIGCRYPTOy CONFIGCRYPTOHMACy CONFIGCRYPTONULLm CONFIGCRYPTOMD4m CONFIGCRYPTOMD5m CONFIGCRYPTOSHA1m CONFIGCRYPTODESm CONFIGCRYPTOBLOWFISHm CONFIGCRYPTOTWOFISHm CONFIGCRYPTOSERPENTm CONFIGCRYPTOAESm CONFIGCRYPTOCAST5m CONFIGCRYPTOCAST6m CONFIGCRYPTOARC4m CONFIGCRYPTODEFLATEm CONFIGCRYPTOMICHAELMICm CONFIGCRYPTOTESTm Library routines CONFIGZLIBINFLATEm CONFIGZLIBDEFLATEm CONFIGPCy Problem Description With LVM partitions on the harddisk unmounting unplug harddisk then plug it in again the partitions are not mountable any more Error message Too many filesystems mounted or superblock damaged When shutting down the system it hangs very close before power off With the gentoo kernels and I get the following messages while shutting down and filesystem operations hang also without lvm similar messages above scsi0 00 rejecting IO to offline device ReiserFS sda1 warning io failure occurred trying to find stat data of 770 0x0 SD cut here kernel BUG at invalid operand 0000 1 Modules linked in sg srmod usbhid sdmod radeonfb usbstorage scsimod uhcihcd intelagp agpgart microcode usbcore ds yentasocket pcmciacore eeprom i2cisa i2calgobit i2cdev i2csensor i2ccore CPU 0 EIP Not tainted EFLAGS The same with with or without kernel It goes on but similar like the last time I shutted my system down with Unmounting filesystems buffer write failed cut here kernel BUG at invalid operand 0000 1 PREEMPT CPU 0 EIP Not tainted EFLAGS EIP is at eax ebx ecx edx esi 007b edi ebp esp ds 007b es 007b ss 0068 Process umount pid Stack output Call trace Code 0f 0b 53 01 14 e4 32 c0 c7 04 24 9c 16 33 c0 b8 0d e0 32 c0 line 123 Segmentation fault umount x devnull INIT no more processes left in this runlevel Then the system hangs I some output because I had to copy it by hand and typos in the numbers would not help I think dmesg when connected the first time kernel 266 usb 44 new high speed USB device using address 2 Initializing USB Mass Storage driver scsi0 SCSI emulation for USB Mass Storage devices Vendor WDC Model Rev 150 Type DirectAccess ANSI SCSI revision 02 SCSI device sda hdwr sectors 200050 MB sda assuming drive cache write through p1 Attached scsi disk sda at scsi0 channel 0 id 0 lun 0 Attached scsi generic sg0 at scsi0 channel 0 id 0 lun 0 type 0 USB Mass Storage device found at 2 usbcore registered new driver usbstorage USB Mass Storage support registered when disconnecting usb 44 USB disconnect address 2 idefloppy driver when disconnecting again usb 44 new high speed USB device using address 3 scsi1 SCSI emulation for USB Mass Storage devices Vendor WDC Model Rev 150 Type DirectAccess ANSI SCSI revision 02 SCSI device sdb hdwr sectors 200050 MB sdb assuming drive cache write through p1 Attached scsi disk sdb at scsi1 channel 0 id 0 lun 0 Attached scsi generic sg0 at scsi1 channel 0 id 0 lun 0 type 0 USB Mass Storage device found at 3 scsi0 00 rejecting IO to dead device Buffer IO error on device dm2 logical block 0 Buffer IO error on device dm2 logical block 1 Buffer IO error on device dm2 logical block 2 Buffer IO error on device dm2 logical block 3 Buffer IO error on device dm2 logical block 4 Buffer IO error on device dm2 logical block 5 Buffer IO error on device dm2 logical block 6 Buffer IO error on device dm2 logical block 7 Buffer IO error on device dm2 logical block 8 Buffer IO error on device dm2 logical block 9 Buffer IO error on device dm2 logical block 10 Buffer IO error on device dm2 logical block 11 Buffer IO error on device dm2 logical block 12 Buffer IO error on device dm2 logical block 13 Buffer IO error on device dm2 logical block 14 Buffer IO error on device dm2 logical block 15 scsi0 00 rejecting IO to dead device Buffer IO error on device dm2 logical block 0 scsi0 00 rejecting IO to dead device Buffer IO error on device dm2 logical block 8 scsi0 00 rejecting IO to dead device FAT unable to read boot sector Additional this time it was not possible to mount the lvm volumes the first time connecting I dont want to try it out again with standard partitions because Im not able to get my data from the harddisk and I dont want to lose it On another PC with a SuSE 2420 kernel the harddisk is not useable at all in dmesg it says that it shuts it down and that possible the USB cable is broken Im quite sure it is not Ive tested it allready on the PC of my with windows running there it worked Steps to reproduce Connect the harddrive to one USB 20 interface create partitions on it or use it with lvm make filesystems on the unmount the partitions if they were mounted disconnect the harddrive and connect it again it will not be able to use the harddisk any more maybe you can read the partition table with fdisk or cfdisk but maybe not it behaves very strange At shutdown the system will hang', 'P2 high')\n",
            "(' CPU generates more heat in 267 than in 24 causing critical temperatures Acer TravelMate Distribution Fedora Core 2 Hardware Environment Acer TravelMate Software Environment Stock kernelorg kernel with ACPI patch applied Problem Description With 2426 my laptop works fine and moderate temperature is held with moderate fan speed When I boot into 267 the cpu quickly to a point where the cooling system isnt capable of keeping the system running resulting in a emergency shutdown when the cpu reaches 80 degrees This is when the system is basically idle cpufreq isnt enabled and proccpuinfo reports the correct cpu frequency 20GHz In a discussion in acpidevel mailing list two other people had the same problem One of them had the same machine as I He commented that from power consumption that the cpu doesnt seem to do idle looping Steps to reproduce Boot into 267 Kernel log Jun 30 kernel Linux version 267 gcc version 333 Red Hat Linux 3337 2 Wed Jun 30 EEST 2004 Jun 30 kernel BIOSprovided physical RAM map Jun 30 kernel usable Jun 30 kernel reserved Jun 30 kernel reserved Jun 30 kernel usable Jun 30 kernel ACPI data Jun 30 kernel ACPI NVS Jun 30 kernel reserved Jun 30 kernel reserved Jun 30 kernel reserved Jun 30 portmap portmap startup succeeded Jun 30 kernel reserved Jun 30 kernel reserved Jun 30 random Initializing random number generator succeeded Jun 30 kernel LOWMEM available Jun 30 kernel On node 0 totalpages Jun 30 pcmcia Starting PCMCIA services Jun 30 watching 1 socket Jun 30 kernel DMA zone 4096 pages LIFO batch1 Jun 30 pcmcia watching 1 socket Jun 30 kernel Normal zone pages LIFO Jun 30 pcmcia done Jun 30 kernel HighMem zone 0 pages LIFO batch1 Jun 30 rc Starting pcmcia succeeded Jun 30 kernel DMI present Jun 30 kernel ACPI RSDP v000 PTLTD Jun 30 kernel ACPI RSDT v001 PTLTD RSDT LTP Jun 30 kernel ACPI FADT v001 INTEL PTL Jun 30 kernel ACPI MADT v001 PTLTD I APIC LTP Jun 30 netfs Mounting other filesystems succeeded Jun 30 kernel ACPI BOOT v001 PTLTD SBFTBL LTP Jun 30 kernel ACPI DSDT v001 MSFT Jun 30 acpid acpid startup succeeded Jun 30 kernel Built 1 zonelists Jun 30 kernel Kernel command line ro rootdevhda6 Jun 30 rc Starting succeeded Jun 30 kernel Initializing CPU0 Jun 30 sshd succeeded Jun 30 iptables succeeded Jun 30 kernel CPU 0 irqstacks Jun 30 iptables succeeded Jun 30 kernel PID hash table entries 1024 order 10 8192 bytes Jun 30 xinetd xinetd startup succeeded Jun 30 iptables succeeded Jun 30 kernel Detected MHz processor Jun 30 iptables succeeded Jun 30 kernel Using tsc for highres timesource Jun 30 sysctl netipv4ipforward 0 Jun 30 kernel Console colour dummy device 80x25 Jun 30 sysctl 1 Jun 30 kernel Memory available kernel code reserved data 152k init 0k highmem Jun 30 sysctl 1 Jun 30 kernel Checking if this processor honours the WP bit even in supervisor mode Ok Jun 30 network Setting network parameters succeeded Jun 30 kernel Calibrating delay loop BogoMIPS Jun 30 kernel Dentry cache hash table entries 32768 order 5 131072 bytes Jun 30 kernel Inodecache hash table entries 16384 order 4 65536 bytes Jun 30 kernel Mountcache hash table entries 512 order 0 4096 bytes Jun 30 postfix succeeded Jun 30 crond crond startup succeeded Jun 30 kernel CPU Trace cache 12K uops L1 D cache 8K Jun 30 kernel CPU L2 cache 256K Jun 30 kernel Intel machine check architecture supported Jun 30 kernel Intel machine check reporting enabled on CPU0 Jun 30 kernel CPU0 Intel P4Xeon Extended MCE MSRs 12 available Jun 30 kernel CPU Intel Mobile IntelR CeleronR CPU 200GHz stepping 07 Jun 30 kernel Enabling fast FPU save and restore done Jun 30 kernel Enabling unmasked SIMD FPU exception support done Jun 30 kernel Checking hlt instruction OK Jun 30 kernel NET Registered protocol family 16 Jun 30 kernel PCI PCI BIOS revision 210 entry at last bus2 Jun 30 kernel PCI Using configuration type 1 Jun 30 kernel mtrr v20 Jun 30 kernel ACPI Subsystem revision Jun 30 kernel ACPI IRQ9 SCI Edge set to Level Trigger Jun 30 kernel ACPI Interpreter enabled Jun 30 kernel ACPI Using PIC for interrupt routing Jun 30 kernel ACPI PCI Root Bridge PCI0 0000 Jun 30 kernel PCI Probing PCI hardware bus 00 Jun 30 kernel PCI Ignoring BAR03 of IDE controller Jun 30 xinetd Version started with loadavg options compiled in Jun 30 kernel PCI Transparent bridge Jun 30 Started working 1 available service Jun 30 cups cupsd startup succeeded Jun 30 kernel ACPI Embedded Controller EC gpe 28 Jun 30 kernel ACPI PCI Interrupt Link LNKA IRQs 10 Jun 30 kernel ACPI PCI Interrupt Link LNKB IRQs 10 11 Jun 30 kernel ACPI PCI Interrupt Link LNKC IRQs 11 Jun 30 anacron anacron startup succeeded Jun 30 kernel ACPI PCI Interrupt Link LNKD IRQs 11 Jun 30 startup succeeded Jun 30 kernel ACPI PCI Interrupt Link LNKE IRQs 10 11 0 disabled Jun 30 kernel ACPI PCI Interrupt Link LNKF IRQs 11 0 disabled Jun 30 kernel ACPI PCI Interrupt Link LNKG IRQs 10 11 0 disabled Jun 30 startup succeeded Jun 30 kernel ACPI PCI Interrupt Link LNKH IRQs 11 Jun 30 kernel SCSI subsystem initialized Jun 30 kernel Linux Kernel Card Services Jun 30 kernel options pci cardbus pm Jun 30 kernel usbcore registered new driver usbfs Jun 30 kernel usbcore registered new driver hub Jun 30 kernel PCI Using ACPI for IRQ routing Jun 30 kernel ACPI PCI Interrupt Link LNKA enabled at IRQ 10 Jun 30 kernel ACPI PCI interrupt GSI 10 level low IRQ 10 Jun 30 kernel ACPI PCI interrupt GSI 10 level low IRQ 10 Jun 30 kernel ACPI PCI Interrupt Link LNKD enabled at IRQ 11 Jun 30 kernel ACPI PCI interrupt GSI 11 level low IRQ 11 Jun 30 kernel ACPI PCI Interrupt Link LNKC enabled at IRQ 11 Jun 30 kernel ACPI PCI interrupt GSI 11 level low IRQ 11 Jun 30 kernel ACPI PCI Interrupt Link LNKH enabled at IRQ 11 Jun 30 kernel ACPI PCI interrupt GSI 11 level low IRQ 11 Jun 30 kernel ACPI PCI interrupt GSI 11 level low IRQ 11 Jun 30 kernel ACPI PCI Interrupt Link LNKB enabled at IRQ 10 Jun 30 kernel ACPI PCI interrupt GSI 10 level low IRQ 10 Jun 30 kernel ACPI PCI interrupt GSI 10 level low IRQ 10 Jun 30 kernel ACPI PCI interrupt GSI 10 level low IRQ 10 Jun 30 kernel ACPI PCI interrupt GSI 11 level low IRQ 11 Jun 30 kernel ACPI PCI interrupt GSI 10 level low IRQ 10 Jun 30 kernel agpgart Detected an Intel 845G Chipset Jun 30 kernel agpgart Maximum main memory to use for agp memory Jun 30 kernel agpgart Detected stolen memory Jun 30 kernel agpgart AGP aperture is 128M Jun 30 kernel vesafb framebuffer at mapped to size 6144k Jun 30 kernel vesafb mode is pages1 Jun 30 kernel vesafb protected mode interface info at Jun 30 kernel vesafb scrolling redraw Jun 30 kernel vesafb directcolor Jun 30 kernel fb0 VESA VGA frame buffer device Jun 30 kernel Simple Boot Flag at 0x36 set to 0x1 Jun 30 kernel Machine check exception polling timer started Jun 30 kernel audit initializing netlink socket disabled Jun 30 kernel initialized Jun 30 kernel udf registering filesystem Jun 30 kernel ACPI AC Adapter AC online Jun 30 kernel ACPI Battery Slot BAT0 battery present Jun 30 kernel ACPI Power Button FF PWRF Jun 30 kernel ACPI Lid Switch LID Jun 30 kernel ACPI Sleep Button CM SLPB Jun 30 kernel ACPI Processor CPU supports C1 C2 C3 8 throttling states Jun 30 kernel ACPI Thermal Zone THM0 50 C Jun 30 kernel Console switching to colour frame buffer device 128x48 Jun 30 kernel lp driver loaded but no devices found Jun 30 kernel Linux agpgart interface v0100 c Dave Jones Jun 30 kernel mtrr overlaps existing Jun 30 kernel drm Initialized i830 132 on minor 0 Intel Corp Chipset Integrated Graphics Device Jun 30 kernel Serial driver Revision 190 8 ports IRQ sharing disabled Jun 30 kernel ACPI PCI interrupt GSI 10 level low IRQ 10 Jun 30 kernel parport0 PCstyle at 0x378 0x778 PCSPP Jun 30 kernel parport0 irq 7 detected Jun 30 kernel lp0 using parport0 polling Jun 30 kernel Using anticipatory io scheduler Jun 30 kernel Floppy drives fd0 is 144M Jun 30 kernel FDC 0 is a National Semiconductor Jun 30 kernel Fast Ethernet driver 0927 Jun 30 kernel ACPI PCI interrupt GSI 11 level low IRQ 11 Jun 30 kernel eth0 RealTek at 0x3000 IRQ 11 Jun 30 kernel Uniform MultiPlatform EIDE driver Revision Jun 30 kernel ide Assuming 33MHz system bus speed for PIO modes override with idebusxx Jun 30 kernel ICH4 IDE controller at PCI slot Jun 30 kernel PCI Enabling device 0005 0007 Jun 30 kernel ACPI PCI interrupt GSI 11 level low IRQ 11 Jun 30 kernel ICH4 chipset revision 2 Jun 30 kernel ICH4 not 100 native mode will probe irqs later Jun 30 kernel ide0 BMDMA at BIOS settings hdaDMA hdbpio Jun 30 kernel ide1 BMDMA at BIOS settings hdcDMA hddpio Jun 30 kernel hda ATA DISK drive Jun 30 kernel ide0 at on irq 14 Jun 30 kernel hdc QSI CDRWDVDROM SBW242 ATAPI CDDVDROM drive Jun 30 kernel ide1 at on irq 15 Jun 30 kernel hda max request size 128KiB Jun 30 kernel hda sectors 30005 MB Cache Jun 30 kernel hda hda1 hda2 hda5 hda6 hda7 hda3 Jun 30 kernel hdc ATAPI 24X DVDROM CDRRW drive 2048kB Cache UDMA33 Jun 30 kernel Uniform CDROM driver Revision 320 Jun 30 kernel ACPI PCI interrupt GSI 10 level low IRQ 10 Jun 30 kernel Yenta CardBus bridge found at Jun 30 kernel Yenta ISA IRQ mask PCI irq 10 Jun 30 kernel Socket status Jun 30 kernel PCMCIA probe not found Jun 30 kernel ACPI PCI interrupt GSI 11 level low IRQ 11 Jun 30 kernel ehcihcd Intel Corp ICH4 USB2 EHCI Controller Jun 30 kernel ehcihcd irq 11 pci mem Jun 30 kernel ehcihcd new USB bus registered assigned bus number 1 Jun 30 kernel ehcihcd USB 20 enabled EHCI 100 driver Jun 30 kernel hub 1010 USB hub found Jun 30 kernel hub 1010 6 ports detected Jun 30 kernel USB Universal Host Controller Interface driver v22 Jun 30 kernel ACPI PCI interrupt GSI 10 level low IRQ 10 Jun 30 kernel uhcihcd Intel Corp ICH4 USB UHCI 1 Jun 30 kernel uhcihcd irq 10 io base Jun 30 kernel uhcihcd new USB bus registered assigned bus number 2 Jun 30 kernel hub 2010 USB hub found Jun 30 kernel hub 2010 2 ports detected Jun 30 kernel ACPI PCI interrupt GSI 11 level low IRQ 11 Jun 30 kernel uhcihcd Intel Corp ICH4 USB UHCI 2 Jun 30 kernel uhcihcd irq 11 io base Jun 30 kernel uhcihcd new USB bus registered assigned bus number 3 Jun 30 kernel hub 3010 USB hub found Jun 30 kernel hub 3010 2 ports detected Jun 30 kernel ACPI PCI interrupt GSI 11 level low IRQ 11 Jun 30 kernel uhcihcd Intel Corp ICH4 USB UHCI 3 Jun 30 kernel uhcihcd irq 11 io base Jun 30 kernel uhcihcd new USB bus registered assigned bus number 4 Jun 30 kernel hub 4010 USB hub found Jun 30 kernel hub 4010 2 ports detected Jun 30 kernel usbcore registered new driver usblp Jun 30 kernel driversusbclassusblpc v013 USB Printer Device Class driver Jun 30 kernel Initializing USB Mass Storage driver Jun 30 kernel usbcore registered new driver usbstorage Jun 30 kernel USB Mass Storage support registered Jun 30 kernel usbcore registered new driver usbhid Jun 30 kernel driversusbinputhidcorec v20USB HID core driver Jun 30 kernel mice PS2 mouse device common for all mice Jun 30 kernel i8042c Detected active multiplexing controller rev 11 Jun 30 kernel serio i8042 AUX0 port at irq 12 Jun 30 kernel serio i8042 AUX1 port at irq 12 Jun 30 kernel serio i8042 AUX2 port at irq 12 Jun 30 kernel serio i8042 AUX3 port at irq 12 Jun 30 kernel Synaptics Touchpad model 1 Jun 30 kernel Firmware 46 Jun 30 kernel 180 degree mounted touchpad Jun 30 kernel Sensor 18 Jun 30 kernel new absolute packet format Jun 30 kernel Touchpad has extended capability bits Jun 30 kernel four buttons Jun 30 kernel multifinger detection Jun 30 kernel palm detection Jun 30 kernel input SynPS2 Synaptics TouchPad on Jun 30 kernel serio i8042 KBD port at irq 1 Jun 30 kernel input AT Translated Set 2 keyboard on Jun 30 kernel Advanced Linux Sound Architecture Driver Version 104 Mon May 17 143144 2004 UTC Jun 30 kernel ACPI PCI interrupt GSI 10 level low IRQ 10 Jun 30 kernel measured usecs Jun 30 kernel clocking to 48000 Jun 30 kernel ALSA device list Jun 30 kernel 0 Intel at irq 10 Jun 30 kernel NET Registered protocol family 2 Jun 30 kernel IP routing cache hash table of 2048 buckets Jun 30 kernel TCP Hash tables configured established 16384 bind 32768 Jun 30 kernel ipconntrack version 21 buckets max 296 bytes per conntrack Jun 30 kernel iptables C Netfilter core team Jun 30 kernel iptrecent v031 Stephen Frost sfrostsnowmannet httpsnowmannetprojectsiptrecent Jun 30 kernel arptables C 2002 David S Miller Jun 30 kernel NET Registered protocol family 1 Jun 30 kernel NET Registered protocol family 17 Jun 30 kernel ACPI supports S0 S3 S4 S5 Jun 30 kernel kjournald starting Commit interval 5 seconds Jun 30 kernel EXT3fs mounted filesystem with ordered data mode Jun 30 kernel VFS Mounted root ext3 filesystem readonly Jun 30 kernel Freeing unused kernel memory 152k freed Jun 30 kernel Real Time Clock Driver v112 Jun 30 kernel EXT3 FS on hda6 internal journal Jun 30 kernel Adding swap on devhda7 Priority1 extents1 Jun 30 kernel Loaded driver version 11 Jun 30 kernel PCI Enabling device 0000 0002 Jun 30 kernel ACPI PCI interrupt GSI 10 level low IRQ 10 Jun 30 session opened for user root by Jun 30 ROOT LOGIN ON tty1 Jun 30 kernel Critical temperature reached 80 C shutting down Jun 30 shutdown shutting down for system halt', 'P2 high')\n",
            "Testing Data\n",
            "(' NUMAQ hangs during TSC initialization on boot Exact Kernel version 2546 Distribution debian woody Harware Environment 16way NUMAQ Problem Description Hangs during TSC initialization on boot Theres a garbled panic during IOAPIC init then hang during TSC sync', 'P2 normal')\n",
            "(' Enabling shared pagetables causes KDE to wierd out Exact Kernel version Distribution Redhat 72 73 Hardware Environment P4 PC Software Environment KDE Problem Description Enabling shared pagetables causes KDE to wierd out Steps to reproduce Start KDE', 'P2 normal')\n",
            "(' Dcache out of control on Exact Kernel version Distribution Debian woody Harware Environment 16x NUMAQ My big NUMA box went OOM over the weekend and started killing things for no good reason Probably running some background updatedb for locate thing not doing any real work meminfo MemTotal kB MemFree kB 0 kB Buffers 492 kB Cached kB SwapCached 0 kB Active kB Inactive kB HighTotal kB HighFree kB LowTotal kB LowFree kB SwapTotal 0 kB SwapFree 0 kB Dirty 0 kB Writeback 0 kB Mapped kB Slab kB Reserved kB CommittedAS 1100 kB PageTables 140 kB ReverseMaps 1518 Big things out of 416 1 120 60 dentrycache 160 1 248 124 By my thats over of dentry cache thats refusing to shrink under pressure exactly either Any good ways to debug this', 'P2 blocking')\n",
            "(' 64GB highmem BUG Exact Kernel version 2540 Hardware Environment ia32 When I boot an 2540 x86 kernel built with and with a initial ramdisk uncompressed I get a kernel BUG at line 480 preceded by a message saying scheduling with 15 held The machine on which I experienced this problem has of RAM The problem occurs with and without CONFIGPREEMPT All kernels that tried were SMP kernels running on a uniprocessor The problem does not occur if I build 2540 with CONFIGHIGHMEM4G or So its probably not causing problems for many people but I thought I should report it anyhow', 'P2 normal')\n",
            "(' oops in kmemcachecreate Exact Kernel version Distribution Harware Environment Software Environment Problem Description Subject oops From Date Download message RAW Hi this oops happens everytime i try to boot in and has the same bug note the oops is from the numbers after kmemcachecreate and stext are the same so i wont the oops again if not really Yes anyone asks again Memory available blah blah if this honours the WP bit even in supervisor invalid operand 0000 CPU 0 EIP 0060 Not tainted EFLAGS EIP is at eax ebx ecx edx esi edi ffffffff ebp esp ds 0068 es 0068 ss 0068 Process swapper pid 0 Stack ffffffff Call trace Code 0f 18 00 8d 45 58 89 44 24 14 81 fb f8 3e 26 c0 74 70 8b 73 The box is a 233 Config attached', 'P2 normal')\n",
            "Done training!\n",
            "Accuracy: 0.5933333333333334\n",
            "F1 score: 0.5837070646170025\n"
          ],
          "name": "stdout"
        }
      ]
    },
    {
      "cell_type": "markdown",
      "metadata": {
        "id": "J5leNcfOx9BA"
      },
      "source": [
        "**9. Convert string into lower case with the chromium dataset**"
      ]
    },
    {
      "cell_type": "code",
      "metadata": {
        "id": "Q5RKcfm_73vX",
        "outputId": "2924e392-6c55-4dcc-9e92-996e2d04c171",
        "colab": {
          "base_uri": "https://localhost:8080/",
          "height": 220
        }
      },
      "source": [
        "def cast_to_lowercase(data):\n",
        "  data['text'] = data['text'].map(lambda s : s.lower())\n",
        "  return data\n",
        "data1 = cast_to_lowercase(data1)\n",
        "data2 = cast_to_lowercase(data2)\n",
        "data_top1 = data1.head()\n",
        "print(\"Chromium Lowercase\")\n",
        "data_top1"
      ],
      "execution_count": 17,
      "outputs": [
        {
          "output_type": "stream",
          "text": [
            "Chromium Lowercase\n"
          ],
          "name": "stdout"
        },
        {
          "output_type": "execute_result",
          "data": {
            "text/html": [
              "<div>\n",
              "<style scoped>\n",
              "    .dataframe tbody tr th:only-of-type {\n",
              "        vertical-align: middle;\n",
              "    }\n",
              "\n",
              "    .dataframe tbody tr th {\n",
              "        vertical-align: top;\n",
              "    }\n",
              "\n",
              "    .dataframe thead th {\n",
              "        text-align: right;\n",
              "    }\n",
              "</style>\n",
              "<table border=\"1\" class=\"dataframe\">\n",
              "  <thead>\n",
              "    <tr style=\"text-align: right;\">\n",
              "      <th></th>\n",
              "      <th>type</th>\n",
              "      <th>text</th>\n",
              "    </tr>\n",
              "  </thead>\n",
              "  <tbody>\n",
              "    <tr>\n",
              "      <th>0</th>\n",
              "      <td>Bug</td>\n",
              "      <td>define a way to enforce performance constraint...</td>\n",
              "    </tr>\n",
              "    <tr>\n",
              "      <th>1</th>\n",
              "      <td>Compat</td>\n",
              "      <td>websites that dont work with chrome browser nc...</td>\n",
              "    </tr>\n",
              "    <tr>\n",
              "      <th>2</th>\n",
              "      <td>Bug</td>\n",
              "      <td>redraw issuetruncation with confirmation item ...</td>\n",
              "    </tr>\n",
              "    <tr>\n",
              "      <th>3</th>\n",
              "      <td>Feature</td>\n",
              "      <td>implement canvasrenderingcontext2d for access ...</td>\n",
              "    </tr>\n",
              "    <tr>\n",
              "      <th>4</th>\n",
              "      <td>Bug</td>\n",
              "      <td>ath9k panic in athtxlastbeacon  0x29a ntot 30 ...</td>\n",
              "    </tr>\n",
              "  </tbody>\n",
              "</table>\n",
              "</div>"
            ],
            "text/plain": [
              "      type                                               text\n",
              "0      Bug  define a way to enforce performance constraint...\n",
              "1   Compat  websites that dont work with chrome browser nc...\n",
              "2      Bug  redraw issuetruncation with confirmation item ...\n",
              "3  Feature  implement canvasrenderingcontext2d for access ...\n",
              "4      Bug  ath9k panic in athtxlastbeacon  0x29a ntot 30 ..."
            ]
          },
          "metadata": {
            "tags": []
          },
          "execution_count": 17
        }
      ]
    },
    {
      "cell_type": "markdown",
      "metadata": {
        "id": "cKgVFTVfyOo5"
      },
      "source": [
        "**10. Convert string into lower case with the Linux dataset**"
      ]
    },
    {
      "cell_type": "code",
      "metadata": {
        "id": "8S8-uCI592ld",
        "outputId": "72e793a2-19db-40ee-9238-6c15bfcd822b",
        "colab": {
          "base_uri": "https://localhost:8080/",
          "height": 220
        }
      },
      "source": [
        "data_top2 = data2.head()\n",
        "print(\"Linux Lowercase\")\n",
        "data_top2"
      ],
      "execution_count": 18,
      "outputs": [
        {
          "output_type": "stream",
          "text": [
            "Linux Lowercase\n"
          ],
          "name": "stdout"
        },
        {
          "output_type": "execute_result",
          "data": {
            "text/html": [
              "<div>\n",
              "<style scoped>\n",
              "    .dataframe tbody tr th:only-of-type {\n",
              "        vertical-align: middle;\n",
              "    }\n",
              "\n",
              "    .dataframe tbody tr th {\n",
              "        vertical-align: top;\n",
              "    }\n",
              "\n",
              "    .dataframe thead th {\n",
              "        text-align: right;\n",
              "    }\n",
              "</style>\n",
              "<table border=\"1\" class=\"dataframe\">\n",
              "  <thead>\n",
              "    <tr style=\"text-align: right;\">\n",
              "      <th></th>\n",
              "      <th>importance</th>\n",
              "      <th>product</th>\n",
              "      <th>component</th>\n",
              "      <th>text</th>\n",
              "    </tr>\n",
              "  </thead>\n",
              "  <tbody>\n",
              "    <tr>\n",
              "      <th>0</th>\n",
              "      <td>P2 normal</td>\n",
              "      <td>IO/Storage</td>\n",
              "      <td>IDE</td>\n",
              "      <td>oops when using idecd with 2545 and cdrecord p...</td>\n",
              "    </tr>\n",
              "    <tr>\n",
              "      <th>1</th>\n",
              "      <td>P2 normal</td>\n",
              "      <td>Platform Specific/Hardware</td>\n",
              "      <td>i386</td>\n",
              "      <td>numaq hangs during tsc initialization on boot ...</td>\n",
              "    </tr>\n",
              "    <tr>\n",
              "      <th>2</th>\n",
              "      <td>P2 normal</td>\n",
              "      <td>Memory Management</td>\n",
              "      <td>Other</td>\n",
              "      <td>enabling shared pagetables causes kde to wierd...</td>\n",
              "    </tr>\n",
              "    <tr>\n",
              "      <th>3</th>\n",
              "      <td>P2 blocking</td>\n",
              "      <td>IO/Storage</td>\n",
              "      <td>Other</td>\n",
              "      <td>dcache spirals out of control on   exact kerne...</td>\n",
              "    </tr>\n",
              "    <tr>\n",
              "      <th>4</th>\n",
              "      <td>P2 normal</td>\n",
              "      <td>Memory Management</td>\n",
              "      <td>Other</td>\n",
              "      <td>64gb highmem bug exact kernel version 2540 har...</td>\n",
              "    </tr>\n",
              "  </tbody>\n",
              "</table>\n",
              "</div>"
            ],
            "text/plain": [
              "    importance  ...                                               text\n",
              "0    P2 normal  ...  oops when using idecd with 2545 and cdrecord p...\n",
              "1    P2 normal  ...  numaq hangs during tsc initialization on boot ...\n",
              "2    P2 normal  ...  enabling shared pagetables causes kde to wierd...\n",
              "3  P2 blocking  ...  dcache spirals out of control on   exact kerne...\n",
              "4    P2 normal  ...  64gb highmem bug exact kernel version 2540 har...\n",
              "\n",
              "[5 rows x 4 columns]"
            ]
          },
          "metadata": {
            "tags": []
          },
          "execution_count": 18
        }
      ]
    },
    {
      "cell_type": "markdown",
      "metadata": {
        "id": "-wXyNDfZyURN"
      },
      "source": [
        "**11. Remove the stopwords in Chromium dataset**"
      ]
    },
    {
      "cell_type": "code",
      "metadata": {
        "id": "3A2rDzOo75Go",
        "outputId": "206e0a55-8735-4673-f9d6-d4a8ccfb8771",
        "colab": {
          "base_uri": "https://localhost:8080/",
          "height": 220
        }
      },
      "source": [
        "def remove_stopwords(data):\n",
        "  stop_words = stopwords.words('english')\n",
        "  translator = str.maketrans('', '', string.punctuation)\n",
        "  stop_words = set([w.translate(translator) for w in stop_words]) # Apostrophes were removed already\n",
        "\n",
        "  data['text'] = data['text'].map(lambda s : ' '.join(map(lambda w: w if w not in stop_words else ' ', s.split())))\n",
        "  return data\n",
        "data1 = remove_stopwords(data1)\n",
        "data2 = remove_stopwords(data2)\n",
        "data_top1 = data1.head()\n",
        "print(\"Chromium Stopword\")\n",
        "data_top1"
      ],
      "execution_count": 19,
      "outputs": [
        {
          "output_type": "stream",
          "text": [
            "Chromium Stopword\n"
          ],
          "name": "stdout"
        },
        {
          "output_type": "execute_result",
          "data": {
            "text/html": [
              "<div>\n",
              "<style scoped>\n",
              "    .dataframe tbody tr th:only-of-type {\n",
              "        vertical-align: middle;\n",
              "    }\n",
              "\n",
              "    .dataframe tbody tr th {\n",
              "        vertical-align: top;\n",
              "    }\n",
              "\n",
              "    .dataframe thead th {\n",
              "        text-align: right;\n",
              "    }\n",
              "</style>\n",
              "<table border=\"1\" class=\"dataframe\">\n",
              "  <thead>\n",
              "    <tr style=\"text-align: right;\">\n",
              "      <th></th>\n",
              "      <th>type</th>\n",
              "      <th>text</th>\n",
              "    </tr>\n",
              "  </thead>\n",
              "  <tbody>\n",
              "    <tr>\n",
              "      <th>0</th>\n",
              "      <td>Bug</td>\n",
              "      <td>define   way   enforce performance constraint ...</td>\n",
              "    </tr>\n",
              "    <tr>\n",
              "      <th>1</th>\n",
              "      <td>Compat</td>\n",
              "      <td>websites     work   chrome browser nchrome ver...</td>\n",
              "    </tr>\n",
              "    <tr>\n",
              "      <th>2</th>\n",
              "      <td>Bug</td>\n",
              "      <td>redraw issuetruncation   confirmation item   d...</td>\n",
              "    </tr>\n",
              "    <tr>\n",
              "      <th>3</th>\n",
              "      <td>Feature</td>\n",
              "      <td>implement canvasrenderingcontext2d   access   ...</td>\n",
              "    </tr>\n",
              "    <tr>\n",
              "      <th>4</th>\n",
              "      <td>Bug</td>\n",
              "      <td>ath9k panic   athtxlastbeacon 0x29a ntot 30 ke...</td>\n",
              "    </tr>\n",
              "  </tbody>\n",
              "</table>\n",
              "</div>"
            ],
            "text/plain": [
              "      type                                               text\n",
              "0      Bug  define   way   enforce performance constraint ...\n",
              "1   Compat  websites     work   chrome browser nchrome ver...\n",
              "2      Bug  redraw issuetruncation   confirmation item   d...\n",
              "3  Feature  implement canvasrenderingcontext2d   access   ...\n",
              "4      Bug  ath9k panic   athtxlastbeacon 0x29a ntot 30 ke..."
            ]
          },
          "metadata": {
            "tags": []
          },
          "execution_count": 19
        }
      ]
    },
    {
      "cell_type": "markdown",
      "metadata": {
        "id": "mZsjnc_9yjn5"
      },
      "source": [
        "**12. Remove the stopwords in Linux dataset**"
      ]
    },
    {
      "cell_type": "code",
      "metadata": {
        "id": "KQd7GmvG9-Tu",
        "outputId": "de6a0d04-5f73-4e11-c9bc-3426d51b43eb",
        "colab": {
          "base_uri": "https://localhost:8080/",
          "height": 220
        }
      },
      "source": [
        "data_top2 = data2.head()\n",
        "print(\"Linux Stopword\")\n",
        "data_top2"
      ],
      "execution_count": 20,
      "outputs": [
        {
          "output_type": "stream",
          "text": [
            "Linux Stopword\n"
          ],
          "name": "stdout"
        },
        {
          "output_type": "execute_result",
          "data": {
            "text/html": [
              "<div>\n",
              "<style scoped>\n",
              "    .dataframe tbody tr th:only-of-type {\n",
              "        vertical-align: middle;\n",
              "    }\n",
              "\n",
              "    .dataframe tbody tr th {\n",
              "        vertical-align: top;\n",
              "    }\n",
              "\n",
              "    .dataframe thead th {\n",
              "        text-align: right;\n",
              "    }\n",
              "</style>\n",
              "<table border=\"1\" class=\"dataframe\">\n",
              "  <thead>\n",
              "    <tr style=\"text-align: right;\">\n",
              "      <th></th>\n",
              "      <th>importance</th>\n",
              "      <th>product</th>\n",
              "      <th>component</th>\n",
              "      <th>text</th>\n",
              "    </tr>\n",
              "  </thead>\n",
              "  <tbody>\n",
              "    <tr>\n",
              "      <th>0</th>\n",
              "      <td>P2 normal</td>\n",
              "      <td>IO/Storage</td>\n",
              "      <td>IDE</td>\n",
              "      <td>oops   using idecd   2545   cdrecord please en...</td>\n",
              "    </tr>\n",
              "    <tr>\n",
              "      <th>1</th>\n",
              "      <td>P2 normal</td>\n",
              "      <td>Platform Specific/Hardware</td>\n",
              "      <td>i386</td>\n",
              "      <td>numaq hangs   tsc initialization   boot exact ...</td>\n",
              "    </tr>\n",
              "    <tr>\n",
              "      <th>2</th>\n",
              "      <td>P2 normal</td>\n",
              "      <td>Memory Management</td>\n",
              "      <td>Other</td>\n",
              "      <td>enabling shared pagetables causes kde   wierd ...</td>\n",
              "    </tr>\n",
              "    <tr>\n",
              "      <th>3</th>\n",
              "      <td>P2 blocking</td>\n",
              "      <td>IO/Storage</td>\n",
              "      <td>Other</td>\n",
              "      <td>dcache spirals     control   exact kernel vers...</td>\n",
              "    </tr>\n",
              "    <tr>\n",
              "      <th>4</th>\n",
              "      <td>P2 normal</td>\n",
              "      <td>Memory Management</td>\n",
              "      <td>Other</td>\n",
              "      <td>64gb highmem bug exact kernel version 2540 har...</td>\n",
              "    </tr>\n",
              "  </tbody>\n",
              "</table>\n",
              "</div>"
            ],
            "text/plain": [
              "    importance  ...                                               text\n",
              "0    P2 normal  ...  oops   using idecd   2545   cdrecord please en...\n",
              "1    P2 normal  ...  numaq hangs   tsc initialization   boot exact ...\n",
              "2    P2 normal  ...  enabling shared pagetables causes kde   wierd ...\n",
              "3  P2 blocking  ...  dcache spirals     control   exact kernel vers...\n",
              "4    P2 normal  ...  64gb highmem bug exact kernel version 2540 har...\n",
              "\n",
              "[5 rows x 4 columns]"
            ]
          },
          "metadata": {
            "tags": []
          },
          "execution_count": 20
        }
      ]
    },
    {
      "cell_type": "markdown",
      "metadata": {
        "id": "YwzO66CFypJT"
      },
      "source": [
        "**13. Remove the rare words in Chromium Dataset**"
      ]
    },
    {
      "cell_type": "code",
      "metadata": {
        "id": "7_-eFCVq77mJ",
        "outputId": "dfec26b4-ae1a-4ceb-bb63-91447d917e4a",
        "colab": {
          "base_uri": "https://localhost:8080/",
          "height": 220
        }
      },
      "source": [
        "def remove_rare_words(data, min_count=3):\n",
        "  wc = {} # WordCount\n",
        "  def proc_word(s):\n",
        "    for w in set(s.split()):\n",
        "      if w in wc:\n",
        "        wc[w] += 1\n",
        "      else:\n",
        "        wc[w] = 1\n",
        "\n",
        "  for index, row in data.iterrows():\n",
        "    proc_word(row['text'])\n",
        "\n",
        "  data['text'] = data['text'].map(lambda s : ' '.join(map(lambda w: w if wc[w] >= min_count else ' ', s.split())))\n",
        "  return data\n",
        "data1 = remove_rare_words(data1)\n",
        "data2 = remove_rare_words(data2)\n",
        "data_top1 = data1.head()\n",
        "print(\"Chromium rare words\")\n",
        "data_top1"
      ],
      "execution_count": 21,
      "outputs": [
        {
          "output_type": "stream",
          "text": [
            "Chromium rare words\n"
          ],
          "name": "stdout"
        },
        {
          "output_type": "execute_result",
          "data": {
            "text/html": [
              "<div>\n",
              "<style scoped>\n",
              "    .dataframe tbody tr th:only-of-type {\n",
              "        vertical-align: middle;\n",
              "    }\n",
              "\n",
              "    .dataframe tbody tr th {\n",
              "        vertical-align: top;\n",
              "    }\n",
              "\n",
              "    .dataframe thead th {\n",
              "        text-align: right;\n",
              "    }\n",
              "</style>\n",
              "<table border=\"1\" class=\"dataframe\">\n",
              "  <thead>\n",
              "    <tr style=\"text-align: right;\">\n",
              "      <th></th>\n",
              "      <th>type</th>\n",
              "      <th>text</th>\n",
              "    </tr>\n",
              "  </thead>\n",
              "  <tbody>\n",
              "    <tr>\n",
              "      <th>0</th>\n",
              "      <td>Bug</td>\n",
              "      <td>define way enforce performance constraint spec...</td>\n",
              "    </tr>\n",
              "    <tr>\n",
              "      <th>1</th>\n",
              "      <td>Compat</td>\n",
              "      <td>websites work chrome browser nchrome version  ...</td>\n",
              "    </tr>\n",
              "    <tr>\n",
              "      <th>2</th>\n",
              "      <td>Bug</td>\n",
              "      <td>redraw   confirmation item download bar nchrom...</td>\n",
              "    </tr>\n",
              "    <tr>\n",
              "      <th>3</th>\n",
              "      <td>Feature</td>\n",
              "      <td>implement canvasrenderingcontext2d access work...</td>\n",
              "    </tr>\n",
              "    <tr>\n",
              "      <th>4</th>\n",
              "      <td>Bug</td>\n",
              "      <td>ath9k panic     ntot 30 kernel   resume associ...</td>\n",
              "    </tr>\n",
              "  </tbody>\n",
              "</table>\n",
              "</div>"
            ],
            "text/plain": [
              "      type                                               text\n",
              "0      Bug  define way enforce performance constraint spec...\n",
              "1   Compat  websites work chrome browser nchrome version  ...\n",
              "2      Bug  redraw   confirmation item download bar nchrom...\n",
              "3  Feature  implement canvasrenderingcontext2d access work...\n",
              "4      Bug  ath9k panic     ntot 30 kernel   resume associ..."
            ]
          },
          "metadata": {
            "tags": []
          },
          "execution_count": 21
        }
      ]
    },
    {
      "cell_type": "markdown",
      "metadata": {
        "id": "C_dyOaa_y2xM"
      },
      "source": [
        "**13. Remove the rare words in Linux Dataset**"
      ]
    },
    {
      "cell_type": "code",
      "metadata": {
        "id": "lzD8ivdv-FtH",
        "outputId": "be615b88-ff41-4028-c0da-2fab869eb2eb",
        "colab": {
          "base_uri": "https://localhost:8080/",
          "height": 220
        }
      },
      "source": [
        "data_top2 = data2.head()\n",
        "print(\"Linux rare words\")\n",
        "data_top2"
      ],
      "execution_count": 22,
      "outputs": [
        {
          "output_type": "stream",
          "text": [
            "Linux rare words\n"
          ],
          "name": "stdout"
        },
        {
          "output_type": "execute_result",
          "data": {
            "text/html": [
              "<div>\n",
              "<style scoped>\n",
              "    .dataframe tbody tr th:only-of-type {\n",
              "        vertical-align: middle;\n",
              "    }\n",
              "\n",
              "    .dataframe tbody tr th {\n",
              "        vertical-align: top;\n",
              "    }\n",
              "\n",
              "    .dataframe thead th {\n",
              "        text-align: right;\n",
              "    }\n",
              "</style>\n",
              "<table border=\"1\" class=\"dataframe\">\n",
              "  <thead>\n",
              "    <tr style=\"text-align: right;\">\n",
              "      <th></th>\n",
              "      <th>importance</th>\n",
              "      <th>product</th>\n",
              "      <th>component</th>\n",
              "      <th>text</th>\n",
              "    </tr>\n",
              "  </thead>\n",
              "  <tbody>\n",
              "    <tr>\n",
              "      <th>0</th>\n",
              "      <td>P2 normal</td>\n",
              "      <td>IO/Storage</td>\n",
              "      <td>IDE</td>\n",
              "      <td>oops using idecd 2545 cdrecord please enter ex...</td>\n",
              "    </tr>\n",
              "    <tr>\n",
              "      <th>1</th>\n",
              "      <td>P2 normal</td>\n",
              "      <td>Platform Specific/Hardware</td>\n",
              "      <td>i386</td>\n",
              "      <td>numaq hangs tsc initialization boot exact kern...</td>\n",
              "    </tr>\n",
              "    <tr>\n",
              "      <th>2</th>\n",
              "      <td>P2 normal</td>\n",
              "      <td>Memory Management</td>\n",
              "      <td>Other</td>\n",
              "      <td>enabling shared pagetables causes kde wierd ex...</td>\n",
              "    </tr>\n",
              "    <tr>\n",
              "      <th>3</th>\n",
              "      <td>P2 blocking</td>\n",
              "      <td>IO/Storage</td>\n",
              "      <td>Other</td>\n",
              "      <td>dcache   control exact kernel version distribu...</td>\n",
              "    </tr>\n",
              "    <tr>\n",
              "      <th>4</th>\n",
              "      <td>P2 normal</td>\n",
              "      <td>Memory Management</td>\n",
              "      <td>Other</td>\n",
              "      <td>64gb highmem bug exact kernel version 2540 har...</td>\n",
              "    </tr>\n",
              "  </tbody>\n",
              "</table>\n",
              "</div>"
            ],
            "text/plain": [
              "    importance  ...                                               text\n",
              "0    P2 normal  ...  oops using idecd 2545 cdrecord please enter ex...\n",
              "1    P2 normal  ...  numaq hangs tsc initialization boot exact kern...\n",
              "2    P2 normal  ...  enabling shared pagetables causes kde wierd ex...\n",
              "3  P2 blocking  ...  dcache   control exact kernel version distribu...\n",
              "4    P2 normal  ...  64gb highmem bug exact kernel version 2540 har...\n",
              "\n",
              "[5 rows x 4 columns]"
            ]
          },
          "metadata": {
            "tags": []
          },
          "execution_count": 22
        }
      ]
    },
    {
      "cell_type": "markdown",
      "metadata": {
        "id": "Tx1gaHShy7XV"
      },
      "source": [
        "**14. TF-IDF WITH SVM Chromium bugs data**"
      ]
    },
    {
      "cell_type": "code",
      "metadata": {
        "id": "9f3u40Vk7eZH",
        "outputId": "da7fa333-2890-41f5-f1e3-b3605b9e4b01",
        "colab": {
          "base_uri": "https://localhost:8080/",
          "height": 336
        }
      },
      "source": [
        "print(\"Chromium SVM Classification\")\n",
        "def tfidf_classify(data, model_type='SVM', extra_params={'min_df': 0.001}):\n",
        "  '''\n",
        "  data is a pandas dataframe\n",
        "  '''\n",
        "  class_to_predict = 'type' # product importance\n",
        "  data = shuffle(data, random_state=77)\n",
        "\n",
        "  num_records = len(data)\n",
        "  data_train = data[:int(0.85 * num_records)]\n",
        "  data_test = data[int(0.85 * num_records):]\n",
        "\n",
        "  train_data = [x[0] for x in data_train[['text']].to_records(index=False)]\n",
        "  train_labels = [x[0] for x in data_train[[class_to_predict]].to_records(index=False)]\n",
        "\n",
        "  test_data = [x[0] for x in data_test[['text']].to_records(index=False)]\n",
        "  test_labels = [x[0] for x in data_test[[class_to_predict]].to_records(index=False)]\n",
        "\n",
        "  # Create feature vectors \n",
        "  vectorizer = TfidfVectorizer(**extra_params)\n",
        "  print(\"Vectors\")\n",
        "  for i in train_data[1:6]:\n",
        "      print(i)\n",
        "  print(\"Labels\")\n",
        "  for i in train_labels[1:6]:\n",
        "      print(i)\n",
        "  # Train the feature vectors\n",
        "  train_vectors = vectorizer.fit_transform(train_data)\n",
        "  test_vectors = vectorizer.transform(test_data)\n",
        "\n",
        "  # Perform classification with SVM, kernel=linear \n",
        "  if model_type == 'SVM':\n",
        "    model = svm.SVC(kernel='linear')\n",
        "  elif model_type == 'NN':\n",
        "    model = MLPClassifier(hidden_layer_sizes=(200, 200), max_iter=4000)\n",
        "  print('Training the model!')\n",
        "  model.fit(train_vectors, train_labels) \n",
        "  train_prediction = model.predict(train_vectors)\n",
        "  test_prediction = model.predict(test_vectors)\n",
        "\n",
        "  train_accuracy = np.sum((np.array(train_labels) == np.array(train_prediction))) * 1.0 / len(train_labels)\n",
        "  print('Training accuracy: ' + str(train_accuracy))\n",
        "\n",
        "  test_accuracy = np.sum((np.array(test_labels) == np.array(test_prediction))) * 1.0 / len(test_labels)\n",
        "  print('Test accuracy: ' + str(test_accuracy)) \n",
        "\n",
        "  return print('F1 score: ' + str(f1_score(test_labels, test_prediction, average='weighted')))\n",
        "\n",
        "tfidf_classify(data1, model_type='SVM')"
      ],
      "execution_count": 23,
      "outputs": [
        {
          "output_type": "stream",
          "text": [
            "Chromium SVM Classification\n",
            "Vectors\n",
            "legacy webaudio   remove nthis tracking bug issues legacy webaudio methods attributes need removed support prefixed audiocontext removedn\n",
            "gn need mechanism share parts gn config nv8 rolls srcbuild dependency gn   time eg somebody adds something build requires   whitelist v8s gn run breaks whitelisting added chromiums gn v8s instead sharing would even better whitelist files build thirdparty deps v8 pov wildcard files       change chromium side whitelisting gn existed already  \n",
            "  crashes google chrome 705362 dev nchrome version 705362 devrnurls applicable   browsers testednadd ok fail browsers tested issuensafari 4n firefox 3x okrnie 7nie 8nrnwhat steps reproduce problemn1 go   expected resultn browser crashesrnrnwhat happens insteadnrnrnplease provide additional information attach screenshot ifnpossiblenn\n",
            "  value gobi nogobi images nthe   x86alex builds contain hardware board value   value prevent us differentiating images via   monitoring update   n\n",
            "autofill i18n submitting international form capture data autofill nwhat steps reproduce problemn1 fill international formrn2 submit formrnrnwhat expected resultrnwe capture form data including localespecific fields   japan address show address manager accessible via autofill   backend server support localespecific fields need work around thatrnn\n",
            "Labels\n",
            "Bug\n",
            "Feature\n",
            "Bug\n",
            "Bug\n",
            "Feature\n",
            "Training the model!\n",
            "Training accuracy: 0.8385691446842526\n",
            "Test accuracy: 0.7997961725738875\n",
            "F1 score: 0.7992444649303668\n"
          ],
          "name": "stdout"
        }
      ]
    },
    {
      "cell_type": "markdown",
      "metadata": {
        "id": "s-yl4O7VzIlo"
      },
      "source": [
        "**15. TF-IDF WITH SVM Linux bugs data**"
      ]
    },
    {
      "cell_type": "code",
      "metadata": {
        "id": "kLs35BMBERpu",
        "outputId": "d33b753a-1bfe-44c9-9531-7f06d12a5a1a",
        "colab": {
          "base_uri": "https://localhost:8080/",
          "height": 336
        }
      },
      "source": [
        "print(\"Linux SVM Classification\")\n",
        "def tfidf_classify(data, model_type='SVM', extra_params={'min_df': 0.001}):\n",
        "  '''\n",
        "  data is a pandas dataframe\n",
        "  '''\n",
        "  class_to_predict = 'importance' # product importance\n",
        "  data = shuffle(data, random_state=77)\n",
        "\n",
        "  num_records = len(data)\n",
        "  data_train = data[:int(0.85 * num_records)]\n",
        "  data_test = data[int(0.85 * num_records):]\n",
        "\n",
        "  train_data = [x[0] for x in data_train[['text']].to_records(index=False)]\n",
        "  train_labels = [x[0] for x in data_train[[class_to_predict]].to_records(index=False)]\n",
        "\n",
        "  test_data = [x[0] for x in data_test[['text']].to_records(index=False)]\n",
        "  test_labels = [x[0] for x in data_test[[class_to_predict]].to_records(index=False)]\n",
        "\n",
        "  print(\"Vectors\")\n",
        "  for i in train_data[1:6]:\n",
        "      print(i)\n",
        "  print(\"Labels\")\n",
        "  for i in train_labels[1:6]:\n",
        "      print(i)\n",
        "  # Create feature vectors \n",
        "  vectorizer = TfidfVectorizer(**extra_params)\n",
        "  # Train the feature vectors\n",
        "  train_vectors = vectorizer.fit_transform(train_data)\n",
        "  test_vectors = vectorizer.transform(test_data)\n",
        "\n",
        "  # Perform classification with SVM, kernel=linear \n",
        "  if model_type == 'SVM':\n",
        "    model = svm.SVC(kernel='linear')\n",
        "  elif model_type == 'NN':\n",
        "    model = MLPClassifier(hidden_layer_sizes=(200, 200), max_iter=4000)\n",
        "  print('Training the model!')\n",
        "  model.fit(train_vectors, train_labels) \n",
        "  train_prediction = model.predict(train_vectors)\n",
        "  test_prediction = model.predict(test_vectors)\n",
        "\n",
        "  train_accuracy = np.sum((np.array(train_labels) == np.array(train_prediction))) * 1.0 / len(train_labels)\n",
        "  print('Training accuracy: ' + str(train_accuracy))\n",
        "\n",
        "  test_accuracy = np.sum((np.array(test_labels) == np.array(test_prediction))) * 1.0 / len(test_labels)\n",
        "  print('Test accuracy: ' + str(test_accuracy)) \n",
        "\n",
        "  return print('F1 score: ' + str(f1_score(test_labels, test_prediction, average='weighted')))\n",
        "\n",
        "tfidf_classify(data2, model_type='SVM')"
      ],
      "execution_count": 24,
      "outputs": [
        {
          "output_type": "stream",
          "text": [
            "Linux SVM Classification\n",
            "Vectors\n",
            "merlin   pcmcia card recognized serial port recent kernel bug occur 24x distribution debian hardware environment ibm laptop t42 software environment kernelorg kernel problem description insert pcmcia card log detects serial port noticed steps reproduce insert card merlin   pcmcia novatel vodafone fcc id syslog feb 7   localhost kernel pccard pcmcia card inserted slot 0 write see need install pcmciautils pcmcia utilities linux 26 reading   mentions module pcmcia 16 bit cards loaded automaticaly modprobe everything starts working please close call hope helps someone else feb 8   localhost kernel pcmcia registering new device feb 8   localhost kernel pcmcia registering new device feb 8   localhost kernel 00 ttys1 io 0x4100 irq 3 16550a\n",
            "kernel bug tun device closed oops attached distribution heavily modified redhat 73 hardware environment msi motherboard athlon thunderbird 1ghz cpu 2 disks etc software environment problem description   works fine normally client mode system server end link shutdown client tried close open tun device action caused oops kernel bug invalid operand 0000 cpu 0 eip tainted eflags eip eax ebx ecx edx esi edi ebp esp ds 007b es 007b ss 0068 process   pid 757 stack call trace code 0f 0b 0a 01 a4 6b 36 c0 ff 06 83 4e 04 08 85 f6 0f 84 01 01\n",
            "dm raid1   bug subject   added mm tree submitter heiko carstens heikocarstensdeibmcom date 1645 references handledby alasdair g kergon agkredhatcom entry used tracking regression 2624 please close problem fixed mainline\n",
            "network interface detection problem nforce 44x mobos recent kernel bug occur distribution debian 4 etch testing version amd64 hardware environment motherboard asus k8n4e deluxe processor amd athlontm 64 processor 3200 2200 mhz bios version phoenix     bios id oem   asus k8n4e deluxe acpi bios revision 1010 chipset nvidia   44x superio ite   rev 7 found port   ethernet controller 1   gigabit lan phy built mobo ethernet controller 2 dlink   530 tx 10100 ethernet controller memory installed 1024 mb memory maximum 3072 mb memory slot 01 512 mb memory slot 02 512 mb memory slot 03 0 mb acpi revision 10 software environment debian linux netinst version installation image found installation image kernel debian 26179 waldidebianorg gcc version 412   debian 41113 1 smp wed sep 13   cest 2006 x8664 unknown problem description kernel cant detect ethernet controllers despite fact two ethernet controllers installed system builtin   controller detected dlink controller installed attempt resolve problem provide solution result error messages identical ones produced built ethernet adapter error message ethernet card detected order replicate problem perform following steps 1 attempt installation debian linux specified hardware 2 use installation image specified previously message 3 installation step identify network hardware error message appear problem consistent least 10 installation attempts attempts done install linux specified hardware july august september half october result   install images problems lot worse older install images attempt made remove unnecessary modules command modprobe rf   modprobe l   still indicate modprobe installed interpret indication modprobe work correctly system interpretation wrong need information modprobe additional information static ip adress used dhcp issue ifconfig report loopback interface lspci vvv grep   produces following report 000a0 bridge corporation ck804 ethernet controller rev 2 05070 ethernet controller technologies inc vt6105 rhine iii rev 86 manually selecting forcedeth driver viarhine driver resolve problem resolved starting shell issuing commands modprobe f forcedeth modprobe f viarhine combination flags tested best regards\n",
            "  oops boot recent kernel bug occur similar reports lkml seems indicate everything ok 2613 distribution debian unstable hardware environment asus a7n8x delux nforce2 chipset sata silicon image 3112a sata device 1 plextor px 755 sa dvd recorder everything ok alternative os software environment debian unstable kernel 2616 libata 120 using nvidia binary module steps reproduce boot problem description boot   sata device detected satasil loaded sata link ok indicates abnormal status 0x78 port claiming ata1 slow respond please patient letting kernel booting stuff go way libata finally oops dump stack trace boot process still continue computer usable afterward however trying rmmod libata removed satasil hangs indefinitely trying   gives results trying   gives results trying trying boot   removing modules reloading   gives results except error messages thrown console keybord stops working dmesg boot       dmesg satasil version 09 acpi pci interrupt link apc3 enabled irq 18 acpi pci interrupt link apc3 gsi 18 level high irq 201 acpi pci interrupt link apcj enabled irq 22 acpi pci interrupt link apcj gsi 22 level high irq 177 pci setting latency timer device 64 ata1 sata max cmd ctl bmdma irq 201 ata2 sata max cmd ctl bmdma irq 201 input ps2 logitech mx mouse classinputinput2 ata1 sata link 15 gbps sstatus 113 measured   usecs clocking   ata1 dev 0 cfg 490f00 820000 830000 840000 850000 860000 870000   ata1 dev 0 atapi max udma66 ata10 applying bridge limits ata10 applying seagate errata fix workaround ata1 dev 0 configured udma66 scsi0 satasil ata2 sata link sstatus 0 scsi1 satasil ata abnormal status 0x78 port ata abnormal status 0x78 port ata abnormal status 0x78 port ata abnormal status 0x78 port ts compaq touchscreen protocol output ata1 slow respond please patient ata1 command 0xa0 timeout stat 0xf8 hoststat 0x0 ata1 translated ata staterr 0xf800 scsi skascascq adding swap devhda3 priority1 extents1 ext3 fs hda2 internal journal devicemapper initialised dmdevelredhatcom kjournald starting commit interval 5 seconds ext3 fs hda4 internal journal ext3fs mounted filesystem ordered data mode acpi pci interrupt link ap3c gsi 20 level high irq 193 ata1 failed respond 30 secs ata abnormal status 0xf8 port assertion failed qcflags ata1 translated ata staterr 0xf800 scsi skascascq unable handle kernel null pointer dereference virtual address printing eip pde oops 0000 1 modules linked dmmod tsdev analog gameport sndpcmoss sndmixeross sndrawmidi sndseqdevice satasil sndpcm sndtimer psmouse nvidiaagp 3c59x parportpc parport snd soundcore ehcihcd ohcihcd serioraw mii idecd cdrom floppy sndpagealloc agpgart rtc usbcore forcedeth i2ccore pcspkr shpchp pcihotplug ext3 jbd mbcache idedisk generic idecore satanv libata scsimod evdev mousedev cpu 0 eip tainted vli eflags 1 eip scsimod eax ebx ecx ffffffff edx esi edi ebp esp ds 007b es 007b ss 0068 process ata0 pid 810 stack call trace scsimod libata libata libata libata code d0 88 46 09 0f b6 55 06 66 0f b6 45 07 c1 e2 08 01 d0 66 89 46 04 83 c4 20 89 f8 5b 5e 5f 5d c3 56 53 8b 5c 24 0c 8b 13 9c 5e fa 8b 82 cc 00 00 00 ff 4a 54 83 e8 05 83 f8 02 77 0d 83 7a 58 00 6acpi power button ff pwrf acpi power button cm pwrb\n",
            "Labels\n",
            "P2 low\n",
            "P2 normal\n",
            "P1 normal\n",
            "P2 normal\n",
            "P2 blocking\n",
            "Training the model!\n",
            "Training accuracy: 0.7178093944376921\n",
            "Test accuracy: 0.6500607533414338\n",
            "F1 score: 0.5658474294410273\n"
          ],
          "name": "stdout"
        }
      ]
    },
    {
      "cell_type": "markdown",
      "metadata": {
        "id": "QAA2IbPrqrRj"
      },
      "source": [
        "**17. Chromium Data with Non Linear-SVM Classification** "
      ]
    },
    {
      "cell_type": "code",
      "metadata": {
        "id": "XbFxVAe03v74",
        "outputId": "bb774ca3-bad2-4f04-d937-08f99a7cc8c8",
        "colab": {
          "base_uri": "https://localhost:8080/",
          "height": 336
        }
      },
      "source": [
        "print(\"Chromium Non Linear-SVM Classification\")\n",
        "extra_params={'min_df': 0.001}\n",
        "data=data1;\n",
        "class_to_predict = 'type' # product importance\n",
        "data = shuffle(data, random_state=77)\n",
        "num_records = len(data)\n",
        "data_train = data[:int(0.85 * num_records)]\n",
        "data_test = data[int(0.85 * num_records):]\n",
        "train_data = [x[0] for x in data_train[['text']].to_records(index=False)]\n",
        "train_labels = [x[0] for x in data_train[[class_to_predict]].to_records(index=False)]\n",
        "test_data = [x[0] for x in data_test[['text']].to_records(index=False)]\n",
        "test_labels = [x[0] for x in data_test[[class_to_predict]].to_records(index=False)]\n",
        "# Create feature vectors \n",
        "vectorizer = TfidfVectorizer(**extra_params)\n",
        "print(\"Vectors\")\n",
        "for i in train_data[1:6]:\n",
        "  print(i)\n",
        "print(\"Labels\")\n",
        "for i in train_labels[1:6]:\n",
        "  print(i)\n",
        "# Train the feature vectors\n",
        "train_vectors = vectorizer.fit_transform(train_data)\n",
        "test_vectors = vectorizer.transform(test_data)\n",
        "model = svm.SVC(kernel='rbf')\n",
        "print('Training the model!')\n",
        "model.fit(train_vectors, train_labels) \n",
        "train_prediction = model.predict(train_vectors)\n",
        "test_prediction = model.predict(test_vectors)\n",
        "train_accuracy = np.sum((np.array(train_labels) == np.array(train_prediction))) * 1.0 / len(train_labels)\n",
        "print('Training accuracy: ' + str(train_accuracy))\n",
        "test_accuracy = np.sum((np.array(test_labels) == np.array(test_prediction))) * 1.0 / len(test_labels)\n",
        "print('Test accuracy: ' + str(test_accuracy)) \n",
        "print('F1 score: ' + str(f1_score(test_labels, test_prediction, average='weighted')))"
      ],
      "execution_count": 25,
      "outputs": [
        {
          "output_type": "stream",
          "text": [
            "Chromium Non Linear-SVM Classification\n",
            "Vectors\n",
            "legacy webaudio   remove nthis tracking bug issues legacy webaudio methods attributes need removed support prefixed audiocontext removedn\n",
            "gn need mechanism share parts gn config nv8 rolls srcbuild dependency gn   time eg somebody adds something build requires   whitelist v8s gn run breaks whitelisting added chromiums gn v8s instead sharing would even better whitelist files build thirdparty deps v8 pov wildcard files       change chromium side whitelisting gn existed already  \n",
            "  crashes google chrome 705362 dev nchrome version 705362 devrnurls applicable   browsers testednadd ok fail browsers tested issuensafari 4n firefox 3x okrnie 7nie 8nrnwhat steps reproduce problemn1 go   expected resultn browser crashesrnrnwhat happens insteadnrnrnplease provide additional information attach screenshot ifnpossiblenn\n",
            "  value gobi nogobi images nthe   x86alex builds contain hardware board value   value prevent us differentiating images via   monitoring update   n\n",
            "autofill i18n submitting international form capture data autofill nwhat steps reproduce problemn1 fill international formrn2 submit formrnrnwhat expected resultrnwe capture form data including localespecific fields   japan address show address manager accessible via autofill   backend server support localespecific fields need work around thatrnn\n",
            "Labels\n",
            "Bug\n",
            "Feature\n",
            "Bug\n",
            "Bug\n",
            "Feature\n",
            "Training the model!\n",
            "Training accuracy: 0.9405275779376499\n",
            "Test accuracy: 0.8050050956856528\n",
            "F1 score: 0.8039750963667786\n"
          ],
          "name": "stdout"
        }
      ]
    },
    {
      "cell_type": "markdown",
      "metadata": {
        "id": "CPNo0svpDtoE"
      },
      "source": [
        "**18.Linux data with Non Linear-SVM Classification**"
      ]
    },
    {
      "cell_type": "code",
      "metadata": {
        "id": "eUULtMJjDyR8",
        "outputId": "13c74dfb-bf95-4350-a35f-bc51be4a7e0e",
        "colab": {
          "base_uri": "https://localhost:8080/",
          "height": 336
        }
      },
      "source": [
        "print(\"Linux Non Linear-SVM Classification\")\n",
        "extra_params={'min_df': 0.001}\n",
        "data=data2;\n",
        "class_to_predict = 'importance' # product importance\n",
        "data = shuffle(data, random_state=77)\n",
        "num_records = len(data)\n",
        "data_train = data[:int(0.85 * num_records)]\n",
        "data_test = data[int(0.85 * num_records):]\n",
        "train_data = [x[0] for x in data_train[['text']].to_records(index=False)]\n",
        "train_labels = [x[0] for x in data_train[[class_to_predict]].to_records(index=False)]\n",
        "test_data = [x[0] for x in data_test[['text']].to_records(index=False)]\n",
        "test_labels = [x[0] for x in data_test[[class_to_predict]].to_records(index=False)]\n",
        "# Create feature vectors \n",
        "vectorizer = TfidfVectorizer(**extra_params)\n",
        "print(\"Vectors\")\n",
        "for i in train_data[1:6]:\n",
        "  print(i)\n",
        "print(\"Labels\")\n",
        "for i in train_labels[1:6]:\n",
        "  print(i)\n",
        "# Train the feature vectors\n",
        "train_vectors = vectorizer.fit_transform(train_data)\n",
        "test_vectors = vectorizer.transform(test_data)\n",
        "model = svm.SVC(kernel='rbf')\n",
        "print('Training the model!')\n",
        "model.fit(train_vectors, train_labels) \n",
        "train_prediction = model.predict(train_vectors)\n",
        "test_prediction = model.predict(test_vectors)\n",
        "train_accuracy = np.sum((np.array(train_labels) == np.array(train_prediction))) * 1.0 / len(train_labels)\n",
        "print('Training accuracy: ' + str(train_accuracy))\n",
        "test_accuracy = np.sum((np.array(test_labels) == np.array(test_prediction))) * 1.0 / len(test_labels)\n",
        "print('Test accuracy: ' + str(test_accuracy)) \n",
        "print('F1 score: ' + str(f1_score(test_labels, test_prediction, average='weighted')))"
      ],
      "execution_count": 26,
      "outputs": [
        {
          "output_type": "stream",
          "text": [
            "Linux Non Linear-SVM Classification\n",
            "Vectors\n",
            "merlin   pcmcia card recognized serial port recent kernel bug occur 24x distribution debian hardware environment ibm laptop t42 software environment kernelorg kernel problem description insert pcmcia card log detects serial port noticed steps reproduce insert card merlin   pcmcia novatel vodafone fcc id syslog feb 7   localhost kernel pccard pcmcia card inserted slot 0 write see need install pcmciautils pcmcia utilities linux 26 reading   mentions module pcmcia 16 bit cards loaded automaticaly modprobe everything starts working please close call hope helps someone else feb 8   localhost kernel pcmcia registering new device feb 8   localhost kernel pcmcia registering new device feb 8   localhost kernel 00 ttys1 io 0x4100 irq 3 16550a\n",
            "kernel bug tun device closed oops attached distribution heavily modified redhat 73 hardware environment msi motherboard athlon thunderbird 1ghz cpu 2 disks etc software environment problem description   works fine normally client mode system server end link shutdown client tried close open tun device action caused oops kernel bug invalid operand 0000 cpu 0 eip tainted eflags eip eax ebx ecx edx esi edi ebp esp ds 007b es 007b ss 0068 process   pid 757 stack call trace code 0f 0b 0a 01 a4 6b 36 c0 ff 06 83 4e 04 08 85 f6 0f 84 01 01\n",
            "dm raid1   bug subject   added mm tree submitter heiko carstens heikocarstensdeibmcom date 1645 references handledby alasdair g kergon agkredhatcom entry used tracking regression 2624 please close problem fixed mainline\n",
            "network interface detection problem nforce 44x mobos recent kernel bug occur distribution debian 4 etch testing version amd64 hardware environment motherboard asus k8n4e deluxe processor amd athlontm 64 processor 3200 2200 mhz bios version phoenix     bios id oem   asus k8n4e deluxe acpi bios revision 1010 chipset nvidia   44x superio ite   rev 7 found port   ethernet controller 1   gigabit lan phy built mobo ethernet controller 2 dlink   530 tx 10100 ethernet controller memory installed 1024 mb memory maximum 3072 mb memory slot 01 512 mb memory slot 02 512 mb memory slot 03 0 mb acpi revision 10 software environment debian linux netinst version installation image found installation image kernel debian 26179 waldidebianorg gcc version 412   debian 41113 1 smp wed sep 13   cest 2006 x8664 unknown problem description kernel cant detect ethernet controllers despite fact two ethernet controllers installed system builtin   controller detected dlink controller installed attempt resolve problem provide solution result error messages identical ones produced built ethernet adapter error message ethernet card detected order replicate problem perform following steps 1 attempt installation debian linux specified hardware 2 use installation image specified previously message 3 installation step identify network hardware error message appear problem consistent least 10 installation attempts attempts done install linux specified hardware july august september half october result   install images problems lot worse older install images attempt made remove unnecessary modules command modprobe rf   modprobe l   still indicate modprobe installed interpret indication modprobe work correctly system interpretation wrong need information modprobe additional information static ip adress used dhcp issue ifconfig report loopback interface lspci vvv grep   produces following report 000a0 bridge corporation ck804 ethernet controller rev 2 05070 ethernet controller technologies inc vt6105 rhine iii rev 86 manually selecting forcedeth driver viarhine driver resolve problem resolved starting shell issuing commands modprobe f forcedeth modprobe f viarhine combination flags tested best regards\n",
            "  oops boot recent kernel bug occur similar reports lkml seems indicate everything ok 2613 distribution debian unstable hardware environment asus a7n8x delux nforce2 chipset sata silicon image 3112a sata device 1 plextor px 755 sa dvd recorder everything ok alternative os software environment debian unstable kernel 2616 libata 120 using nvidia binary module steps reproduce boot problem description boot   sata device detected satasil loaded sata link ok indicates abnormal status 0x78 port claiming ata1 slow respond please patient letting kernel booting stuff go way libata finally oops dump stack trace boot process still continue computer usable afterward however trying rmmod libata removed satasil hangs indefinitely trying   gives results trying   gives results trying trying boot   removing modules reloading   gives results except error messages thrown console keybord stops working dmesg boot       dmesg satasil version 09 acpi pci interrupt link apc3 enabled irq 18 acpi pci interrupt link apc3 gsi 18 level high irq 201 acpi pci interrupt link apcj enabled irq 22 acpi pci interrupt link apcj gsi 22 level high irq 177 pci setting latency timer device 64 ata1 sata max cmd ctl bmdma irq 201 ata2 sata max cmd ctl bmdma irq 201 input ps2 logitech mx mouse classinputinput2 ata1 sata link 15 gbps sstatus 113 measured   usecs clocking   ata1 dev 0 cfg 490f00 820000 830000 840000 850000 860000 870000   ata1 dev 0 atapi max udma66 ata10 applying bridge limits ata10 applying seagate errata fix workaround ata1 dev 0 configured udma66 scsi0 satasil ata2 sata link sstatus 0 scsi1 satasil ata abnormal status 0x78 port ata abnormal status 0x78 port ata abnormal status 0x78 port ata abnormal status 0x78 port ts compaq touchscreen protocol output ata1 slow respond please patient ata1 command 0xa0 timeout stat 0xf8 hoststat 0x0 ata1 translated ata staterr 0xf800 scsi skascascq adding swap devhda3 priority1 extents1 ext3 fs hda2 internal journal devicemapper initialised dmdevelredhatcom kjournald starting commit interval 5 seconds ext3 fs hda4 internal journal ext3fs mounted filesystem ordered data mode acpi pci interrupt link ap3c gsi 20 level high irq 193 ata1 failed respond 30 secs ata abnormal status 0xf8 port assertion failed qcflags ata1 translated ata staterr 0xf800 scsi skascascq unable handle kernel null pointer dereference virtual address printing eip pde oops 0000 1 modules linked dmmod tsdev analog gameport sndpcmoss sndmixeross sndrawmidi sndseqdevice satasil sndpcm sndtimer psmouse nvidiaagp 3c59x parportpc parport snd soundcore ehcihcd ohcihcd serioraw mii idecd cdrom floppy sndpagealloc agpgart rtc usbcore forcedeth i2ccore pcspkr shpchp pcihotplug ext3 jbd mbcache idedisk generic idecore satanv libata scsimod evdev mousedev cpu 0 eip tainted vli eflags 1 eip scsimod eax ebx ecx ffffffff edx esi edi ebp esp ds 007b es 007b ss 0068 process ata0 pid 810 stack call trace scsimod libata libata libata libata code d0 88 46 09 0f b6 55 06 66 0f b6 45 07 c1 e2 08 01 d0 66 89 46 04 83 c4 20 89 f8 5b 5e 5f 5d c3 56 53 8b 5c 24 0c 8b 13 9c 5e fa 8b 82 cc 00 00 00 ff 4a 54 83 e8 05 83 f8 02 77 0d 83 7a 58 00 6acpi power button ff pwrf acpi power button cm pwrb\n",
            "Labels\n",
            "P2 low\n",
            "P2 normal\n",
            "P1 normal\n",
            "P2 normal\n",
            "P2 blocking\n",
            "Training the model!\n",
            "Training accuracy: 0.7919496675484379\n",
            "Test accuracy: 0.648440664236533\n",
            "F1 score: 0.5596230131857446\n"
          ],
          "name": "stdout"
        }
      ]
    },
    {
      "cell_type": "markdown",
      "metadata": {
        "id": "57GxVPX_EbYT"
      },
      "source": [
        "**19.Chromium data with SVM Poly Classification**"
      ]
    },
    {
      "cell_type": "code",
      "metadata": {
        "id": "aWN-WkLUEkoO",
        "outputId": "f6bf47ab-2b3d-41e2-f3ad-1ec19d2c1042",
        "colab": {
          "base_uri": "https://localhost:8080/",
          "height": 336
        }
      },
      "source": [
        "print(\"Chromium SVM Poly Classification\")\n",
        "def tfidf_classify(data, model_type='SVM', extra_params={'min_df': 0.001}):\n",
        "  '''\n",
        "  data is a pandas dataframe\n",
        "  '''\n",
        "  class_to_predict = 'type' # product importance\n",
        "  data = shuffle(data, random_state=77)\n",
        "\n",
        "  num_records = len(data)\n",
        "  data_train = data[:int(0.85 * num_records)]\n",
        "  data_test = data[int(0.85 * num_records):]\n",
        "\n",
        "  train_data = [x[0] for x in data_train[['text']].to_records(index=False)]\n",
        "  train_labels = [x[0] for x in data_train[[class_to_predict]].to_records(index=False)]\n",
        "\n",
        "  test_data = [x[0] for x in data_test[['text']].to_records(index=False)]\n",
        "  test_labels = [x[0] for x in data_test[[class_to_predict]].to_records(index=False)]\n",
        "\n",
        "  # Create feature vectors \n",
        "  vectorizer = TfidfVectorizer(**extra_params)\n",
        "  print(\"Vectors\")\n",
        "  for i in train_data[1:6]:\n",
        "      print(i)\n",
        "  print(\"Labels\")\n",
        "  for i in train_labels[1:6]:\n",
        "      print(i)\n",
        "  # Train the feature vectors\n",
        "  train_vectors = vectorizer.fit_transform(train_data)\n",
        "  test_vectors = vectorizer.transform(test_data)\n",
        "\n",
        "  # Perform classification with SVM, kernel=polynomial\n",
        "  if model_type == 'SVM':\n",
        "    model = svm.SVC(kernel='poly')\n",
        "  print('Training the model!')\n",
        "  model.fit(train_vectors, train_labels) \n",
        "  train_prediction = model.predict(train_vectors)\n",
        "  test_prediction = model.predict(test_vectors)\n",
        "\n",
        "  train_accuracy = np.sum((np.array(train_labels) == np.array(train_prediction))) * 1.0 / len(train_labels)\n",
        "  print('Training accuracy: ' + str(train_accuracy))\n",
        "\n",
        "  test_accuracy = np.sum((np.array(test_labels) == np.array(test_prediction))) * 1.0 / len(test_labels)\n",
        "  print('Test accuracy: ' + str(test_accuracy)) \n",
        "\n",
        "  return print('F1 score: ' + str(f1_score(test_labels, test_prediction, average='weighted')))\n",
        "\n",
        "tfidf_classify(data1, model_type='SVM')"
      ],
      "execution_count": 27,
      "outputs": [
        {
          "output_type": "stream",
          "text": [
            "Chromium SVM Poly Classification\n",
            "Vectors\n",
            "legacy webaudio   remove nthis tracking bug issues legacy webaudio methods attributes need removed support prefixed audiocontext removedn\n",
            "gn need mechanism share parts gn config nv8 rolls srcbuild dependency gn   time eg somebody adds something build requires   whitelist v8s gn run breaks whitelisting added chromiums gn v8s instead sharing would even better whitelist files build thirdparty deps v8 pov wildcard files       change chromium side whitelisting gn existed already  \n",
            "  crashes google chrome 705362 dev nchrome version 705362 devrnurls applicable   browsers testednadd ok fail browsers tested issuensafari 4n firefox 3x okrnie 7nie 8nrnwhat steps reproduce problemn1 go   expected resultn browser crashesrnrnwhat happens insteadnrnrnplease provide additional information attach screenshot ifnpossiblenn\n",
            "  value gobi nogobi images nthe   x86alex builds contain hardware board value   value prevent us differentiating images via   monitoring update   n\n",
            "autofill i18n submitting international form capture data autofill nwhat steps reproduce problemn1 fill international formrn2 submit formrnrnwhat expected resultrnwe capture form data including localespecific fields   japan address show address manager accessible via autofill   backend server support localespecific fields need work around thatrnn\n",
            "Labels\n",
            "Bug\n",
            "Feature\n",
            "Bug\n",
            "Bug\n",
            "Feature\n",
            "Training the model!\n",
            "Training accuracy: 0.9934252597921662\n",
            "Test accuracy: 0.7701279583286151\n",
            "F1 score: 0.7662040116445643\n"
          ],
          "name": "stdout"
        }
      ]
    },
    {
      "cell_type": "markdown",
      "metadata": {
        "id": "eeIHGepIEvAI"
      },
      "source": [
        "**20.Linux SVM Poly Classification**"
      ]
    },
    {
      "cell_type": "code",
      "metadata": {
        "id": "NemYABw5E04w",
        "outputId": "758b1046-1322-4441-8c7f-59b17b546395",
        "colab": {
          "base_uri": "https://localhost:8080/",
          "height": 336
        }
      },
      "source": [
        "print(\"Linux SVM Poly Classification\")\n",
        "def tfidf_classify(data, model_type='SVM', extra_params={'min_df': 0.001}):\n",
        "  '''\n",
        "  data is a pandas dataframe\n",
        "  '''\n",
        "  class_to_predict = 'importance' # product importance\n",
        "  data = shuffle(data, random_state=77)\n",
        "\n",
        "  num_records = len(data)\n",
        "  data_train = data[:int(0.85 * num_records)]\n",
        "  data_test = data[int(0.85 * num_records):]\n",
        "\n",
        "  train_data = [x[0] for x in data_train[['text']].to_records(index=False)]\n",
        "  train_labels = [x[0] for x in data_train[[class_to_predict]].to_records(index=False)]\n",
        "\n",
        "  test_data = [x[0] for x in data_test[['text']].to_records(index=False)]\n",
        "  test_labels = [x[0] for x in data_test[[class_to_predict]].to_records(index=False)]\n",
        "\n",
        "  # Create feature vectors \n",
        "  vectorizer = TfidfVectorizer(**extra_params)\n",
        "  print(\"Vectors\")\n",
        "  for i in train_data[1:6]:\n",
        "      print(i)\n",
        "  print(\"Labels\")\n",
        "  for i in train_labels[1:6]:\n",
        "      print(i)\n",
        "  # Train the feature vectors\n",
        "  train_vectors = vectorizer.fit_transform(train_data)\n",
        "  test_vectors = vectorizer.transform(test_data)\n",
        "\n",
        "  # Perform classification with SVM, kernel=polynomial\n",
        "  if model_type == 'SVM':\n",
        "    model = svm.SVC(kernel='poly')\n",
        "  print('Training the model!')\n",
        "  model.fit(train_vectors, train_labels) \n",
        "  train_prediction = model.predict(train_vectors)\n",
        "  test_prediction = model.predict(test_vectors)\n",
        "\n",
        "  train_accuracy = np.sum((np.array(train_labels) == np.array(train_prediction))) * 1.0 / len(train_labels)\n",
        "  print('Training accuracy: ' + str(train_accuracy))\n",
        "\n",
        "  test_accuracy = np.sum((np.array(test_labels) == np.array(test_prediction))) * 1.0 / len(test_labels)\n",
        "  print('Test accuracy: ' + str(test_accuracy)) \n",
        "\n",
        "  return print('F1 score: ' + str(f1_score(test_labels, test_prediction, average='weighted')))\n",
        "\n",
        "tfidf_classify(data2, model_type='SVM')"
      ],
      "execution_count": 28,
      "outputs": [
        {
          "output_type": "stream",
          "text": [
            "Linux SVM Poly Classification\n",
            "Vectors\n",
            "merlin   pcmcia card recognized serial port recent kernel bug occur 24x distribution debian hardware environment ibm laptop t42 software environment kernelorg kernel problem description insert pcmcia card log detects serial port noticed steps reproduce insert card merlin   pcmcia novatel vodafone fcc id syslog feb 7   localhost kernel pccard pcmcia card inserted slot 0 write see need install pcmciautils pcmcia utilities linux 26 reading   mentions module pcmcia 16 bit cards loaded automaticaly modprobe everything starts working please close call hope helps someone else feb 8   localhost kernel pcmcia registering new device feb 8   localhost kernel pcmcia registering new device feb 8   localhost kernel 00 ttys1 io 0x4100 irq 3 16550a\n",
            "kernel bug tun device closed oops attached distribution heavily modified redhat 73 hardware environment msi motherboard athlon thunderbird 1ghz cpu 2 disks etc software environment problem description   works fine normally client mode system server end link shutdown client tried close open tun device action caused oops kernel bug invalid operand 0000 cpu 0 eip tainted eflags eip eax ebx ecx edx esi edi ebp esp ds 007b es 007b ss 0068 process   pid 757 stack call trace code 0f 0b 0a 01 a4 6b 36 c0 ff 06 83 4e 04 08 85 f6 0f 84 01 01\n",
            "dm raid1   bug subject   added mm tree submitter heiko carstens heikocarstensdeibmcom date 1645 references handledby alasdair g kergon agkredhatcom entry used tracking regression 2624 please close problem fixed mainline\n",
            "network interface detection problem nforce 44x mobos recent kernel bug occur distribution debian 4 etch testing version amd64 hardware environment motherboard asus k8n4e deluxe processor amd athlontm 64 processor 3200 2200 mhz bios version phoenix     bios id oem   asus k8n4e deluxe acpi bios revision 1010 chipset nvidia   44x superio ite   rev 7 found port   ethernet controller 1   gigabit lan phy built mobo ethernet controller 2 dlink   530 tx 10100 ethernet controller memory installed 1024 mb memory maximum 3072 mb memory slot 01 512 mb memory slot 02 512 mb memory slot 03 0 mb acpi revision 10 software environment debian linux netinst version installation image found installation image kernel debian 26179 waldidebianorg gcc version 412   debian 41113 1 smp wed sep 13   cest 2006 x8664 unknown problem description kernel cant detect ethernet controllers despite fact two ethernet controllers installed system builtin   controller detected dlink controller installed attempt resolve problem provide solution result error messages identical ones produced built ethernet adapter error message ethernet card detected order replicate problem perform following steps 1 attempt installation debian linux specified hardware 2 use installation image specified previously message 3 installation step identify network hardware error message appear problem consistent least 10 installation attempts attempts done install linux specified hardware july august september half october result   install images problems lot worse older install images attempt made remove unnecessary modules command modprobe rf   modprobe l   still indicate modprobe installed interpret indication modprobe work correctly system interpretation wrong need information modprobe additional information static ip adress used dhcp issue ifconfig report loopback interface lspci vvv grep   produces following report 000a0 bridge corporation ck804 ethernet controller rev 2 05070 ethernet controller technologies inc vt6105 rhine iii rev 86 manually selecting forcedeth driver viarhine driver resolve problem resolved starting shell issuing commands modprobe f forcedeth modprobe f viarhine combination flags tested best regards\n",
            "  oops boot recent kernel bug occur similar reports lkml seems indicate everything ok 2613 distribution debian unstable hardware environment asus a7n8x delux nforce2 chipset sata silicon image 3112a sata device 1 plextor px 755 sa dvd recorder everything ok alternative os software environment debian unstable kernel 2616 libata 120 using nvidia binary module steps reproduce boot problem description boot   sata device detected satasil loaded sata link ok indicates abnormal status 0x78 port claiming ata1 slow respond please patient letting kernel booting stuff go way libata finally oops dump stack trace boot process still continue computer usable afterward however trying rmmod libata removed satasil hangs indefinitely trying   gives results trying   gives results trying trying boot   removing modules reloading   gives results except error messages thrown console keybord stops working dmesg boot       dmesg satasil version 09 acpi pci interrupt link apc3 enabled irq 18 acpi pci interrupt link apc3 gsi 18 level high irq 201 acpi pci interrupt link apcj enabled irq 22 acpi pci interrupt link apcj gsi 22 level high irq 177 pci setting latency timer device 64 ata1 sata max cmd ctl bmdma irq 201 ata2 sata max cmd ctl bmdma irq 201 input ps2 logitech mx mouse classinputinput2 ata1 sata link 15 gbps sstatus 113 measured   usecs clocking   ata1 dev 0 cfg 490f00 820000 830000 840000 850000 860000 870000   ata1 dev 0 atapi max udma66 ata10 applying bridge limits ata10 applying seagate errata fix workaround ata1 dev 0 configured udma66 scsi0 satasil ata2 sata link sstatus 0 scsi1 satasil ata abnormal status 0x78 port ata abnormal status 0x78 port ata abnormal status 0x78 port ata abnormal status 0x78 port ts compaq touchscreen protocol output ata1 slow respond please patient ata1 command 0xa0 timeout stat 0xf8 hoststat 0x0 ata1 translated ata staterr 0xf800 scsi skascascq adding swap devhda3 priority1 extents1 ext3 fs hda2 internal journal devicemapper initialised dmdevelredhatcom kjournald starting commit interval 5 seconds ext3 fs hda4 internal journal ext3fs mounted filesystem ordered data mode acpi pci interrupt link ap3c gsi 20 level high irq 193 ata1 failed respond 30 secs ata abnormal status 0xf8 port assertion failed qcflags ata1 translated ata staterr 0xf800 scsi skascascq unable handle kernel null pointer dereference virtual address printing eip pde oops 0000 1 modules linked dmmod tsdev analog gameport sndpcmoss sndmixeross sndrawmidi sndseqdevice satasil sndpcm sndtimer psmouse nvidiaagp 3c59x parportpc parport snd soundcore ehcihcd ohcihcd serioraw mii idecd cdrom floppy sndpagealloc agpgart rtc usbcore forcedeth i2ccore pcspkr shpchp pcihotplug ext3 jbd mbcache idedisk generic idecore satanv libata scsimod evdev mousedev cpu 0 eip tainted vli eflags 1 eip scsimod eax ebx ecx ffffffff edx esi edi ebp esp ds 007b es 007b ss 0068 process ata0 pid 810 stack call trace scsimod libata libata libata libata code d0 88 46 09 0f b6 55 06 66 0f b6 45 07 c1 e2 08 01 d0 66 89 46 04 83 c4 20 89 f8 5b 5e 5f 5d c3 56 53 8b 5c 24 0c 8b 13 9c 5e fa 8b 82 cc 00 00 00 ff 4a 54 83 e8 05 83 f8 02 77 0d 83 7a 58 00 6acpi power button ff pwrf acpi power button cm pwrb\n",
            "Labels\n",
            "P2 low\n",
            "P2 normal\n",
            "P1 normal\n",
            "P2 normal\n",
            "P2 blocking\n",
            "Training the model!\n",
            "Training accuracy: 0.9467362550940158\n",
            "Test accuracy: 0.6140137707573916\n",
            "F1 score: 0.5314636009597453\n"
          ],
          "name": "stdout"
        }
      ]
    },
    {
      "cell_type": "markdown",
      "metadata": {
        "id": "NeybYCQj0-w4"
      },
      "source": [
        "**21. Fast text with Chromium bugs data**"
      ]
    },
    {
      "cell_type": "code",
      "metadata": {
        "id": "XP8Rvsej8JyV",
        "outputId": "420f6965-7224-4930-9fd9-d23f05b1493b",
        "colab": {
          "base_uri": "https://localhost:8080/",
          "height": 140
        }
      },
      "source": [
        "# These are the optimal parameters for the 'importance' prediction\n",
        "# For other columns they are different.\n",
        "print(\"Chromium FastText Classification\")\n",
        "TRAIN_PATH = './fasttext_train.txt'\n",
        "TEST_PATH = './fasttext_test.txt'\n",
        "MODEL_PATH = './ft.model'\n",
        "\n",
        "def fasttext_classify(data, extra_params={}):\n",
        "  class_to_predict = 'type' # product importance\n",
        "  data[class_to_predict] = data[class_to_predict].map(lambda s : s.replace(\" \", \"\"))\n",
        "  data_for_fasttext = data['text'] + ' __label__' + data[class_to_predict]\n",
        "  data_for_fasttext = shuffle(data_for_fasttext, random_state=77)\n",
        "\n",
        "  num_records = len(data_for_fasttext)\n",
        "  data_train = data_for_fasttext[:int(0.85 * num_records)]\n",
        "  data_test = data_for_fasttext[int(0.85 * num_records):]\n",
        "  print(\"Train data\")\n",
        "  data_top2 = data_for_fasttext.head()\n",
        "  data_top2\n",
        "  data_train.to_csv(TRAIN_PATH, sep='\\t', header=0, index=False)\n",
        "  data_test.to_csv(TEST_PATH, sep='\\t', header=0, index=False)\n",
        "\n",
        "  model = fasttext.train_supervised(TRAIN_PATH, **extra_params)\n",
        "  #model.save_model(MODEL_PATH)\n",
        "  print('Training accuracy:')\n",
        "  train_accuracy = model.test(TRAIN_PATH)\n",
        "  print(train_accuracy[-1])\n",
        "\n",
        "  print('Test accuracy:')\n",
        "  test_accuracy = model.test(TEST_PATH)\n",
        "  print(test_accuracy[-1])\n",
        "\n",
        "  y_pred = []\n",
        "  y_true = []\n",
        "  for test_item in data_test:\n",
        "    test_text, test_label = test_item.split('__label__')\n",
        "    y_pred.append(model.predict(test_text)[0])\n",
        "    y_true.append('__label__' + test_label)\n",
        "\n",
        "  return print('F1 score: ' + str(f1_score(y_true, y_pred, average='weighted'))) # accuracy is a tuple\n",
        "\n",
        "fasttext_classify(data1, extra_params={\n",
        "  'epoch': 15,\n",
        "  'minCount': 1,\n",
        "  'dim': 150,\n",
        "  'ws': 5,\n",
        "  'neg': 5,\n",
        "  'wordNgrams': 2,\n",
        "  'verbose': 2\n",
        "})"
      ],
      "execution_count": 29,
      "outputs": [
        {
          "output_type": "stream",
          "text": [
            "Chromium FastText Classification\n",
            "Train data\n",
            "Training accuracy:\n",
            "0.998701039168665\n",
            "Test accuracy:\n",
            "0.8201789151851433\n",
            "F1 score: 0.8200254198017213\n"
          ],
          "name": "stdout"
        }
      ]
    },
    {
      "cell_type": "markdown",
      "metadata": {
        "id": "QIEwEt-X1dNe"
      },
      "source": [
        "**22. Fast text with Linux data**"
      ]
    },
    {
      "cell_type": "code",
      "metadata": {
        "id": "DE6jblQxEffQ",
        "outputId": "cdaa1746-44ea-486f-cdfd-9cbb7c85ebd7",
        "colab": {
          "base_uri": "https://localhost:8080/",
          "height": 140
        }
      },
      "source": [
        "print(\"Linux FastText Classification\")\n",
        "TRAIN_PATH = './fasttext_train.txt'\n",
        "TEST_PATH = './fasttext_test.txt'\n",
        "MODEL_PATH = './ft.model'\n",
        "\n",
        "def fasttext_classify(data, extra_params={}):\n",
        "  class_to_predict = 'importance' # product importance\n",
        "  data[class_to_predict] = data[class_to_predict].map(lambda s : s.replace(\" \", \"\"))\n",
        "  data_for_fasttext = data['text'] + ' __label__' + data[class_to_predict]\n",
        "  data_for_fasttext = shuffle(data_for_fasttext, random_state=77)\n",
        "\n",
        "  num_records = len(data_for_fasttext)\n",
        "  data_train = data_for_fasttext[:int(0.85 * num_records)]\n",
        "  data_test = data_for_fasttext[int(0.85 * num_records):]\n",
        "  print(\"Train data\")\n",
        "  data_top2 = data_for_fasttext.head()\n",
        "  data_top2\n",
        "  data_train.to_csv(TRAIN_PATH, sep='\\t', header=0, index=False)\n",
        "  data_test.to_csv(TEST_PATH, sep='\\t', header=0, index=False)\n",
        "\n",
        "  model = fasttext.train_supervised(TRAIN_PATH, **extra_params)\n",
        "  #model.save_model(MODEL_PATH)\n",
        "  print('Training accuracy:')\n",
        "  train_accuracy = model.test(TRAIN_PATH)\n",
        "  print(train_accuracy[-1])\n",
        "\n",
        "  print('Test accuracy:')\n",
        "  test_accuracy = model.test(TEST_PATH)\n",
        "  print(test_accuracy[-1])\n",
        "\n",
        "  y_pred = []\n",
        "  y_true = []\n",
        "  for test_item in data_test:\n",
        "    test_text, test_label = test_item.split('__label__')\n",
        "    y_pred.append(model.predict(test_text)[0])\n",
        "    y_true.append('__label__' + test_label)\n",
        "\n",
        "  return print('F1 score: ' + str(f1_score(y_true, y_pred, average='weighted')))# accuracy is a tuple\n",
        "fasttext_classify(data2, extra_params={\n",
        "  'epoch': 15,\n",
        "  'minCount': 1,\n",
        "  'dim': 150,\n",
        "  'ws': 5,\n",
        "  'neg': 5,\n",
        "  'wordNgrams': 2,\n",
        "  'verbose': 2\n",
        "})"
      ],
      "execution_count": 30,
      "outputs": [
        {
          "output_type": "stream",
          "text": [
            "Linux FastText Classification\n",
            "Train data\n",
            "Training accuracy:\n",
            "0.7267462643883607\n",
            "Test accuracy:\n",
            "0.6423653300931551\n",
            "F1 score: 0.5583709963707842\n"
          ],
          "name": "stdout"
        }
      ]
    },
    {
      "cell_type": "markdown",
      "metadata": {
        "id": "M8GaXjEv2O53"
      },
      "source": [
        "**23. Decision Tree with the chromium Dataset**\n",
        "\n",
        "\n"
      ]
    },
    {
      "cell_type": "code",
      "metadata": {
        "id": "2cQb6BOR0GJn",
        "outputId": "65268c49-e34a-4821-d1c9-748db632efa0",
        "colab": {
          "base_uri": "https://localhost:8080/",
          "height": 336
        }
      },
      "source": [
        "print(\"Chromium DT Classification\")\n",
        "from sklearn.tree import DecisionTreeClassifier\n",
        "def dt_classify(data,extra_params={'min_df': 0.001}):\n",
        "  '''\n",
        "  data is a pandas dataframe\n",
        "  '''\n",
        "  class_to_predict = 'type' # product importance\n",
        "  data = shuffle(data, random_state=77)\n",
        "\n",
        "  num_records = len(data)\n",
        "  data_train = data[:int(0.85 * num_records)]\n",
        "  data_test = data[int(0.85 * num_records):]\n",
        "\n",
        "  train_data = [x[0] for x in data_train[['text']].to_records(index=False)]\n",
        "  train_labels = [x[0] for x in data_train[[class_to_predict]].to_records(index=False)]\n",
        "\n",
        "  test_data = [x[0] for x in data_test[['text']].to_records(index=False)]\n",
        "  test_labels = [x[0] for x in data_test[[class_to_predict]].to_records(index=False)]\n",
        "\n",
        "  print(\"Vectors\")\n",
        "  for i in train_data[1:6]:\n",
        "      print(i)\n",
        "  print(\"Labels\")\n",
        "  for i in train_labels[1:6]:\n",
        "      print(i)\n",
        "  # Create feature vectors \n",
        "  vectorizer = TfidfVectorizer(**extra_params)\n",
        "  # Train the feature vectors\n",
        "  train_vectors = vectorizer.fit_transform(train_data)\n",
        "  test_vectors = vectorizer.transform(test_data)\n",
        "\n",
        "  # Perform classification with SVM, kernel=linear \n",
        "  model = DecisionTreeClassifier(random_state=0)\n",
        "  print('Training the model!')\n",
        "  model.fit(train_vectors, train_labels) \n",
        "  train_prediction = model.predict(train_vectors)\n",
        "  test_prediction = model.predict(test_vectors)\n",
        "\n",
        "  train_accuracy = np.sum((np.array(train_labels) == np.array(train_prediction))) * 1.0 / len(train_labels)\n",
        "  print('Training accuracy: ' + str(train_accuracy))\n",
        "\n",
        "  test_accuracy = np.sum((np.array(test_labels) == np.array(test_prediction))) * 1.0 / len(test_labels)\n",
        "  print('Test accuracy: ' + str(test_accuracy)) \n",
        "\n",
        "  return print('F1 score: ' + str(f1_score(test_labels, test_prediction, average='weighted')))\n",
        "\n",
        "dt_classify(data1)"
      ],
      "execution_count": 31,
      "outputs": [
        {
          "output_type": "stream",
          "text": [
            "Chromium DT Classification\n",
            "Vectors\n",
            "legacy webaudio   remove nthis tracking bug issues legacy webaudio methods attributes need removed support prefixed audiocontext removedn\n",
            "gn need mechanism share parts gn config nv8 rolls srcbuild dependency gn   time eg somebody adds something build requires   whitelist v8s gn run breaks whitelisting added chromiums gn v8s instead sharing would even better whitelist files build thirdparty deps v8 pov wildcard files       change chromium side whitelisting gn existed already  \n",
            "  crashes google chrome 705362 dev nchrome version 705362 devrnurls applicable   browsers testednadd ok fail browsers tested issuensafari 4n firefox 3x okrnie 7nie 8nrnwhat steps reproduce problemn1 go   expected resultn browser crashesrnrnwhat happens insteadnrnrnplease provide additional information attach screenshot ifnpossiblenn\n",
            "  value gobi nogobi images nthe   x86alex builds contain hardware board value   value prevent us differentiating images via   monitoring update   n\n",
            "autofill i18n submitting international form capture data autofill nwhat steps reproduce problemn1 fill international formrn2 submit formrnrnwhat expected resultrnwe capture form data including localespecific fields   japan address show address manager accessible via autofill   backend server support localespecific fields need work around thatrnn\n",
            "Labels\n",
            "Bug\n",
            "Feature\n",
            "Bug\n",
            "Bug\n",
            "Feature\n",
            "Training the model!\n",
            "Training accuracy: 0.9997002398081535\n",
            "Test accuracy: 0.7044502321367908\n",
            "F1 score: 0.7045023073126957\n"
          ],
          "name": "stdout"
        }
      ]
    },
    {
      "cell_type": "markdown",
      "metadata": {
        "id": "mt0zLkZK2hTl"
      },
      "source": [
        "**24. Decision Tree with the Linux Dataset**"
      ]
    },
    {
      "cell_type": "code",
      "metadata": {
        "id": "0QlNbgdK1pZ1",
        "outputId": "77263d49-facc-45c7-8edf-fb948f39369d",
        "colab": {
          "base_uri": "https://localhost:8080/",
          "height": 336
        }
      },
      "source": [
        "print(\"Linux DT Classification\")\n",
        "from sklearn.tree import DecisionTreeClassifier\n",
        "def dt_classify(data,extra_params={'min_df': 0.001}):\n",
        "  '''\n",
        "  data is a pandas dataframe\n",
        "  '''\n",
        "  class_to_predict = 'importance' # product importance\n",
        "  data = shuffle(data, random_state=77)\n",
        "\n",
        "  num_records = len(data)\n",
        "  data_train = data[:int(0.85 * num_records)]\n",
        "  data_test = data[int(0.85 * num_records):]\n",
        "\n",
        "  train_data = [x[0] for x in data_train[['text']].to_records(index=False)]\n",
        "  train_labels = [x[0] for x in data_train[[class_to_predict]].to_records(index=False)]\n",
        "\n",
        "  test_data = [x[0] for x in data_test[['text']].to_records(index=False)]\n",
        "  test_labels = [x[0] for x in data_test[[class_to_predict]].to_records(index=False)]\n",
        "\n",
        "  print(\"Vectors\")\n",
        "  for i in train_data[1:6]:\n",
        "      print(i)\n",
        "  print(\"Labels\")\n",
        "  for i in train_labels[1:6]:\n",
        "      print(i)\n",
        "  # Create feature vectors \n",
        "  vectorizer = TfidfVectorizer(**extra_params)\n",
        "  # Train the feature vectors\n",
        "  train_vectors = vectorizer.fit_transform(train_data)\n",
        "  test_vectors = vectorizer.transform(test_data)\n",
        "\n",
        "  # Perform classification with SVM, kernel=linear \n",
        "  model = DecisionTreeClassifier(random_state=0)\n",
        "  print('Training the model!')\n",
        "  model.fit(train_vectors, train_labels) \n",
        "  train_prediction = model.predict(train_vectors)\n",
        "  test_prediction = model.predict(test_vectors)\n",
        "\n",
        "  train_accuracy = np.sum((np.array(train_labels) == np.array(train_prediction))) * 1.0 / len(train_labels)\n",
        "  print('Training accuracy: ' + str(train_accuracy))\n",
        "\n",
        "  test_accuracy = np.sum((np.array(test_labels) == np.array(test_prediction))) * 1.0 / len(test_labels)\n",
        "  print('Test accuracy: ' + str(test_accuracy)) \n",
        "\n",
        "  return print('F1 score: ' + str(f1_score(test_labels, test_prediction, average='weighted')))\n",
        "\n",
        "dt_classify(data2)"
      ],
      "execution_count": 32,
      "outputs": [
        {
          "output_type": "stream",
          "text": [
            "Linux DT Classification\n",
            "Vectors\n",
            "merlin   pcmcia card recognized serial port recent kernel bug occur 24x distribution debian hardware environment ibm laptop t42 software environment kernelorg kernel problem description insert pcmcia card log detects serial port noticed steps reproduce insert card merlin   pcmcia novatel vodafone fcc id syslog feb 7   localhost kernel pccard pcmcia card inserted slot 0 write see need install pcmciautils pcmcia utilities linux 26 reading   mentions module pcmcia 16 bit cards loaded automaticaly modprobe everything starts working please close call hope helps someone else feb 8   localhost kernel pcmcia registering new device feb 8   localhost kernel pcmcia registering new device feb 8   localhost kernel 00 ttys1 io 0x4100 irq 3 16550a\n",
            "kernel bug tun device closed oops attached distribution heavily modified redhat 73 hardware environment msi motherboard athlon thunderbird 1ghz cpu 2 disks etc software environment problem description   works fine normally client mode system server end link shutdown client tried close open tun device action caused oops kernel bug invalid operand 0000 cpu 0 eip tainted eflags eip eax ebx ecx edx esi edi ebp esp ds 007b es 007b ss 0068 process   pid 757 stack call trace code 0f 0b 0a 01 a4 6b 36 c0 ff 06 83 4e 04 08 85 f6 0f 84 01 01\n",
            "dm raid1   bug subject   added mm tree submitter heiko carstens heikocarstensdeibmcom date 1645 references handledby alasdair g kergon agkredhatcom entry used tracking regression 2624 please close problem fixed mainline\n",
            "network interface detection problem nforce 44x mobos recent kernel bug occur distribution debian 4 etch testing version amd64 hardware environment motherboard asus k8n4e deluxe processor amd athlontm 64 processor 3200 2200 mhz bios version phoenix     bios id oem   asus k8n4e deluxe acpi bios revision 1010 chipset nvidia   44x superio ite   rev 7 found port   ethernet controller 1   gigabit lan phy built mobo ethernet controller 2 dlink   530 tx 10100 ethernet controller memory installed 1024 mb memory maximum 3072 mb memory slot 01 512 mb memory slot 02 512 mb memory slot 03 0 mb acpi revision 10 software environment debian linux netinst version installation image found installation image kernel debian 26179 waldidebianorg gcc version 412   debian 41113 1 smp wed sep 13   cest 2006 x8664 unknown problem description kernel cant detect ethernet controllers despite fact two ethernet controllers installed system builtin   controller detected dlink controller installed attempt resolve problem provide solution result error messages identical ones produced built ethernet adapter error message ethernet card detected order replicate problem perform following steps 1 attempt installation debian linux specified hardware 2 use installation image specified previously message 3 installation step identify network hardware error message appear problem consistent least 10 installation attempts attempts done install linux specified hardware july august september half october result   install images problems lot worse older install images attempt made remove unnecessary modules command modprobe rf   modprobe l   still indicate modprobe installed interpret indication modprobe work correctly system interpretation wrong need information modprobe additional information static ip adress used dhcp issue ifconfig report loopback interface lspci vvv grep   produces following report 000a0 bridge corporation ck804 ethernet controller rev 2 05070 ethernet controller technologies inc vt6105 rhine iii rev 86 manually selecting forcedeth driver viarhine driver resolve problem resolved starting shell issuing commands modprobe f forcedeth modprobe f viarhine combination flags tested best regards\n",
            "  oops boot recent kernel bug occur similar reports lkml seems indicate everything ok 2613 distribution debian unstable hardware environment asus a7n8x delux nforce2 chipset sata silicon image 3112a sata device 1 plextor px 755 sa dvd recorder everything ok alternative os software environment debian unstable kernel 2616 libata 120 using nvidia binary module steps reproduce boot problem description boot   sata device detected satasil loaded sata link ok indicates abnormal status 0x78 port claiming ata1 slow respond please patient letting kernel booting stuff go way libata finally oops dump stack trace boot process still continue computer usable afterward however trying rmmod libata removed satasil hangs indefinitely trying   gives results trying   gives results trying trying boot   removing modules reloading   gives results except error messages thrown console keybord stops working dmesg boot       dmesg satasil version 09 acpi pci interrupt link apc3 enabled irq 18 acpi pci interrupt link apc3 gsi 18 level high irq 201 acpi pci interrupt link apcj enabled irq 22 acpi pci interrupt link apcj gsi 22 level high irq 177 pci setting latency timer device 64 ata1 sata max cmd ctl bmdma irq 201 ata2 sata max cmd ctl bmdma irq 201 input ps2 logitech mx mouse classinputinput2 ata1 sata link 15 gbps sstatus 113 measured   usecs clocking   ata1 dev 0 cfg 490f00 820000 830000 840000 850000 860000 870000   ata1 dev 0 atapi max udma66 ata10 applying bridge limits ata10 applying seagate errata fix workaround ata1 dev 0 configured udma66 scsi0 satasil ata2 sata link sstatus 0 scsi1 satasil ata abnormal status 0x78 port ata abnormal status 0x78 port ata abnormal status 0x78 port ata abnormal status 0x78 port ts compaq touchscreen protocol output ata1 slow respond please patient ata1 command 0xa0 timeout stat 0xf8 hoststat 0x0 ata1 translated ata staterr 0xf800 scsi skascascq adding swap devhda3 priority1 extents1 ext3 fs hda2 internal journal devicemapper initialised dmdevelredhatcom kjournald starting commit interval 5 seconds ext3 fs hda4 internal journal ext3fs mounted filesystem ordered data mode acpi pci interrupt link ap3c gsi 20 level high irq 193 ata1 failed respond 30 secs ata abnormal status 0xf8 port assertion failed qcflags ata1 translated ata staterr 0xf800 scsi skascascq unable handle kernel null pointer dereference virtual address printing eip pde oops 0000 1 modules linked dmmod tsdev analog gameport sndpcmoss sndmixeross sndrawmidi sndseqdevice satasil sndpcm sndtimer psmouse nvidiaagp 3c59x parportpc parport snd soundcore ehcihcd ohcihcd serioraw mii idecd cdrom floppy sndpagealloc agpgart rtc usbcore forcedeth i2ccore pcspkr shpchp pcihotplug ext3 jbd mbcache idedisk generic idecore satanv libata scsimod evdev mousedev cpu 0 eip tainted vli eflags 1 eip scsimod eax ebx ecx ffffffff edx esi edi ebp esp ds 007b es 007b ss 0068 process ata0 pid 810 stack call trace scsimod libata libata libata libata code d0 88 46 09 0f b6 55 06 66 0f b6 45 07 c1 e2 08 01 d0 66 89 46 04 83 c4 20 89 f8 5b 5e 5f 5d c3 56 53 8b 5c 24 0c 8b 13 9c 5e fa 8b 82 cc 00 00 00 ff 4a 54 83 e8 05 83 f8 02 77 0d 83 7a 58 00 6acpi power button ff pwrf acpi power button cm pwrb\n",
            "Labels\n",
            "P2low\n",
            "P2normal\n",
            "P1normal\n",
            "P2normal\n",
            "P2blocking\n",
            "Training the model!\n",
            "Training accuracy: 0.9991420604847359\n",
            "Test accuracy: 0.5374645605508303\n",
            "F1 score: 0.5303389933050203\n"
          ],
          "name": "stdout"
        }
      ]
    },
    {
      "cell_type": "markdown",
      "metadata": {
        "id": "stC_hhJX3AOJ"
      },
      "source": [
        "**25. Random forest with the Chromium Dataset**"
      ]
    },
    {
      "cell_type": "code",
      "metadata": {
        "id": "HVy6wICw1Z2H",
        "outputId": "08d0077b-9a80-4394-d071-6a98b3dc0201",
        "colab": {
          "base_uri": "https://localhost:8080/",
          "height": 336
        }
      },
      "source": [
        "print(\"Chromium RF Classification\")\n",
        "from sklearn.ensemble import RandomForestClassifier\n",
        "def rf_classify(data,extra_params={'min_df': 0.001}):\n",
        "  '''\n",
        "  data is a pandas dataframe\n",
        "  '''\n",
        "  class_to_predict = 'type' # product importance\n",
        "  data = shuffle(data, random_state=77)\n",
        "\n",
        "  num_records = len(data)\n",
        "  data_train = data[:int(0.85 * num_records)]\n",
        "  data_test = data[int(0.85 * num_records):]\n",
        "\n",
        "  train_data = [x[0] for x in data_train[['text']].to_records(index=False)]\n",
        "  train_labels = [x[0] for x in data_train[[class_to_predict]].to_records(index=False)]\n",
        "\n",
        "  test_data = [x[0] for x in data_test[['text']].to_records(index=False)]\n",
        "  test_labels = [x[0] for x in data_test[[class_to_predict]].to_records(index=False)]\n",
        "\n",
        "  print(\"Vectors\")\n",
        "  for i in train_data[1:6]:\n",
        "      print(i)\n",
        "  print(\"Labels\")\n",
        "  for i in train_labels[1:6]:\n",
        "      print(i)\n",
        "  # Create feature vectors \n",
        "  vectorizer = TfidfVectorizer(**extra_params)\n",
        "  # Train the feature vectors\n",
        "  train_vectors = vectorizer.fit_transform(train_data)\n",
        "  test_vectors = vectorizer.transform(test_data)\n",
        "\n",
        "  # Perform classification with SVM, kernel=linear \n",
        "  model = RandomForestClassifier(max_depth=2, random_state=0)\n",
        "  print('Training the model!')\n",
        "  model.fit(train_vectors, train_labels) \n",
        "  train_prediction = model.predict(train_vectors)\n",
        "  test_prediction = model.predict(test_vectors)\n",
        "\n",
        "  train_accuracy = np.sum((np.array(train_labels) == np.array(train_prediction))) * 1.0 / len(train_labels)\n",
        "  print('Training accuracy: ' + str(train_accuracy))\n",
        "\n",
        "  test_accuracy = np.sum((np.array(test_labels) == np.array(test_prediction))) * 1.0 / len(test_labels)\n",
        "  print('Test accuracy: ' + str(test_accuracy)) \n",
        "\n",
        "  return print('F1 score: ' + str(f1_score(test_labels, test_prediction, average='weighted')))\n",
        "\n",
        "rf_classify(data1)"
      ],
      "execution_count": 33,
      "outputs": [
        {
          "output_type": "stream",
          "text": [
            "Chromium RF Classification\n",
            "Vectors\n",
            "legacy webaudio   remove nthis tracking bug issues legacy webaudio methods attributes need removed support prefixed audiocontext removedn\n",
            "gn need mechanism share parts gn config nv8 rolls srcbuild dependency gn   time eg somebody adds something build requires   whitelist v8s gn run breaks whitelisting added chromiums gn v8s instead sharing would even better whitelist files build thirdparty deps v8 pov wildcard files       change chromium side whitelisting gn existed already  \n",
            "  crashes google chrome 705362 dev nchrome version 705362 devrnurls applicable   browsers testednadd ok fail browsers tested issuensafari 4n firefox 3x okrnie 7nie 8nrnwhat steps reproduce problemn1 go   expected resultn browser crashesrnrnwhat happens insteadnrnrnplease provide additional information attach screenshot ifnpossiblenn\n",
            "  value gobi nogobi images nthe   x86alex builds contain hardware board value   value prevent us differentiating images via   monitoring update   n\n",
            "autofill i18n submitting international form capture data autofill nwhat steps reproduce problemn1 fill international formrn2 submit formrnrnwhat expected resultrnwe capture form data including localespecific fields   japan address show address manager accessible via autofill   backend server support localespecific fields need work around thatrnn\n",
            "Labels\n",
            "Bug\n",
            "Feature\n",
            "Bug\n",
            "Bug\n",
            "Feature\n",
            "Training the model!\n",
            "Training accuracy: 0.5434252597921663\n",
            "Test accuracy: 0.5499943381270525\n",
            "F1 score: 0.4213116700398697\n"
          ],
          "name": "stdout"
        }
      ]
    },
    {
      "cell_type": "markdown",
      "metadata": {
        "id": "H4Va629U3hUA"
      },
      "source": [
        "**26. Random forest with the Linux Dataset**"
      ]
    },
    {
      "cell_type": "code",
      "metadata": {
        "id": "Awexswrh1zxI",
        "outputId": "e3ab062f-cdf8-4ef3-f58d-3659255cf587",
        "colab": {
          "base_uri": "https://localhost:8080/",
          "height": 336
        }
      },
      "source": [
        "print(\"Linux RF Classification\")\n",
        "from sklearn.ensemble import RandomForestClassifier\n",
        "def rf_classify(data,extra_params={'min_df': 0.001}):\n",
        "  '''\n",
        "  data is a pandas dataframe\n",
        "  '''\n",
        "  class_to_predict = 'importance' # product importance\n",
        "  data = shuffle(data, random_state=77)\n",
        "\n",
        "  num_records = len(data)\n",
        "  data_train = data[:int(0.85 * num_records)]\n",
        "  data_test = data[int(0.85 * num_records):]\n",
        "\n",
        "  train_data = [x[0] for x in data_train[['text']].to_records(index=False)]\n",
        "  train_labels = [x[0] for x in data_train[[class_to_predict]].to_records(index=False)]\n",
        "\n",
        "  test_data = [x[0] for x in data_test[['text']].to_records(index=False)]\n",
        "  test_labels = [x[0] for x in data_test[[class_to_predict]].to_records(index=False)]\n",
        "\n",
        "  print(\"Vectors\")\n",
        "  for i in train_data[1:6]:\n",
        "      print(i)\n",
        "  print(\"Labels\")\n",
        "  for i in train_labels[1:6]:\n",
        "      print(i)\n",
        "  # Create feature vectors \n",
        "  vectorizer = TfidfVectorizer(**extra_params)\n",
        "  # Train the feature vectors\n",
        "  train_vectors = vectorizer.fit_transform(train_data)\n",
        "  test_vectors = vectorizer.transform(test_data)\n",
        "\n",
        "  # Perform classification with SVM, kernel=linear \n",
        "  model = RandomForestClassifier(max_depth=2, random_state=0)\n",
        "  print('Training the model!')\n",
        "  model.fit(train_vectors, train_labels) \n",
        "  train_prediction = model.predict(train_vectors)\n",
        "  test_prediction = model.predict(test_vectors)\n",
        "\n",
        "  train_accuracy = np.sum((np.array(train_labels) == np.array(train_prediction))) * 1.0 / len(train_labels)\n",
        "  print('Training accuracy: ' + str(train_accuracy))\n",
        "\n",
        "  test_accuracy = np.sum((np.array(test_labels) == np.array(test_prediction))) * 1.0 / len(test_labels)\n",
        "  print('Test accuracy: ' + str(test_accuracy)) \n",
        "\n",
        "  return print('F1 score: ' + str(f1_score(test_labels, test_prediction, average='weighted')))\n",
        "\n",
        "rf_classify(data2)"
      ],
      "execution_count": 34,
      "outputs": [
        {
          "output_type": "stream",
          "text": [
            "Linux RF Classification\n",
            "Vectors\n",
            "merlin   pcmcia card recognized serial port recent kernel bug occur 24x distribution debian hardware environment ibm laptop t42 software environment kernelorg kernel problem description insert pcmcia card log detects serial port noticed steps reproduce insert card merlin   pcmcia novatel vodafone fcc id syslog feb 7   localhost kernel pccard pcmcia card inserted slot 0 write see need install pcmciautils pcmcia utilities linux 26 reading   mentions module pcmcia 16 bit cards loaded automaticaly modprobe everything starts working please close call hope helps someone else feb 8   localhost kernel pcmcia registering new device feb 8   localhost kernel pcmcia registering new device feb 8   localhost kernel 00 ttys1 io 0x4100 irq 3 16550a\n",
            "kernel bug tun device closed oops attached distribution heavily modified redhat 73 hardware environment msi motherboard athlon thunderbird 1ghz cpu 2 disks etc software environment problem description   works fine normally client mode system server end link shutdown client tried close open tun device action caused oops kernel bug invalid operand 0000 cpu 0 eip tainted eflags eip eax ebx ecx edx esi edi ebp esp ds 007b es 007b ss 0068 process   pid 757 stack call trace code 0f 0b 0a 01 a4 6b 36 c0 ff 06 83 4e 04 08 85 f6 0f 84 01 01\n",
            "dm raid1   bug subject   added mm tree submitter heiko carstens heikocarstensdeibmcom date 1645 references handledby alasdair g kergon agkredhatcom entry used tracking regression 2624 please close problem fixed mainline\n",
            "network interface detection problem nforce 44x mobos recent kernel bug occur distribution debian 4 etch testing version amd64 hardware environment motherboard asus k8n4e deluxe processor amd athlontm 64 processor 3200 2200 mhz bios version phoenix     bios id oem   asus k8n4e deluxe acpi bios revision 1010 chipset nvidia   44x superio ite   rev 7 found port   ethernet controller 1   gigabit lan phy built mobo ethernet controller 2 dlink   530 tx 10100 ethernet controller memory installed 1024 mb memory maximum 3072 mb memory slot 01 512 mb memory slot 02 512 mb memory slot 03 0 mb acpi revision 10 software environment debian linux netinst version installation image found installation image kernel debian 26179 waldidebianorg gcc version 412   debian 41113 1 smp wed sep 13   cest 2006 x8664 unknown problem description kernel cant detect ethernet controllers despite fact two ethernet controllers installed system builtin   controller detected dlink controller installed attempt resolve problem provide solution result error messages identical ones produced built ethernet adapter error message ethernet card detected order replicate problem perform following steps 1 attempt installation debian linux specified hardware 2 use installation image specified previously message 3 installation step identify network hardware error message appear problem consistent least 10 installation attempts attempts done install linux specified hardware july august september half october result   install images problems lot worse older install images attempt made remove unnecessary modules command modprobe rf   modprobe l   still indicate modprobe installed interpret indication modprobe work correctly system interpretation wrong need information modprobe additional information static ip adress used dhcp issue ifconfig report loopback interface lspci vvv grep   produces following report 000a0 bridge corporation ck804 ethernet controller rev 2 05070 ethernet controller technologies inc vt6105 rhine iii rev 86 manually selecting forcedeth driver viarhine driver resolve problem resolved starting shell issuing commands modprobe f forcedeth modprobe f viarhine combination flags tested best regards\n",
            "  oops boot recent kernel bug occur similar reports lkml seems indicate everything ok 2613 distribution debian unstable hardware environment asus a7n8x delux nforce2 chipset sata silicon image 3112a sata device 1 plextor px 755 sa dvd recorder everything ok alternative os software environment debian unstable kernel 2616 libata 120 using nvidia binary module steps reproduce boot problem description boot   sata device detected satasil loaded sata link ok indicates abnormal status 0x78 port claiming ata1 slow respond please patient letting kernel booting stuff go way libata finally oops dump stack trace boot process still continue computer usable afterward however trying rmmod libata removed satasil hangs indefinitely trying   gives results trying   gives results trying trying boot   removing modules reloading   gives results except error messages thrown console keybord stops working dmesg boot       dmesg satasil version 09 acpi pci interrupt link apc3 enabled irq 18 acpi pci interrupt link apc3 gsi 18 level high irq 201 acpi pci interrupt link apcj enabled irq 22 acpi pci interrupt link apcj gsi 22 level high irq 177 pci setting latency timer device 64 ata1 sata max cmd ctl bmdma irq 201 ata2 sata max cmd ctl bmdma irq 201 input ps2 logitech mx mouse classinputinput2 ata1 sata link 15 gbps sstatus 113 measured   usecs clocking   ata1 dev 0 cfg 490f00 820000 830000 840000 850000 860000 870000   ata1 dev 0 atapi max udma66 ata10 applying bridge limits ata10 applying seagate errata fix workaround ata1 dev 0 configured udma66 scsi0 satasil ata2 sata link sstatus 0 scsi1 satasil ata abnormal status 0x78 port ata abnormal status 0x78 port ata abnormal status 0x78 port ata abnormal status 0x78 port ts compaq touchscreen protocol output ata1 slow respond please patient ata1 command 0xa0 timeout stat 0xf8 hoststat 0x0 ata1 translated ata staterr 0xf800 scsi skascascq adding swap devhda3 priority1 extents1 ext3 fs hda2 internal journal devicemapper initialised dmdevelredhatcom kjournald starting commit interval 5 seconds ext3 fs hda4 internal journal ext3fs mounted filesystem ordered data mode acpi pci interrupt link ap3c gsi 20 level high irq 193 ata1 failed respond 30 secs ata abnormal status 0xf8 port assertion failed qcflags ata1 translated ata staterr 0xf800 scsi skascascq unable handle kernel null pointer dereference virtual address printing eip pde oops 0000 1 modules linked dmmod tsdev analog gameport sndpcmoss sndmixeross sndrawmidi sndseqdevice satasil sndpcm sndtimer psmouse nvidiaagp 3c59x parportpc parport snd soundcore ehcihcd ohcihcd serioraw mii idecd cdrom floppy sndpagealloc agpgart rtc usbcore forcedeth i2ccore pcspkr shpchp pcihotplug ext3 jbd mbcache idedisk generic idecore satanv libata scsimod evdev mousedev cpu 0 eip tainted vli eflags 1 eip scsimod eax ebx ecx ffffffff edx esi edi ebp esp ds 007b es 007b ss 0068 process ata0 pid 810 stack call trace scsimod libata libata libata libata code d0 88 46 09 0f b6 55 06 66 0f b6 45 07 c1 e2 08 01 d0 66 89 46 04 83 c4 20 89 f8 5b 5e 5f 5d c3 56 53 8b 5c 24 0c 8b 13 9c 5e fa 8b 82 cc 00 00 00 ff 4a 54 83 e8 05 83 f8 02 77 0d 83 7a 58 00 6acpi power button ff pwrf acpi power button cm pwrb\n",
            "Labels\n",
            "P2low\n",
            "P2normal\n",
            "P1normal\n",
            "P2normal\n",
            "P2blocking\n",
            "Training the model!\n",
            "Training accuracy: 0.5833273754200329\n",
            "Test accuracy: 0.5909275010125556\n",
            "F1 score: 0.4934920466612304\n"
          ],
          "name": "stdout"
        }
      ]
    }
  ]
}