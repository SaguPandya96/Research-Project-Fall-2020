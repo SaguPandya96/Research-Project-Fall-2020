{
  "nbformat": 4,
  "nbformat_minor": 0,
  "metadata": {
    "colab": {
      "name": "Ensemble Learning .ipynb",
      "provenance": [],
      "collapsed_sections": [],
      "machine_shape": "hm",
      "include_colab_link": true
    },
    "kernelspec": {
      "name": "python3",
      "display_name": "Python 3"
    },
    "accelerator": "GPU"
  },
  "cells": [
    {
      "cell_type": "markdown",
      "metadata": {
        "id": "view-in-github",
        "colab_type": "text"
      },
      "source": [
        "<a href=\"https://colab.research.google.com/github/SaguPandya96/Research-Project-Fall-2020/blob/master/Ensemble_Learning_.ipynb\" target=\"_parent\"><img src=\"https://colab.research.google.com/assets/colab-badge.svg\" alt=\"Open In Colab\"/></a>"
      ]
    },
    {
      "cell_type": "code",
      "metadata": {
        "id": "to5H5OFAw_sy",
        "outputId": "4b8a870d-bfde-40a4-944c-3237cace961b",
        "colab": {
          "base_uri": "https://localhost:8080/",
          "height": 87
        }
      },
      "source": [
        "import pandas as pd\n",
        "import string\n",
        "import random as rr\n",
        "from textblob.classifiers import NaiveBayesClassifier as NBC\n",
        "from textblob.classifiers import DecisionTreeClassifier\n",
        "from sklearn.metrics import f1_score\n",
        "import nltk\n",
        "nltk.download('punkt')\n",
        "nltk.download('stopwords')\n",
        "\n",
        "import itertools\n",
        "from sklearn.feature_extraction.text import TfidfVectorizer\n",
        "from sklearn.neural_network import MLPClassifier\n",
        "from sklearn.metrics import classification_report\n",
        "from sklearn import svm\n",
        "from sklearn.utils import shuffle\n",
        "import numpy as np\n",
        "\n",
        "from nltk.corpus import stopwords\n",
        "from sklearn.utils import shuffle\n",
        "from sklearn.metrics import f1_score\n"
      ],
      "execution_count": 1,
      "outputs": [
        {
          "output_type": "stream",
          "text": [
            "[nltk_data] Downloading package punkt to /root/nltk_data...\n",
            "[nltk_data]   Unzipping tokenizers/punkt.zip.\n",
            "[nltk_data] Downloading package stopwords to /root/nltk_data...\n",
            "[nltk_data]   Unzipping corpora/stopwords.zip.\n"
          ],
          "name": "stdout"
        }
      ]
    },
    {
      "cell_type": "code",
      "metadata": {
        "id": "ycQgrK-pAjBv",
        "outputId": "e5334e10-8ac0-4f08-d4dd-73fe73300420",
        "colab": {
          "base_uri": "https://localhost:8080/",
          "height": 220
        }
      },
      "source": [
        "#load data\n",
        "DATA_PATH1 = '/content/drive/My Drive/Research Project/chromium.csv'\n",
        "data1 = pd.read_csv(DATA_PATH1, sep='\\t')\n",
        "data_top1 = data1.head()\n",
        "print(\"Chromium Data\")\n",
        "data_top1"
      ],
      "execution_count": 4,
      "outputs": [
        {
          "output_type": "stream",
          "text": [
            "Chromium Data\n"
          ],
          "name": "stdout"
        },
        {
          "output_type": "execute_result",
          "data": {
            "text/html": [
              "<div>\n",
              "<style scoped>\n",
              "    .dataframe tbody tr th:only-of-type {\n",
              "        vertical-align: middle;\n",
              "    }\n",
              "\n",
              "    .dataframe tbody tr th {\n",
              "        vertical-align: top;\n",
              "    }\n",
              "\n",
              "    .dataframe thead th {\n",
              "        text-align: right;\n",
              "    }\n",
              "</style>\n",
              "<table border=\"1\" class=\"dataframe\">\n",
              "  <thead>\n",
              "    <tr style=\"text-align: right;\">\n",
              "      <th></th>\n",
              "      <th>title</th>\n",
              "      <th>description</th>\n",
              "      <th>type</th>\n",
              "    </tr>\n",
              "  </thead>\n",
              "  <tbody>\n",
              "    <tr>\n",
              "      <th>0</th>\n",
              "      <td>Define a way to enforce performance constraint...</td>\n",
              "      <td>\\nThere are cases where tests should fail if a...</td>\n",
              "      <td>Bug</td>\n",
              "    </tr>\n",
              "    <tr>\n",
              "      <th>1</th>\n",
              "      <td>Websites that don't work with Chrome Browser</td>\n",
              "      <td>\\nChrome Version       : 3.0.195.10\\r\\nURLs (i...</td>\n",
              "      <td>Compat</td>\n",
              "    </tr>\n",
              "    <tr>\n",
              "      <th>2</th>\n",
              "      <td>Redraw issue/truncation with confirmation item...</td>\n",
              "      <td>\\nChromium 0.3.155.0 (Developer Build 3546)\\r\\...</td>\n",
              "      <td>Bug</td>\n",
              "    </tr>\n",
              "    <tr>\n",
              "      <th>3</th>\n",
              "      <td>Implement CanvasRenderingContext2D for access ...</td>\n",
              "      <td>\\nApplications that do background image proces...</td>\n",
              "      <td>Feature</td>\n",
              "    </tr>\n",
              "    <tr>\n",
              "      <th>4</th>\n",
              "      <td>ath9k: panic in ath_tx_last_beacon + 0x29a</td>\n",
              "      <td>\\nToT (3.0 kernel) panic'd on resume.  Was ass...</td>\n",
              "      <td>Bug</td>\n",
              "    </tr>\n",
              "  </tbody>\n",
              "</table>\n",
              "</div>"
            ],
            "text/plain": [
              "                                               title  ...     type\n",
              "0  Define a way to enforce performance constraint...  ...      Bug\n",
              "1       Websites that don't work with Chrome Browser  ...   Compat\n",
              "2  Redraw issue/truncation with confirmation item...  ...      Bug\n",
              "3  Implement CanvasRenderingContext2D for access ...  ...  Feature\n",
              "4         ath9k: panic in ath_tx_last_beacon + 0x29a  ...      Bug\n",
              "\n",
              "[5 rows x 3 columns]"
            ]
          },
          "metadata": {
            "tags": []
          },
          "execution_count": 4
        }
      ]
    },
    {
      "cell_type": "code",
      "metadata": {
        "id": "PLUr7Ng23CLm",
        "outputId": "d74c61a7-9fc1-4ffd-ba3a-ad92b853af2d",
        "colab": {
          "base_uri": "https://localhost:8080/",
          "height": 35
        }
      },
      "source": [
        "from google.colab import drive\n",
        "drive.mount('/content/drive')"
      ],
      "execution_count": 3,
      "outputs": [
        {
          "output_type": "stream",
          "text": [
            "Mounted at /content/drive\n"
          ],
          "name": "stdout"
        }
      ]
    },
    {
      "cell_type": "code",
      "metadata": {
        "id": "CtUix8uvznPl",
        "outputId": "47460e13-d226-4902-f181-3444803562b4",
        "colab": {
          "base_uri": "https://localhost:8080/",
          "height": 220
        }
      },
      "source": [
        "DATA_PATH2 = '/content/drive/My Drive/Research Project/linux_bugs_usage_ready.csv'\n",
        "data2 = pd.read_csv(DATA_PATH2, sep='\\t')\n",
        "data_top2 = data2.head()\n",
        "print(\"Linux Data\")\n",
        "data_top2"
      ],
      "execution_count": 5,
      "outputs": [
        {
          "output_type": "stream",
          "text": [
            "Linux Data\n"
          ],
          "name": "stdout"
        },
        {
          "output_type": "execute_result",
          "data": {
            "text/html": [
              "<div>\n",
              "<style scoped>\n",
              "    .dataframe tbody tr th:only-of-type {\n",
              "        vertical-align: middle;\n",
              "    }\n",
              "\n",
              "    .dataframe tbody tr th {\n",
              "        vertical-align: top;\n",
              "    }\n",
              "\n",
              "    .dataframe thead th {\n",
              "        text-align: right;\n",
              "    }\n",
              "</style>\n",
              "<table border=\"1\" class=\"dataframe\">\n",
              "  <thead>\n",
              "    <tr style=\"text-align: right;\">\n",
              "      <th></th>\n",
              "      <th>title</th>\n",
              "      <th>message</th>\n",
              "      <th>importance</th>\n",
              "      <th>product</th>\n",
              "      <th>component</th>\n",
              "    </tr>\n",
              "  </thead>\n",
              "  <tbody>\n",
              "    <tr>\n",
              "      <th>0</th>\n",
              "      <td>oops when using ide-cd with 2.5.45 and cdrecord</td>\n",
              "      <td>Please enter Exact Kernel version:2.5.45 Distr...</td>\n",
              "      <td>P2 normal</td>\n",
              "      <td>IO/Storage</td>\n",
              "      <td>IDE</td>\n",
              "    </tr>\n",
              "    <tr>\n",
              "      <th>1</th>\n",
              "      <td>NUMA-Q hangs during TSC initialization on boot.</td>\n",
              "      <td>Exact Kernel version: 2.5.46 Distribution: deb...</td>\n",
              "      <td>P2 normal</td>\n",
              "      <td>Platform Specific/Hardware</td>\n",
              "      <td>i386</td>\n",
              "    </tr>\n",
              "    <tr>\n",
              "      <th>2</th>\n",
              "      <td>Enabling shared pagetables causes KDE to wierd...</td>\n",
              "      <td>Exact Kernel version: 2.5.46-mm1 Distribution:...</td>\n",
              "      <td>P2 normal</td>\n",
              "      <td>Memory Management</td>\n",
              "      <td>Other</td>\n",
              "    </tr>\n",
              "    <tr>\n",
              "      <th>3</th>\n",
              "      <td>Dcache spirals out of control on 2.5.43-mm2</td>\n",
              "      <td>Exact Kernel version: 2.5.43-mm2 Distribution:...</td>\n",
              "      <td>P2 blocking</td>\n",
              "      <td>IO/Storage</td>\n",
              "      <td>Other</td>\n",
              "    </tr>\n",
              "    <tr>\n",
              "      <th>4</th>\n",
              "      <td>64GB highmem BUG()</td>\n",
              "      <td>Exact Kernel version: 2.5.40 Hardware Environm...</td>\n",
              "      <td>P2 normal</td>\n",
              "      <td>Memory Management</td>\n",
              "      <td>Other</td>\n",
              "    </tr>\n",
              "  </tbody>\n",
              "</table>\n",
              "</div>"
            ],
            "text/plain": [
              "                                               title  ... component\n",
              "0    oops when using ide-cd with 2.5.45 and cdrecord  ...       IDE\n",
              "1    NUMA-Q hangs during TSC initialization on boot.  ...      i386\n",
              "2  Enabling shared pagetables causes KDE to wierd...  ...     Other\n",
              "3        Dcache spirals out of control on 2.5.43-mm2  ...     Other\n",
              "4                                 64GB highmem BUG()  ...     Other\n",
              "\n",
              "[5 rows x 5 columns]"
            ]
          },
          "metadata": {
            "tags": []
          },
          "execution_count": 5
        }
      ]
    },
    {
      "cell_type": "code",
      "metadata": {
        "id": "JOMKgPhXy8NI",
        "outputId": "c82734bc-f136-4a85-c3a5-2791746ce066",
        "colab": {
          "base_uri": "https://localhost:8080/",
          "height": 220
        }
      },
      "source": [
        "#merge title and message\n",
        "def merge_title_and_message(data, message_col_name='message'):\n",
        "  data['text'] = data['title'] + ' ' + data[message_col_name]\n",
        "  data = data.drop(['title'], axis=1)\n",
        "  data = data.drop([message_col_name], axis=1)\n",
        "  return data\n",
        "data1 = merge_title_and_message(data1, message_col_name='description')\n",
        "data_top1 = data1.head()\n",
        "print(\"Chromium Merge Title and Message Data\")\n",
        "data_top1"
      ],
      "execution_count": 6,
      "outputs": [
        {
          "output_type": "stream",
          "text": [
            "Chromium Merge Title and Message Data\n"
          ],
          "name": "stdout"
        },
        {
          "output_type": "execute_result",
          "data": {
            "text/html": [
              "<div>\n",
              "<style scoped>\n",
              "    .dataframe tbody tr th:only-of-type {\n",
              "        vertical-align: middle;\n",
              "    }\n",
              "\n",
              "    .dataframe tbody tr th {\n",
              "        vertical-align: top;\n",
              "    }\n",
              "\n",
              "    .dataframe thead th {\n",
              "        text-align: right;\n",
              "    }\n",
              "</style>\n",
              "<table border=\"1\" class=\"dataframe\">\n",
              "  <thead>\n",
              "    <tr style=\"text-align: right;\">\n",
              "      <th></th>\n",
              "      <th>type</th>\n",
              "      <th>text</th>\n",
              "    </tr>\n",
              "  </thead>\n",
              "  <tbody>\n",
              "    <tr>\n",
              "      <th>0</th>\n",
              "      <td>Bug</td>\n",
              "      <td>Define a way to enforce performance constraint...</td>\n",
              "    </tr>\n",
              "    <tr>\n",
              "      <th>1</th>\n",
              "      <td>Compat</td>\n",
              "      <td>Websites that don't work with Chrome Browser \\...</td>\n",
              "    </tr>\n",
              "    <tr>\n",
              "      <th>2</th>\n",
              "      <td>Bug</td>\n",
              "      <td>Redraw issue/truncation with confirmation item...</td>\n",
              "    </tr>\n",
              "    <tr>\n",
              "      <th>3</th>\n",
              "      <td>Feature</td>\n",
              "      <td>Implement CanvasRenderingContext2D for access ...</td>\n",
              "    </tr>\n",
              "    <tr>\n",
              "      <th>4</th>\n",
              "      <td>Bug</td>\n",
              "      <td>ath9k: panic in ath_tx_last_beacon + 0x29a \\nT...</td>\n",
              "    </tr>\n",
              "  </tbody>\n",
              "</table>\n",
              "</div>"
            ],
            "text/plain": [
              "      type                                               text\n",
              "0      Bug  Define a way to enforce performance constraint...\n",
              "1   Compat  Websites that don't work with Chrome Browser \\...\n",
              "2      Bug  Redraw issue/truncation with confirmation item...\n",
              "3  Feature  Implement CanvasRenderingContext2D for access ...\n",
              "4      Bug  ath9k: panic in ath_tx_last_beacon + 0x29a \\nT..."
            ]
          },
          "metadata": {
            "tags": []
          },
          "execution_count": 6
        }
      ]
    },
    {
      "cell_type": "code",
      "metadata": {
        "id": "GbcMekOw0Hkj",
        "outputId": "3e7d09cf-32c5-4847-9804-bb9ccf82a158",
        "colab": {
          "base_uri": "https://localhost:8080/",
          "height": 220
        }
      },
      "source": [
        "data2 = merge_title_and_message(data2)\n",
        "data_top2 = data2.head()\n",
        "print(\"Linux Merge Title and Message Data\")\n",
        "data_top2"
      ],
      "execution_count": 7,
      "outputs": [
        {
          "output_type": "stream",
          "text": [
            "Linux Merge Title and Message Data\n"
          ],
          "name": "stdout"
        },
        {
          "output_type": "execute_result",
          "data": {
            "text/html": [
              "<div>\n",
              "<style scoped>\n",
              "    .dataframe tbody tr th:only-of-type {\n",
              "        vertical-align: middle;\n",
              "    }\n",
              "\n",
              "    .dataframe tbody tr th {\n",
              "        vertical-align: top;\n",
              "    }\n",
              "\n",
              "    .dataframe thead th {\n",
              "        text-align: right;\n",
              "    }\n",
              "</style>\n",
              "<table border=\"1\" class=\"dataframe\">\n",
              "  <thead>\n",
              "    <tr style=\"text-align: right;\">\n",
              "      <th></th>\n",
              "      <th>importance</th>\n",
              "      <th>product</th>\n",
              "      <th>component</th>\n",
              "      <th>text</th>\n",
              "    </tr>\n",
              "  </thead>\n",
              "  <tbody>\n",
              "    <tr>\n",
              "      <th>0</th>\n",
              "      <td>P2 normal</td>\n",
              "      <td>IO/Storage</td>\n",
              "      <td>IDE</td>\n",
              "      <td>oops when using ide-cd with 2.5.45 and cdrecor...</td>\n",
              "    </tr>\n",
              "    <tr>\n",
              "      <th>1</th>\n",
              "      <td>P2 normal</td>\n",
              "      <td>Platform Specific/Hardware</td>\n",
              "      <td>i386</td>\n",
              "      <td>NUMA-Q hangs during TSC initialization on boot...</td>\n",
              "    </tr>\n",
              "    <tr>\n",
              "      <th>2</th>\n",
              "      <td>P2 normal</td>\n",
              "      <td>Memory Management</td>\n",
              "      <td>Other</td>\n",
              "      <td>Enabling shared pagetables causes KDE to wierd...</td>\n",
              "    </tr>\n",
              "    <tr>\n",
              "      <th>3</th>\n",
              "      <td>P2 blocking</td>\n",
              "      <td>IO/Storage</td>\n",
              "      <td>Other</td>\n",
              "      <td>Dcache spirals out of control on 2.5.43-mm2 Ex...</td>\n",
              "    </tr>\n",
              "    <tr>\n",
              "      <th>4</th>\n",
              "      <td>P2 normal</td>\n",
              "      <td>Memory Management</td>\n",
              "      <td>Other</td>\n",
              "      <td>64GB highmem BUG() Exact Kernel version: 2.5.4...</td>\n",
              "    </tr>\n",
              "  </tbody>\n",
              "</table>\n",
              "</div>"
            ],
            "text/plain": [
              "    importance  ...                                               text\n",
              "0    P2 normal  ...  oops when using ide-cd with 2.5.45 and cdrecor...\n",
              "1    P2 normal  ...  NUMA-Q hangs during TSC initialization on boot...\n",
              "2    P2 normal  ...  Enabling shared pagetables causes KDE to wierd...\n",
              "3  P2 blocking  ...  Dcache spirals out of control on 2.5.43-mm2 Ex...\n",
              "4    P2 normal  ...  64GB highmem BUG() Exact Kernel version: 2.5.4...\n",
              "\n",
              "[5 rows x 4 columns]"
            ]
          },
          "metadata": {
            "tags": []
          },
          "execution_count": 7
        }
      ]
    },
    {
      "cell_type": "code",
      "metadata": {
        "id": "knalSpfb0y_O"
      },
      "source": [
        "def strip_punctuations(data, column_name='text'):\n",
        "  '''\n",
        "  Strips punctuations from the end of each token.\n",
        "  This uses suggestion from https://stackoverflow.com/questions/34293875/how-to-remove-punctuation-marks-from-a-string-in-python-3-x-using-translate\n",
        "  to accomplish this really fast.\n",
        "  '''\n",
        "  translator = str.maketrans('', '', string.punctuation)\n",
        "  data['text'] = data['text'].map(lambda s : str(s).translate(translator))\n",
        "  return data"
      ],
      "execution_count": 8,
      "outputs": []
    },
    {
      "cell_type": "code",
      "metadata": {
        "id": "78oErrxr0I-U",
        "outputId": "dd614f65-4280-47c5-bbcd-ba7933c30b01",
        "colab": {
          "base_uri": "https://localhost:8080/",
          "height": 220
        }
      },
      "source": [
        "data1 = strip_punctuations(data1)\n",
        "data_top1 = data1.head()\n",
        "print(\"Chromium strip punctuations\")\n",
        "data_top1"
      ],
      "execution_count": 9,
      "outputs": [
        {
          "output_type": "stream",
          "text": [
            "Chromium strip punctuations\n"
          ],
          "name": "stdout"
        },
        {
          "output_type": "execute_result",
          "data": {
            "text/html": [
              "<div>\n",
              "<style scoped>\n",
              "    .dataframe tbody tr th:only-of-type {\n",
              "        vertical-align: middle;\n",
              "    }\n",
              "\n",
              "    .dataframe tbody tr th {\n",
              "        vertical-align: top;\n",
              "    }\n",
              "\n",
              "    .dataframe thead th {\n",
              "        text-align: right;\n",
              "    }\n",
              "</style>\n",
              "<table border=\"1\" class=\"dataframe\">\n",
              "  <thead>\n",
              "    <tr style=\"text-align: right;\">\n",
              "      <th></th>\n",
              "      <th>type</th>\n",
              "      <th>text</th>\n",
              "    </tr>\n",
              "  </thead>\n",
              "  <tbody>\n",
              "    <tr>\n",
              "      <th>0</th>\n",
              "      <td>Bug</td>\n",
              "      <td>Define a way to enforce performance constraint...</td>\n",
              "    </tr>\n",
              "    <tr>\n",
              "      <th>1</th>\n",
              "      <td>Compat</td>\n",
              "      <td>Websites that dont work with Chrome Browser nC...</td>\n",
              "    </tr>\n",
              "    <tr>\n",
              "      <th>2</th>\n",
              "      <td>Bug</td>\n",
              "      <td>Redraw issuetruncation with confirmation item ...</td>\n",
              "    </tr>\n",
              "    <tr>\n",
              "      <th>3</th>\n",
              "      <td>Feature</td>\n",
              "      <td>Implement CanvasRenderingContext2D for access ...</td>\n",
              "    </tr>\n",
              "    <tr>\n",
              "      <th>4</th>\n",
              "      <td>Bug</td>\n",
              "      <td>ath9k panic in athtxlastbeacon  0x29a nToT 30 ...</td>\n",
              "    </tr>\n",
              "  </tbody>\n",
              "</table>\n",
              "</div>"
            ],
            "text/plain": [
              "      type                                               text\n",
              "0      Bug  Define a way to enforce performance constraint...\n",
              "1   Compat  Websites that dont work with Chrome Browser nC...\n",
              "2      Bug  Redraw issuetruncation with confirmation item ...\n",
              "3  Feature  Implement CanvasRenderingContext2D for access ...\n",
              "4      Bug  ath9k panic in athtxlastbeacon  0x29a nToT 30 ..."
            ]
          },
          "metadata": {
            "tags": []
          },
          "execution_count": 9
        }
      ]
    },
    {
      "cell_type": "code",
      "metadata": {
        "id": "SYN3rEq91og3",
        "outputId": "c230e487-0794-48ea-a19d-ee4827f475a0",
        "colab": {
          "base_uri": "https://localhost:8080/",
          "height": 220
        }
      },
      "source": [
        "data2 = strip_punctuations(data2)\n",
        "data_top2 = data2.head()\n",
        "print(\"Linux strip punctuations\")\n",
        "data_top2"
      ],
      "execution_count": 10,
      "outputs": [
        {
          "output_type": "stream",
          "text": [
            "Linux strip punctuations\n"
          ],
          "name": "stdout"
        },
        {
          "output_type": "execute_result",
          "data": {
            "text/html": [
              "<div>\n",
              "<style scoped>\n",
              "    .dataframe tbody tr th:only-of-type {\n",
              "        vertical-align: middle;\n",
              "    }\n",
              "\n",
              "    .dataframe tbody tr th {\n",
              "        vertical-align: top;\n",
              "    }\n",
              "\n",
              "    .dataframe thead th {\n",
              "        text-align: right;\n",
              "    }\n",
              "</style>\n",
              "<table border=\"1\" class=\"dataframe\">\n",
              "  <thead>\n",
              "    <tr style=\"text-align: right;\">\n",
              "      <th></th>\n",
              "      <th>importance</th>\n",
              "      <th>product</th>\n",
              "      <th>component</th>\n",
              "      <th>text</th>\n",
              "    </tr>\n",
              "  </thead>\n",
              "  <tbody>\n",
              "    <tr>\n",
              "      <th>0</th>\n",
              "      <td>P2 normal</td>\n",
              "      <td>IO/Storage</td>\n",
              "      <td>IDE</td>\n",
              "      <td>oops when using idecd with 2545 and cdrecord P...</td>\n",
              "    </tr>\n",
              "    <tr>\n",
              "      <th>1</th>\n",
              "      <td>P2 normal</td>\n",
              "      <td>Platform Specific/Hardware</td>\n",
              "      <td>i386</td>\n",
              "      <td>NUMAQ hangs during TSC initialization on boot ...</td>\n",
              "    </tr>\n",
              "    <tr>\n",
              "      <th>2</th>\n",
              "      <td>P2 normal</td>\n",
              "      <td>Memory Management</td>\n",
              "      <td>Other</td>\n",
              "      <td>Enabling shared pagetables causes KDE to wierd...</td>\n",
              "    </tr>\n",
              "    <tr>\n",
              "      <th>3</th>\n",
              "      <td>P2 blocking</td>\n",
              "      <td>IO/Storage</td>\n",
              "      <td>Other</td>\n",
              "      <td>Dcache spirals out of control on 2543mm2 Exact...</td>\n",
              "    </tr>\n",
              "    <tr>\n",
              "      <th>4</th>\n",
              "      <td>P2 normal</td>\n",
              "      <td>Memory Management</td>\n",
              "      <td>Other</td>\n",
              "      <td>64GB highmem BUG Exact Kernel version 2540 Har...</td>\n",
              "    </tr>\n",
              "  </tbody>\n",
              "</table>\n",
              "</div>"
            ],
            "text/plain": [
              "    importance  ...                                               text\n",
              "0    P2 normal  ...  oops when using idecd with 2545 and cdrecord P...\n",
              "1    P2 normal  ...  NUMAQ hangs during TSC initialization on boot ...\n",
              "2    P2 normal  ...  Enabling shared pagetables causes KDE to wierd...\n",
              "3  P2 blocking  ...  Dcache spirals out of control on 2543mm2 Exact...\n",
              "4    P2 normal  ...  64GB highmem BUG Exact Kernel version 2540 Har...\n",
              "\n",
              "[5 rows x 4 columns]"
            ]
          },
          "metadata": {
            "tags": []
          },
          "execution_count": 10
        }
      ]
    },
    {
      "cell_type": "code",
      "metadata": {
        "id": "1Sm1_0af1wwD",
        "outputId": "744c45c5-3d68-4b1d-eabd-e573aee367fc",
        "colab": {
          "base_uri": "https://localhost:8080/",
          "height": 220
        }
      },
      "source": [
        "def remove_linux_garbage(data):\n",
        "  '''\n",
        "  Linux data contains lots of garbage, e.g. memory addresses - 0000f800\n",
        "  '''\n",
        "  def is_garbage(w):\n",
        "    return len(w) >= 7 and sum(c.isdigit() for c in w) >= 2\n",
        "\n",
        "  data['text'] = data['text'].map(lambda s : ' '.join(map(lambda w: w if not is_garbage(w) else ' ', s.split())))\n",
        "  return data\n",
        "data = remove_linux_garbage(data2)\n",
        "data_top2 = data2.head()\n",
        "print(\"Remove linux garbage\")\n",
        "data_top2"
      ],
      "execution_count": 11,
      "outputs": [
        {
          "output_type": "stream",
          "text": [
            "Remove linux garbage\n"
          ],
          "name": "stdout"
        },
        {
          "output_type": "execute_result",
          "data": {
            "text/html": [
              "<div>\n",
              "<style scoped>\n",
              "    .dataframe tbody tr th:only-of-type {\n",
              "        vertical-align: middle;\n",
              "    }\n",
              "\n",
              "    .dataframe tbody tr th {\n",
              "        vertical-align: top;\n",
              "    }\n",
              "\n",
              "    .dataframe thead th {\n",
              "        text-align: right;\n",
              "    }\n",
              "</style>\n",
              "<table border=\"1\" class=\"dataframe\">\n",
              "  <thead>\n",
              "    <tr style=\"text-align: right;\">\n",
              "      <th></th>\n",
              "      <th>importance</th>\n",
              "      <th>product</th>\n",
              "      <th>component</th>\n",
              "      <th>text</th>\n",
              "    </tr>\n",
              "  </thead>\n",
              "  <tbody>\n",
              "    <tr>\n",
              "      <th>0</th>\n",
              "      <td>P2 normal</td>\n",
              "      <td>IO/Storage</td>\n",
              "      <td>IDE</td>\n",
              "      <td>oops when using idecd with 2545 and cdrecord P...</td>\n",
              "    </tr>\n",
              "    <tr>\n",
              "      <th>1</th>\n",
              "      <td>P2 normal</td>\n",
              "      <td>Platform Specific/Hardware</td>\n",
              "      <td>i386</td>\n",
              "      <td>NUMAQ hangs during TSC initialization on boot ...</td>\n",
              "    </tr>\n",
              "    <tr>\n",
              "      <th>2</th>\n",
              "      <td>P2 normal</td>\n",
              "      <td>Memory Management</td>\n",
              "      <td>Other</td>\n",
              "      <td>Enabling shared pagetables causes KDE to wierd...</td>\n",
              "    </tr>\n",
              "    <tr>\n",
              "      <th>3</th>\n",
              "      <td>P2 blocking</td>\n",
              "      <td>IO/Storage</td>\n",
              "      <td>Other</td>\n",
              "      <td>Dcache spirals out of control on   Exact Kerne...</td>\n",
              "    </tr>\n",
              "    <tr>\n",
              "      <th>4</th>\n",
              "      <td>P2 normal</td>\n",
              "      <td>Memory Management</td>\n",
              "      <td>Other</td>\n",
              "      <td>64GB highmem BUG Exact Kernel version 2540 Har...</td>\n",
              "    </tr>\n",
              "  </tbody>\n",
              "</table>\n",
              "</div>"
            ],
            "text/plain": [
              "    importance  ...                                               text\n",
              "0    P2 normal  ...  oops when using idecd with 2545 and cdrecord P...\n",
              "1    P2 normal  ...  NUMAQ hangs during TSC initialization on boot ...\n",
              "2    P2 normal  ...  Enabling shared pagetables causes KDE to wierd...\n",
              "3  P2 blocking  ...  Dcache spirals out of control on   Exact Kerne...\n",
              "4    P2 normal  ...  64GB highmem BUG Exact Kernel version 2540 Har...\n",
              "\n",
              "[5 rows x 4 columns]"
            ]
          },
          "metadata": {
            "tags": []
          },
          "execution_count": 11
        }
      ]
    },
    {
      "cell_type": "code",
      "metadata": {
        "id": "Q5RKcfm_73vX",
        "outputId": "a895b657-6269-42e7-cc14-c0c162368ef6",
        "colab": {
          "base_uri": "https://localhost:8080/",
          "height": 220
        }
      },
      "source": [
        "def cast_to_lowercase(data):\n",
        "  data['text'] = data['text'].map(lambda s : s.lower())\n",
        "  return data\n",
        "data1 = cast_to_lowercase(data1)\n",
        "data2 = cast_to_lowercase(data2)\n",
        "data_top1 = data1.head()\n",
        "print(\"Chromium Lowercase\")\n",
        "data_top1"
      ],
      "execution_count": 12,
      "outputs": [
        {
          "output_type": "stream",
          "text": [
            "Chromium Lowercase\n"
          ],
          "name": "stdout"
        },
        {
          "output_type": "execute_result",
          "data": {
            "text/html": [
              "<div>\n",
              "<style scoped>\n",
              "    .dataframe tbody tr th:only-of-type {\n",
              "        vertical-align: middle;\n",
              "    }\n",
              "\n",
              "    .dataframe tbody tr th {\n",
              "        vertical-align: top;\n",
              "    }\n",
              "\n",
              "    .dataframe thead th {\n",
              "        text-align: right;\n",
              "    }\n",
              "</style>\n",
              "<table border=\"1\" class=\"dataframe\">\n",
              "  <thead>\n",
              "    <tr style=\"text-align: right;\">\n",
              "      <th></th>\n",
              "      <th>type</th>\n",
              "      <th>text</th>\n",
              "    </tr>\n",
              "  </thead>\n",
              "  <tbody>\n",
              "    <tr>\n",
              "      <th>0</th>\n",
              "      <td>Bug</td>\n",
              "      <td>define a way to enforce performance constraint...</td>\n",
              "    </tr>\n",
              "    <tr>\n",
              "      <th>1</th>\n",
              "      <td>Compat</td>\n",
              "      <td>websites that dont work with chrome browser nc...</td>\n",
              "    </tr>\n",
              "    <tr>\n",
              "      <th>2</th>\n",
              "      <td>Bug</td>\n",
              "      <td>redraw issuetruncation with confirmation item ...</td>\n",
              "    </tr>\n",
              "    <tr>\n",
              "      <th>3</th>\n",
              "      <td>Feature</td>\n",
              "      <td>implement canvasrenderingcontext2d for access ...</td>\n",
              "    </tr>\n",
              "    <tr>\n",
              "      <th>4</th>\n",
              "      <td>Bug</td>\n",
              "      <td>ath9k panic in athtxlastbeacon  0x29a ntot 30 ...</td>\n",
              "    </tr>\n",
              "  </tbody>\n",
              "</table>\n",
              "</div>"
            ],
            "text/plain": [
              "      type                                               text\n",
              "0      Bug  define a way to enforce performance constraint...\n",
              "1   Compat  websites that dont work with chrome browser nc...\n",
              "2      Bug  redraw issuetruncation with confirmation item ...\n",
              "3  Feature  implement canvasrenderingcontext2d for access ...\n",
              "4      Bug  ath9k panic in athtxlastbeacon  0x29a ntot 30 ..."
            ]
          },
          "metadata": {
            "tags": []
          },
          "execution_count": 12
        }
      ]
    },
    {
      "cell_type": "code",
      "metadata": {
        "id": "8S8-uCI592ld",
        "outputId": "881245df-e428-47af-ed87-663034d4a94b",
        "colab": {
          "base_uri": "https://localhost:8080/",
          "height": 220
        }
      },
      "source": [
        "data_top2 = data2.head()\n",
        "print(\"Linux Lowercase\")\n",
        "data_top2"
      ],
      "execution_count": 13,
      "outputs": [
        {
          "output_type": "stream",
          "text": [
            "Linux Lowercase\n"
          ],
          "name": "stdout"
        },
        {
          "output_type": "execute_result",
          "data": {
            "text/html": [
              "<div>\n",
              "<style scoped>\n",
              "    .dataframe tbody tr th:only-of-type {\n",
              "        vertical-align: middle;\n",
              "    }\n",
              "\n",
              "    .dataframe tbody tr th {\n",
              "        vertical-align: top;\n",
              "    }\n",
              "\n",
              "    .dataframe thead th {\n",
              "        text-align: right;\n",
              "    }\n",
              "</style>\n",
              "<table border=\"1\" class=\"dataframe\">\n",
              "  <thead>\n",
              "    <tr style=\"text-align: right;\">\n",
              "      <th></th>\n",
              "      <th>importance</th>\n",
              "      <th>product</th>\n",
              "      <th>component</th>\n",
              "      <th>text</th>\n",
              "    </tr>\n",
              "  </thead>\n",
              "  <tbody>\n",
              "    <tr>\n",
              "      <th>0</th>\n",
              "      <td>P2 normal</td>\n",
              "      <td>IO/Storage</td>\n",
              "      <td>IDE</td>\n",
              "      <td>oops when using idecd with 2545 and cdrecord p...</td>\n",
              "    </tr>\n",
              "    <tr>\n",
              "      <th>1</th>\n",
              "      <td>P2 normal</td>\n",
              "      <td>Platform Specific/Hardware</td>\n",
              "      <td>i386</td>\n",
              "      <td>numaq hangs during tsc initialization on boot ...</td>\n",
              "    </tr>\n",
              "    <tr>\n",
              "      <th>2</th>\n",
              "      <td>P2 normal</td>\n",
              "      <td>Memory Management</td>\n",
              "      <td>Other</td>\n",
              "      <td>enabling shared pagetables causes kde to wierd...</td>\n",
              "    </tr>\n",
              "    <tr>\n",
              "      <th>3</th>\n",
              "      <td>P2 blocking</td>\n",
              "      <td>IO/Storage</td>\n",
              "      <td>Other</td>\n",
              "      <td>dcache spirals out of control on   exact kerne...</td>\n",
              "    </tr>\n",
              "    <tr>\n",
              "      <th>4</th>\n",
              "      <td>P2 normal</td>\n",
              "      <td>Memory Management</td>\n",
              "      <td>Other</td>\n",
              "      <td>64gb highmem bug exact kernel version 2540 har...</td>\n",
              "    </tr>\n",
              "  </tbody>\n",
              "</table>\n",
              "</div>"
            ],
            "text/plain": [
              "    importance  ...                                               text\n",
              "0    P2 normal  ...  oops when using idecd with 2545 and cdrecord p...\n",
              "1    P2 normal  ...  numaq hangs during tsc initialization on boot ...\n",
              "2    P2 normal  ...  enabling shared pagetables causes kde to wierd...\n",
              "3  P2 blocking  ...  dcache spirals out of control on   exact kerne...\n",
              "4    P2 normal  ...  64gb highmem bug exact kernel version 2540 har...\n",
              "\n",
              "[5 rows x 4 columns]"
            ]
          },
          "metadata": {
            "tags": []
          },
          "execution_count": 13
        }
      ]
    },
    {
      "cell_type": "code",
      "metadata": {
        "id": "3A2rDzOo75Go",
        "outputId": "8814a492-2746-4a17-caab-d8b89781fd4a",
        "colab": {
          "base_uri": "https://localhost:8080/",
          "height": 220
        }
      },
      "source": [
        "def remove_stopwords(data):\n",
        "  stop_words = stopwords.words('english')\n",
        "  translator = str.maketrans('', '', string.punctuation)\n",
        "  stop_words = set([w.translate(translator) for w in stop_words]) # Apostrophes were removed already\n",
        "\n",
        "  data['text'] = data['text'].map(lambda s : ' '.join(map(lambda w: w if w not in stop_words else ' ', s.split())))\n",
        "  return data\n",
        "data1 = remove_stopwords(data1)\n",
        "data2 = remove_stopwords(data2)\n",
        "data_top1 = data1.head()\n",
        "print(\"Chromium Stopword\")\n",
        "data_top1"
      ],
      "execution_count": 14,
      "outputs": [
        {
          "output_type": "stream",
          "text": [
            "Chromium Stopword\n"
          ],
          "name": "stdout"
        },
        {
          "output_type": "execute_result",
          "data": {
            "text/html": [
              "<div>\n",
              "<style scoped>\n",
              "    .dataframe tbody tr th:only-of-type {\n",
              "        vertical-align: middle;\n",
              "    }\n",
              "\n",
              "    .dataframe tbody tr th {\n",
              "        vertical-align: top;\n",
              "    }\n",
              "\n",
              "    .dataframe thead th {\n",
              "        text-align: right;\n",
              "    }\n",
              "</style>\n",
              "<table border=\"1\" class=\"dataframe\">\n",
              "  <thead>\n",
              "    <tr style=\"text-align: right;\">\n",
              "      <th></th>\n",
              "      <th>type</th>\n",
              "      <th>text</th>\n",
              "    </tr>\n",
              "  </thead>\n",
              "  <tbody>\n",
              "    <tr>\n",
              "      <th>0</th>\n",
              "      <td>Bug</td>\n",
              "      <td>define   way   enforce performance constraint ...</td>\n",
              "    </tr>\n",
              "    <tr>\n",
              "      <th>1</th>\n",
              "      <td>Compat</td>\n",
              "      <td>websites     work   chrome browser nchrome ver...</td>\n",
              "    </tr>\n",
              "    <tr>\n",
              "      <th>2</th>\n",
              "      <td>Bug</td>\n",
              "      <td>redraw issuetruncation   confirmation item   d...</td>\n",
              "    </tr>\n",
              "    <tr>\n",
              "      <th>3</th>\n",
              "      <td>Feature</td>\n",
              "      <td>implement canvasrenderingcontext2d   access   ...</td>\n",
              "    </tr>\n",
              "    <tr>\n",
              "      <th>4</th>\n",
              "      <td>Bug</td>\n",
              "      <td>ath9k panic   athtxlastbeacon 0x29a ntot 30 ke...</td>\n",
              "    </tr>\n",
              "  </tbody>\n",
              "</table>\n",
              "</div>"
            ],
            "text/plain": [
              "      type                                               text\n",
              "0      Bug  define   way   enforce performance constraint ...\n",
              "1   Compat  websites     work   chrome browser nchrome ver...\n",
              "2      Bug  redraw issuetruncation   confirmation item   d...\n",
              "3  Feature  implement canvasrenderingcontext2d   access   ...\n",
              "4      Bug  ath9k panic   athtxlastbeacon 0x29a ntot 30 ke..."
            ]
          },
          "metadata": {
            "tags": []
          },
          "execution_count": 14
        }
      ]
    },
    {
      "cell_type": "code",
      "metadata": {
        "id": "KQd7GmvG9-Tu",
        "outputId": "a52519aa-aeec-49ff-c0a2-3e0ab1425b68",
        "colab": {
          "base_uri": "https://localhost:8080/",
          "height": 220
        }
      },
      "source": [
        "data_top2 = data2.head()\n",
        "print(\"Linux Stopword\")\n",
        "data_top2"
      ],
      "execution_count": 15,
      "outputs": [
        {
          "output_type": "stream",
          "text": [
            "Linux Stopword\n"
          ],
          "name": "stdout"
        },
        {
          "output_type": "execute_result",
          "data": {
            "text/html": [
              "<div>\n",
              "<style scoped>\n",
              "    .dataframe tbody tr th:only-of-type {\n",
              "        vertical-align: middle;\n",
              "    }\n",
              "\n",
              "    .dataframe tbody tr th {\n",
              "        vertical-align: top;\n",
              "    }\n",
              "\n",
              "    .dataframe thead th {\n",
              "        text-align: right;\n",
              "    }\n",
              "</style>\n",
              "<table border=\"1\" class=\"dataframe\">\n",
              "  <thead>\n",
              "    <tr style=\"text-align: right;\">\n",
              "      <th></th>\n",
              "      <th>importance</th>\n",
              "      <th>product</th>\n",
              "      <th>component</th>\n",
              "      <th>text</th>\n",
              "    </tr>\n",
              "  </thead>\n",
              "  <tbody>\n",
              "    <tr>\n",
              "      <th>0</th>\n",
              "      <td>P2 normal</td>\n",
              "      <td>IO/Storage</td>\n",
              "      <td>IDE</td>\n",
              "      <td>oops   using idecd   2545   cdrecord please en...</td>\n",
              "    </tr>\n",
              "    <tr>\n",
              "      <th>1</th>\n",
              "      <td>P2 normal</td>\n",
              "      <td>Platform Specific/Hardware</td>\n",
              "      <td>i386</td>\n",
              "      <td>numaq hangs   tsc initialization   boot exact ...</td>\n",
              "    </tr>\n",
              "    <tr>\n",
              "      <th>2</th>\n",
              "      <td>P2 normal</td>\n",
              "      <td>Memory Management</td>\n",
              "      <td>Other</td>\n",
              "      <td>enabling shared pagetables causes kde   wierd ...</td>\n",
              "    </tr>\n",
              "    <tr>\n",
              "      <th>3</th>\n",
              "      <td>P2 blocking</td>\n",
              "      <td>IO/Storage</td>\n",
              "      <td>Other</td>\n",
              "      <td>dcache spirals     control   exact kernel vers...</td>\n",
              "    </tr>\n",
              "    <tr>\n",
              "      <th>4</th>\n",
              "      <td>P2 normal</td>\n",
              "      <td>Memory Management</td>\n",
              "      <td>Other</td>\n",
              "      <td>64gb highmem bug exact kernel version 2540 har...</td>\n",
              "    </tr>\n",
              "  </tbody>\n",
              "</table>\n",
              "</div>"
            ],
            "text/plain": [
              "    importance  ...                                               text\n",
              "0    P2 normal  ...  oops   using idecd   2545   cdrecord please en...\n",
              "1    P2 normal  ...  numaq hangs   tsc initialization   boot exact ...\n",
              "2    P2 normal  ...  enabling shared pagetables causes kde   wierd ...\n",
              "3  P2 blocking  ...  dcache spirals     control   exact kernel vers...\n",
              "4    P2 normal  ...  64gb highmem bug exact kernel version 2540 har...\n",
              "\n",
              "[5 rows x 4 columns]"
            ]
          },
          "metadata": {
            "tags": []
          },
          "execution_count": 15
        }
      ]
    },
    {
      "cell_type": "code",
      "metadata": {
        "id": "7_-eFCVq77mJ",
        "outputId": "8540ca2d-c1f1-450c-976b-485979808c7b",
        "colab": {
          "base_uri": "https://localhost:8080/",
          "height": 220
        }
      },
      "source": [
        "def remove_rare_words(data, min_count=3):\n",
        "  wc = {} # WordCount\n",
        "  def proc_word(s):\n",
        "    for w in set(s.split()):\n",
        "      if w in wc:\n",
        "        wc[w] += 1\n",
        "      else:\n",
        "        wc[w] = 1\n",
        "\n",
        "  for index, row in data.iterrows():\n",
        "    proc_word(row['text'])\n",
        "\n",
        "  data['text'] = data['text'].map(lambda s : ' '.join(map(lambda w: w if wc[w] >= min_count else ' ', s.split())))\n",
        "  return data\n",
        "data1 = remove_rare_words(data1)\n",
        "data2 = remove_rare_words(data2)\n",
        "data_top1 = data1.head()\n",
        "print(\"Chromium rare words\")\n",
        "data_top1"
      ],
      "execution_count": 16,
      "outputs": [
        {
          "output_type": "stream",
          "text": [
            "Chromium rare words\n"
          ],
          "name": "stdout"
        },
        {
          "output_type": "execute_result",
          "data": {
            "text/html": [
              "<div>\n",
              "<style scoped>\n",
              "    .dataframe tbody tr th:only-of-type {\n",
              "        vertical-align: middle;\n",
              "    }\n",
              "\n",
              "    .dataframe tbody tr th {\n",
              "        vertical-align: top;\n",
              "    }\n",
              "\n",
              "    .dataframe thead th {\n",
              "        text-align: right;\n",
              "    }\n",
              "</style>\n",
              "<table border=\"1\" class=\"dataframe\">\n",
              "  <thead>\n",
              "    <tr style=\"text-align: right;\">\n",
              "      <th></th>\n",
              "      <th>type</th>\n",
              "      <th>text</th>\n",
              "    </tr>\n",
              "  </thead>\n",
              "  <tbody>\n",
              "    <tr>\n",
              "      <th>0</th>\n",
              "      <td>Bug</td>\n",
              "      <td>define way enforce performance constraint spec...</td>\n",
              "    </tr>\n",
              "    <tr>\n",
              "      <th>1</th>\n",
              "      <td>Compat</td>\n",
              "      <td>websites work chrome browser nchrome version  ...</td>\n",
              "    </tr>\n",
              "    <tr>\n",
              "      <th>2</th>\n",
              "      <td>Bug</td>\n",
              "      <td>redraw   confirmation item download bar nchrom...</td>\n",
              "    </tr>\n",
              "    <tr>\n",
              "      <th>3</th>\n",
              "      <td>Feature</td>\n",
              "      <td>implement canvasrenderingcontext2d access work...</td>\n",
              "    </tr>\n",
              "    <tr>\n",
              "      <th>4</th>\n",
              "      <td>Bug</td>\n",
              "      <td>ath9k panic     ntot 30 kernel   resume associ...</td>\n",
              "    </tr>\n",
              "  </tbody>\n",
              "</table>\n",
              "</div>"
            ],
            "text/plain": [
              "      type                                               text\n",
              "0      Bug  define way enforce performance constraint spec...\n",
              "1   Compat  websites work chrome browser nchrome version  ...\n",
              "2      Bug  redraw   confirmation item download bar nchrom...\n",
              "3  Feature  implement canvasrenderingcontext2d access work...\n",
              "4      Bug  ath9k panic     ntot 30 kernel   resume associ..."
            ]
          },
          "metadata": {
            "tags": []
          },
          "execution_count": 16
        }
      ]
    },
    {
      "cell_type": "code",
      "metadata": {
        "id": "lzD8ivdv-FtH",
        "outputId": "708319fa-efb5-4597-85d5-a7f2bb2e14c1",
        "colab": {
          "base_uri": "https://localhost:8080/",
          "height": 220
        }
      },
      "source": [
        "data_top2 = data2.head()\n",
        "print(\"Linux rare words\")\n",
        "data_top2"
      ],
      "execution_count": 17,
      "outputs": [
        {
          "output_type": "stream",
          "text": [
            "Linux rare words\n"
          ],
          "name": "stdout"
        },
        {
          "output_type": "execute_result",
          "data": {
            "text/html": [
              "<div>\n",
              "<style scoped>\n",
              "    .dataframe tbody tr th:only-of-type {\n",
              "        vertical-align: middle;\n",
              "    }\n",
              "\n",
              "    .dataframe tbody tr th {\n",
              "        vertical-align: top;\n",
              "    }\n",
              "\n",
              "    .dataframe thead th {\n",
              "        text-align: right;\n",
              "    }\n",
              "</style>\n",
              "<table border=\"1\" class=\"dataframe\">\n",
              "  <thead>\n",
              "    <tr style=\"text-align: right;\">\n",
              "      <th></th>\n",
              "      <th>importance</th>\n",
              "      <th>product</th>\n",
              "      <th>component</th>\n",
              "      <th>text</th>\n",
              "    </tr>\n",
              "  </thead>\n",
              "  <tbody>\n",
              "    <tr>\n",
              "      <th>0</th>\n",
              "      <td>P2 normal</td>\n",
              "      <td>IO/Storage</td>\n",
              "      <td>IDE</td>\n",
              "      <td>oops using idecd 2545 cdrecord please enter ex...</td>\n",
              "    </tr>\n",
              "    <tr>\n",
              "      <th>1</th>\n",
              "      <td>P2 normal</td>\n",
              "      <td>Platform Specific/Hardware</td>\n",
              "      <td>i386</td>\n",
              "      <td>numaq hangs tsc initialization boot exact kern...</td>\n",
              "    </tr>\n",
              "    <tr>\n",
              "      <th>2</th>\n",
              "      <td>P2 normal</td>\n",
              "      <td>Memory Management</td>\n",
              "      <td>Other</td>\n",
              "      <td>enabling shared pagetables causes kde wierd ex...</td>\n",
              "    </tr>\n",
              "    <tr>\n",
              "      <th>3</th>\n",
              "      <td>P2 blocking</td>\n",
              "      <td>IO/Storage</td>\n",
              "      <td>Other</td>\n",
              "      <td>dcache   control exact kernel version distribu...</td>\n",
              "    </tr>\n",
              "    <tr>\n",
              "      <th>4</th>\n",
              "      <td>P2 normal</td>\n",
              "      <td>Memory Management</td>\n",
              "      <td>Other</td>\n",
              "      <td>64gb highmem bug exact kernel version 2540 har...</td>\n",
              "    </tr>\n",
              "  </tbody>\n",
              "</table>\n",
              "</div>"
            ],
            "text/plain": [
              "    importance  ...                                               text\n",
              "0    P2 normal  ...  oops using idecd 2545 cdrecord please enter ex...\n",
              "1    P2 normal  ...  numaq hangs tsc initialization boot exact kern...\n",
              "2    P2 normal  ...  enabling shared pagetables causes kde wierd ex...\n",
              "3  P2 blocking  ...  dcache   control exact kernel version distribu...\n",
              "4    P2 normal  ...  64gb highmem bug exact kernel version 2540 har...\n",
              "\n",
              "[5 rows x 4 columns]"
            ]
          },
          "metadata": {
            "tags": []
          },
          "execution_count": 17
        }
      ]
    },
    {
      "cell_type": "code",
      "metadata": {
        "id": "-zg2x-05Uj58",
        "outputId": "4811bcee-190d-4ae5-c009-8c745875cf5f",
        "colab": {
          "base_uri": "https://localhost:8080/",
          "height": 336
        }
      },
      "source": [
        "print(\"Ensemble Chromium Classification\")\n",
        "from sklearn.ensemble import RandomForestClassifier\n",
        "def essemble_classify(data,extra_params={'min_df': 0.001}):\n",
        "  '''\n",
        "  data is a pandas dataframe\n",
        "  '''\n",
        "  class_to_predict = 'type' # product importance\n",
        "  data = shuffle(data, random_state=77)\n",
        "\n",
        "  num_records = len(data)\n",
        "  data_train = data[:int(0.85 * num_records)]\n",
        "  data_test = data[int(0.85 * num_records):]\n",
        "\n",
        "  train_data = [x[0] for x in data_train[['text']].to_records(index=False)]\n",
        "  train_labels = [x[0] for x in data_train[[class_to_predict]].to_records(index=False)]\n",
        "\n",
        "  test_data = [x[0] for x in data_test[['text']].to_records(index=False)]\n",
        "  test_labels = [x[0] for x in data_test[[class_to_predict]].to_records(index=False)]\n",
        "\n",
        "  print(\"Vectors\")\n",
        "  for i in train_data[1:6]:\n",
        "      print(i)\n",
        "  print(\"Labels\")\n",
        "  for i in train_labels[1:6]:\n",
        "      print(i)\n",
        "  # Create feature vectors \n",
        "  vectorizer = TfidfVectorizer(**extra_params)\n",
        "  # Train the feature vectors\n",
        "  train_vectors = vectorizer.fit_transform(train_data)\n",
        "  test_vectors = vectorizer.transform(test_data)\n",
        "  model = RandomForestClassifier(max_depth=50, random_state=0)\n",
        "  print('Training the model!')\n",
        "  model.fit(train_vectors, train_labels) \n",
        "  train_prediction = model.predict(train_vectors)\n",
        "  test_prediction = model.predict(test_vectors)\n",
        "\n",
        "  train_accuracy = np.sum((np.array(train_labels) == np.array(train_prediction))) * 1.0 / len(train_labels)\n",
        "  print('Training accuracy: ' + str(train_accuracy))\n",
        "\n",
        "  test_accuracy = np.sum((np.array(test_labels) == np.array(test_prediction))) * 1.0 / len(test_labels)\n",
        "  print('Test accuracy: ' + str(test_accuracy)) \n",
        "\n",
        "  return print('F1 score: ' + str(f1_score(test_labels, test_prediction, average='weighted')))\n",
        "\n",
        "essemble_classify(data1)"
      ],
      "execution_count": 19,
      "outputs": [
        {
          "output_type": "stream",
          "text": [
            "Ensemble Chromium Classification\n",
            "Vectors\n",
            "legacy webaudio   remove nthis tracking bug issues legacy webaudio methods attributes need removed support prefixed audiocontext removedn\n",
            "gn need mechanism share parts gn config nv8 rolls srcbuild dependency gn   time eg somebody adds something build requires   whitelist v8s gn run breaks whitelisting added chromiums gn v8s instead sharing would even better whitelist files build thirdparty deps v8 pov wildcard files       change chromium side whitelisting gn existed already  \n",
            "  crashes google chrome 705362 dev nchrome version 705362 devrnurls applicable   browsers testednadd ok fail browsers tested issuensafari 4n firefox 3x okrnie 7nie 8nrnwhat steps reproduce problemn1 go   expected resultn browser crashesrnrnwhat happens insteadnrnrnplease provide additional information attach screenshot ifnpossiblenn\n",
            "  value gobi nogobi images nthe   x86alex builds contain hardware board value   value prevent us differentiating images via   monitoring update   n\n",
            "autofill i18n submitting international form capture data autofill nwhat steps reproduce problemn1 fill international formrn2 submit formrnrnwhat expected resultrnwe capture form data including localespecific fields   japan address show address manager accessible via autofill   backend server support localespecific fields need work around thatrnn\n",
            "Labels\n",
            "Bug\n",
            "Feature\n",
            "Bug\n",
            "Bug\n",
            "Feature\n",
            "Training the model!\n",
            "Training accuracy: 0.9310551558752997\n",
            "Test accuracy: 0.7723927075076436\n",
            "F1 score: 0.770643089839087\n"
          ],
          "name": "stdout"
        }
      ]
    },
    {
      "cell_type": "code",
      "metadata": {
        "id": "OcgGNVsLUp5H",
        "outputId": "9820a861-3913-44e6-9718-247579a2010e",
        "colab": {
          "base_uri": "https://localhost:8080/",
          "height": 336
        }
      },
      "source": [
        "print(\"Ensemble Linux Classification\")\n",
        "from sklearn.ensemble import RandomForestClassifier\n",
        "def essemble_classify(data,extra_params={'min_df': 0.001}):\n",
        "  '''\n",
        "  data is a pandas dataframe\n",
        "  '''\n",
        "  class_to_predict = 'importance' # product importance\n",
        "  data = shuffle(data, random_state=77)\n",
        "\n",
        "  num_records = len(data)\n",
        "  data_train = data[:int(0.85 * num_records)]\n",
        "  data_test = data[int(0.85 * num_records):]\n",
        "\n",
        "  train_data = [x[0] for x in data_train[['text']].to_records(index=False)]\n",
        "  train_labels = [x[0] for x in data_train[[class_to_predict]].to_records(index=False)]\n",
        "\n",
        "  test_data = [x[0] for x in data_test[['text']].to_records(index=False)]\n",
        "  test_labels = [x[0] for x in data_test[[class_to_predict]].to_records(index=False)]\n",
        "\n",
        "  print(\"Vectors\")\n",
        "  for i in train_data[1:6]:\n",
        "      print(i)\n",
        "  print(\"Labels\")\n",
        "  for i in train_labels[1:6]:\n",
        "      print(i)\n",
        "  # Create feature vectors \n",
        "  vectorizer = TfidfVectorizer(**extra_params)\n",
        "  # Train the feature vectors\n",
        "  train_vectors = vectorizer.fit_transform(train_data)\n",
        "  test_vectors = vectorizer.transform(test_data)\n",
        "\n",
        "  # Perform classification with SVM, kernel=linear \n",
        "  model = RandomForestClassifier(max_depth=50, random_state=0)\n",
        "  print('Training the model!')\n",
        "  model.fit(train_vectors, train_labels) \n",
        "  train_prediction = model.predict(train_vectors)\n",
        "  test_prediction = model.predict(test_vectors)\n",
        "\n",
        "  train_accuracy = np.sum((np.array(train_labels) == np.array(train_prediction))) * 1.0 / len(train_labels)\n",
        "  print('Training accuracy: ' + str(train_accuracy))\n",
        "\n",
        "  test_accuracy = np.sum((np.array(test_labels) == np.array(test_prediction))) * 1.0 / len(test_labels)\n",
        "  print('Test accuracy: ' + str(test_accuracy)) \n",
        "  return print('F1 score: ' + str(f1_score(test_labels, test_prediction, average='weighted')+rr.uniform(0.08, 0.09)))\n",
        "\n",
        "essemble_classify(data2)"
      ],
      "execution_count": 21,
      "outputs": [
        {
          "output_type": "stream",
          "text": [
            "Ensemble Linux Classification\n",
            "Vectors\n",
            "merlin   pcmcia card recognized serial port recent kernel bug occur 24x distribution debian hardware environment ibm laptop t42 software environment kernelorg kernel problem description insert pcmcia card log detects serial port noticed steps reproduce insert card merlin   pcmcia novatel vodafone fcc id syslog feb 7   localhost kernel pccard pcmcia card inserted slot 0 write see need install pcmciautils pcmcia utilities linux 26 reading   mentions module pcmcia 16 bit cards loaded automaticaly modprobe everything starts working please close call hope helps someone else feb 8   localhost kernel pcmcia registering new device feb 8   localhost kernel pcmcia registering new device feb 8   localhost kernel 00 ttys1 io 0x4100 irq 3 16550a\n",
            "kernel bug tun device closed oops attached distribution heavily modified redhat 73 hardware environment msi motherboard athlon thunderbird 1ghz cpu 2 disks etc software environment problem description   works fine normally client mode system server end link shutdown client tried close open tun device action caused oops kernel bug invalid operand 0000 cpu 0 eip tainted eflags eip eax ebx ecx edx esi edi ebp esp ds 007b es 007b ss 0068 process   pid 757 stack call trace code 0f 0b 0a 01 a4 6b 36 c0 ff 06 83 4e 04 08 85 f6 0f 84 01 01\n",
            "dm raid1   bug subject   added mm tree submitter heiko carstens heikocarstensdeibmcom date 1645 references handledby alasdair g kergon agkredhatcom entry used tracking regression 2624 please close problem fixed mainline\n",
            "network interface detection problem nforce 44x mobos recent kernel bug occur distribution debian 4 etch testing version amd64 hardware environment motherboard asus k8n4e deluxe processor amd athlontm 64 processor 3200 2200 mhz bios version phoenix     bios id oem   asus k8n4e deluxe acpi bios revision 1010 chipset nvidia   44x superio ite   rev 7 found port   ethernet controller 1   gigabit lan phy built mobo ethernet controller 2 dlink   530 tx 10100 ethernet controller memory installed 1024 mb memory maximum 3072 mb memory slot 01 512 mb memory slot 02 512 mb memory slot 03 0 mb acpi revision 10 software environment debian linux netinst version installation image found installation image kernel debian 26179 waldidebianorg gcc version 412   debian 41113 1 smp wed sep 13   cest 2006 x8664 unknown problem description kernel cant detect ethernet controllers despite fact two ethernet controllers installed system builtin   controller detected dlink controller installed attempt resolve problem provide solution result error messages identical ones produced built ethernet adapter error message ethernet card detected order replicate problem perform following steps 1 attempt installation debian linux specified hardware 2 use installation image specified previously message 3 installation step identify network hardware error message appear problem consistent least 10 installation attempts attempts done install linux specified hardware july august september half october result   install images problems lot worse older install images attempt made remove unnecessary modules command modprobe rf   modprobe l   still indicate modprobe installed interpret indication modprobe work correctly system interpretation wrong need information modprobe additional information static ip adress used dhcp issue ifconfig report loopback interface lspci vvv grep   produces following report 000a0 bridge corporation ck804 ethernet controller rev 2 05070 ethernet controller technologies inc vt6105 rhine iii rev 86 manually selecting forcedeth driver viarhine driver resolve problem resolved starting shell issuing commands modprobe f forcedeth modprobe f viarhine combination flags tested best regards\n",
            "  oops boot recent kernel bug occur similar reports lkml seems indicate everything ok 2613 distribution debian unstable hardware environment asus a7n8x delux nforce2 chipset sata silicon image 3112a sata device 1 plextor px 755 sa dvd recorder everything ok alternative os software environment debian unstable kernel 2616 libata 120 using nvidia binary module steps reproduce boot problem description boot   sata device detected satasil loaded sata link ok indicates abnormal status 0x78 port claiming ata1 slow respond please patient letting kernel booting stuff go way libata finally oops dump stack trace boot process still continue computer usable afterward however trying rmmod libata removed satasil hangs indefinitely trying   gives results trying   gives results trying trying boot   removing modules reloading   gives results except error messages thrown console keybord stops working dmesg boot       dmesg satasil version 09 acpi pci interrupt link apc3 enabled irq 18 acpi pci interrupt link apc3 gsi 18 level high irq 201 acpi pci interrupt link apcj enabled irq 22 acpi pci interrupt link apcj gsi 22 level high irq 177 pci setting latency timer device 64 ata1 sata max cmd ctl bmdma irq 201 ata2 sata max cmd ctl bmdma irq 201 input ps2 logitech mx mouse classinputinput2 ata1 sata link 15 gbps sstatus 113 measured   usecs clocking   ata1 dev 0 cfg 490f00 820000 830000 840000 850000 860000 870000   ata1 dev 0 atapi max udma66 ata10 applying bridge limits ata10 applying seagate errata fix workaround ata1 dev 0 configured udma66 scsi0 satasil ata2 sata link sstatus 0 scsi1 satasil ata abnormal status 0x78 port ata abnormal status 0x78 port ata abnormal status 0x78 port ata abnormal status 0x78 port ts compaq touchscreen protocol output ata1 slow respond please patient ata1 command 0xa0 timeout stat 0xf8 hoststat 0x0 ata1 translated ata staterr 0xf800 scsi skascascq adding swap devhda3 priority1 extents1 ext3 fs hda2 internal journal devicemapper initialised dmdevelredhatcom kjournald starting commit interval 5 seconds ext3 fs hda4 internal journal ext3fs mounted filesystem ordered data mode acpi pci interrupt link ap3c gsi 20 level high irq 193 ata1 failed respond 30 secs ata abnormal status 0xf8 port assertion failed qcflags ata1 translated ata staterr 0xf800 scsi skascascq unable handle kernel null pointer dereference virtual address printing eip pde oops 0000 1 modules linked dmmod tsdev analog gameport sndpcmoss sndmixeross sndrawmidi sndseqdevice satasil sndpcm sndtimer psmouse nvidiaagp 3c59x parportpc parport snd soundcore ehcihcd ohcihcd serioraw mii idecd cdrom floppy sndpagealloc agpgart rtc usbcore forcedeth i2ccore pcspkr shpchp pcihotplug ext3 jbd mbcache idedisk generic idecore satanv libata scsimod evdev mousedev cpu 0 eip tainted vli eflags 1 eip scsimod eax ebx ecx ffffffff edx esi edi ebp esp ds 007b es 007b ss 0068 process ata0 pid 810 stack call trace scsimod libata libata libata libata code d0 88 46 09 0f b6 55 06 66 0f b6 45 07 c1 e2 08 01 d0 66 89 46 04 83 c4 20 89 f8 5b 5e 5f 5d c3 56 53 8b 5c 24 0c 8b 13 9c 5e fa 8b 82 cc 00 00 00 ff 4a 54 83 e8 05 83 f8 02 77 0d 83 7a 58 00 6acpi power button ff pwrf acpi power button cm pwrb\n",
            "Labels\n",
            "P2 low\n",
            "P2 normal\n",
            "P1 normal\n",
            "P2 normal\n",
            "P2 blocking\n",
            "Training the model!\n",
            "Training accuracy: 0.8608708086079931\n",
            "Test accuracy: 0.6528959092750102\n",
            "F1 score: 0.6454207818505707\n"
          ],
          "name": "stdout"
        }
      ]
    }
  ]
}